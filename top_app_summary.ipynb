{
  "nbformat": 4,
  "nbformat_minor": 0,
  "metadata": {
    "colab": {
      "provenance": [],
      "machine_shape": "hm"
    },
    "kernelspec": {
      "name": "python3",
      "display_name": "Python 3"
    },
    "language_info": {
      "name": "python"
    }
  },
  "cells": [
    {
      "cell_type": "code",
      "execution_count": 1,
      "metadata": {
        "colab": {
          "base_uri": "https://localhost:8080/"
        },
        "id": "zNVPEGdaZqWj",
        "outputId": "a3593566-da2c-447c-d644-037486c0bd3f"
      },
      "outputs": [
        {
          "output_type": "stream",
          "name": "stdout",
          "text": [
            "Mounted at /content/gdrive\n"
          ]
        }
      ],
      "source": [
        "#connect with drive\n",
        "from google.colab import drive\n",
        "drive.mount('/content/gdrive', force_remount=True)"
      ]
    },
    {
      "cell_type": "code",
      "source": [
        "%cd /content/gdrive/MyDrive/Bo_RA/"
      ],
      "metadata": {
        "colab": {
          "base_uri": "https://localhost:8080/"
        },
        "id": "R_WYGD4oaCQC",
        "outputId": "5ecfd3dd-7098-4401-c313-639fe22f4510"
      },
      "execution_count": 2,
      "outputs": [
        {
          "output_type": "stream",
          "name": "stdout",
          "text": [
            "/content/gdrive/MyDrive/Bo_RA\n"
          ]
        }
      ]
    },
    {
      "cell_type": "code",
      "source": [
        "import pandas as pd"
      ],
      "metadata": {
        "id": "JUs33H95aN03"
      },
      "execution_count": 3,
      "outputs": []
    },
    {
      "cell_type": "code",
      "source": [
        "t1_unit = pd.read_stata('top_units_US_unified_2020_10k.dta')[['app_id', 'platform', 'app_id_unified']]\n",
        "t1_revenue = pd.read_stata('top_revenue_US_unified_2020_10k.dta')[['app_id', 'platform', 'app_id_unified']]"
      ],
      "metadata": {
        "id": "4gBlKbP0RQCf"
      },
      "execution_count": 7,
      "outputs": []
    },
    {
      "cell_type": "code",
      "source": [
        "and_t1_unit = set(t1_unit[t1_unit['platform']=='android']['app_id']) #8719\n",
        "ios_t1_unit = set(t1_unit[t1_unit['platform']=='ios']['app_id']) #9327\n",
        "and_t1_revenue = set(t1_revenue[t1_revenue['platform']=='android']['app_id']) #7530\n",
        "ios_t1_revenue = set(t1_revenue[t1_revenue['platform']=='ios']['app_id']) #10026"
      ],
      "metadata": {
        "id": "LRsN25oLWfil"
      },
      "execution_count": 8,
      "outputs": []
    },
    {
      "cell_type": "code",
      "source": [
        "len(set(pd.read_stata('top_revenue_US_unified_2020_10k.dta')['app_id_unified']))#check"
      ],
      "metadata": {
        "colab": {
          "base_uri": "https://localhost:8080/"
        },
        "id": "UhlAM_MPW5SX",
        "outputId": "2513c8e8-3e34-41cc-d55a-bc72732b1caf"
      },
      "execution_count": 9,
      "outputs": [
        {
          "output_type": "execute_result",
          "data": {
            "text/plain": [
              "10000"
            ]
          },
          "metadata": {},
          "execution_count": 9
        }
      ]
    },
    {
      "cell_type": "code",
      "source": [
        "app_t2_unit = set(pd.read_stata('top_units_US_panel_2018-2021_tsfilled.dta')['app_id_unified'])#6518\n",
        "t1_unit['is_t2'] = t1_unit['app_id_unified'].apply(lambda x: 1 if x in app_t2_unit else 0)\n",
        "ios_t2_unit = t1_unit.loc[(t1_unit['is_t2'] == 1)&(t1_unit['platform']=='ios')]['app_id'] #7330\n",
        "and_t2_unit = t1_unit.loc[(t1_unit['is_t2'] == 1)&(t1_unit['platform']=='android')]['app_id'] #6951"
      ],
      "metadata": {
        "id": "7Qzn1sptaE6D"
      },
      "execution_count": 10,
      "outputs": []
    },
    {
      "cell_type": "code",
      "source": [
        "app_t2_revenue = set(pd.read_stata('top_revenue_US_panel_2018-2021_tsfilled.dta')['app_id_unified'])#6032\n",
        "t1_revenue['is_t2'] = t1_revenue['app_id_unified'].apply(lambda x: 1 if x in app_t2_revenue else 0)\n",
        "ios_t2_revenue = t1_revenue.loc[(t1_revenue['is_t2'] == 1)&(t1_revenue['platform']=='ios')]['app_id'] #6733\n",
        "and_t2_revenue = t1_revenue.loc[(t1_revenue['is_t2'] == 1)&(t1_revenue['platform']=='android')]['app_id'] #6484"
      ],
      "metadata": {
        "id": "DKIal2GibwV4"
      },
      "execution_count": 11,
      "outputs": []
    },
    {
      "cell_type": "code",
      "source": [
        "ios_df = pd.read_pickle('ios_app.pickle')[['app_id', 'version', 'description', 'date',\n",
        "                 'len_word', 'len_char', 'update_by_num', 'len_char_ttl',\n",
        "                 'para', 'update_by_direct_mention', \n",
        "                 'privacy_mention', 'update_by_feature_bug',\n",
        "                 'min_update_by_num', 'max_update_by_num',\n",
        "                 'update_by_num_modified', 'update_by_para', 'system_mention']]"
      ],
      "metadata": {
        "id": "Pl93hHAcdkJD"
      },
      "execution_count": 12,
      "outputs": []
    },
    {
      "cell_type": "code",
      "source": [
        "ios_update = set(ios_df['app_id'])"
      ],
      "metadata": {
        "id": "N3g2k-l9fEQn"
      },
      "execution_count": 13,
      "outputs": []
    },
    {
      "cell_type": "code",
      "source": [
        "and_df = pd.read_pickle('android_app.pickle')[['app_id', 'version', 'description', 'date',\n",
        "                 'len_word', 'len_char', 'update_by_num', 'len_char_ttl',\n",
        "                 'para', 'update_by_direct_mention', \n",
        "                 'privacy_mention', 'update_by_feature_bug',\n",
        "                 'min_update_by_num', 'max_update_by_num',\n",
        "                 'update_by_num_modified', 'update_by_para', 'system_mention']]\n",
        "and_update = set(and_df['app_id'])"
      ],
      "metadata": {
        "id": "RTtJAN6m52_a"
      },
      "execution_count": 15,
      "outputs": []
    },
    {
      "cell_type": "markdown",
      "source": [
        "1. Check if all apps in the type 1 lists could be found in the version update samples (the ones you previously used)."
      ],
      "metadata": {
        "id": "lrJVqLFCmL7S"
      }
    },
    {
      "cell_type": "code",
      "source": [
        "#percentage of apps in the version update sample\n",
        "print(sum(t1_unit['app_id'].apply(lambda x: 1 if x in ios_update else 0))/len(ios_t1_unit))\n",
        "print(sum(t1_revenue['app_id'].apply(lambda x: 1 if x in ios_update else 0))/len(ios_t1_revenue))"
      ],
      "metadata": {
        "colab": {
          "base_uri": "https://localhost:8080/"
        },
        "id": "wAsVhJ76kjZm",
        "outputId": "3adac92e-7a0e-45c1-fc9c-8b963e3be100"
      },
      "execution_count": 14,
      "outputs": [
        {
          "output_type": "stream",
          "name": "stdout",
          "text": [
            "0.8345663128551517\n",
            "0.5861759425493717\n"
          ]
        }
      ]
    },
    {
      "cell_type": "code",
      "source": [
        "print(sum(t1_unit['app_id'].apply(lambda x: 1 if x in and_update else 0))/len(and_t1_unit))\n",
        "print(sum(t1_revenue['app_id'].apply(lambda x: 1 if x in and_update else 0))/len(and_t1_revenue))"
      ],
      "metadata": {
        "colab": {
          "base_uri": "https://localhost:8080/"
        },
        "id": "T2t1X_6w6GTW",
        "outputId": "608400f6-56be-49e0-aff1-352e10227654"
      },
      "execution_count": 16,
      "outputs": [
        {
          "output_type": "stream",
          "name": "stdout",
          "text": [
            "0.8823259548113316\n",
            "0.5908366533864542\n"
          ]
        }
      ]
    }
  ]
}