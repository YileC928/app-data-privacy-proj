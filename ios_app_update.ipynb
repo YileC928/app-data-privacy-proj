{
  "cells": [
    {
      "cell_type": "code",
      "execution_count": null,
      "metadata": {
        "id": "0xdmg8O2DhhH"
      },
      "outputs": [],
      "source": [
        "!pip install git+https://github.com/UChicago-Computational-Content-Analysis/lucem_illud.git\n",
        "#!pip install openai\n",
        "#!pip install tiktoken"
      ]
    },
    {
      "cell_type": "code",
      "execution_count": 2,
      "metadata": {
        "id": "F_Wbrc0Ynzv8"
      },
      "outputs": [],
      "source": [
        "import pandas as pd\n",
        "import numpy as np\n",
        "import datetime\n",
        "import spacy #for text analysis\n",
        "import lucem_illud #for text analysis\n",
        "import collections #for counting\n",
        "import re"
      ]
    },
    {
      "cell_type": "code",
      "execution_count": 3,
      "metadata": {
        "colab": {
          "base_uri": "https://localhost:8080/"
        },
        "id": "COUHGm13qbFe",
        "outputId": "74fd06e3-bb58-4959-8bf9-3a89886ddd96"
      },
      "outputs": [
        {
          "output_type": "stream",
          "name": "stdout",
          "text": [
            "Mounted at /content/gdrive\n"
          ]
        }
      ],
      "source": [
        "#connect with drive\n",
        "from google.colab import drive\n",
        "drive.mount('/content/gdrive', force_remount=True)"
      ]
    },
    {
      "cell_type": "code",
      "execution_count": 4,
      "metadata": {
        "colab": {
          "base_uri": "https://localhost:8080/"
        },
        "id": "Z_I82uEZqgvy",
        "outputId": "987dfc02-3b93-4f5d-faae-7e61cad72859"
      },
      "outputs": [
        {
          "output_type": "stream",
          "name": "stdout",
          "text": [
            "/content/gdrive/MyDrive/Bo_RA\n"
          ]
        }
      ],
      "source": [
        "%cd /content/gdrive/MyDrive/Bo_RA/"
      ]
    },
    {
      "cell_type": "code",
      "source": [
        "%%time\n",
        "ios_df = pd.read_stata('ios_app_versions_versions_US.dta')\n",
        "ios_df.head()"
      ],
      "metadata": {
        "colab": {
          "base_uri": "https://localhost:8080/",
          "height": 242
        },
        "id": "AD7zfZEx7nYp",
        "outputId": "70188f9e-158d-4f50-dc88-863d28661327"
      },
      "execution_count": 6,
      "outputs": [
        {
          "output_type": "stream",
          "name": "stdout",
          "text": [
            "CPU times: user 7.46 s, sys: 12.5 s, total: 20 s\n",
            "Wall time: 22.5 s\n"
          ]
        },
        {
          "output_type": "execute_result",
          "data": {
            "text/plain": [
              "       app_id version                                        description  \\\n",
              "0  1000017994   2.9.4  Updates in Cardiogram 2.9.4:\\n• Links now open...   \n",
              "1  1000017994  2.10.0  Updates in Cardiogram 2.10.0:\\n• Stability imp...   \n",
              "2  1000017994   3.1.8  Thanks so much for using Cardiogram!\\n\\nApple ...   \n",
              "3  1000017994   3.4.0  ECG support is here. \\n\\nAll users with an App...   \n",
              "4  1000017994  2.9.15  Updates in Cardiogram 2.9.15:\\n• Fixes to data...   \n",
              "\n",
              "         date  \n",
              "0  2018-06-28  \n",
              "1  2019-04-04  \n",
              "2  2020-03-19  \n",
              "3  2021-03-06  \n",
              "4  2018-11-08  "
            ],
            "text/html": [
              "\n",
              "  <div id=\"df-ac3648a2-afe7-459d-baea-73fee706ae02\">\n",
              "    <div class=\"colab-df-container\">\n",
              "      <div>\n",
              "<style scoped>\n",
              "    .dataframe tbody tr th:only-of-type {\n",
              "        vertical-align: middle;\n",
              "    }\n",
              "\n",
              "    .dataframe tbody tr th {\n",
              "        vertical-align: top;\n",
              "    }\n",
              "\n",
              "    .dataframe thead th {\n",
              "        text-align: right;\n",
              "    }\n",
              "</style>\n",
              "<table border=\"1\" class=\"dataframe\">\n",
              "  <thead>\n",
              "    <tr style=\"text-align: right;\">\n",
              "      <th></th>\n",
              "      <th>app_id</th>\n",
              "      <th>version</th>\n",
              "      <th>description</th>\n",
              "      <th>date</th>\n",
              "    </tr>\n",
              "  </thead>\n",
              "  <tbody>\n",
              "    <tr>\n",
              "      <th>0</th>\n",
              "      <td>1000017994</td>\n",
              "      <td>2.9.4</td>\n",
              "      <td>Updates in Cardiogram 2.9.4:\\n• Links now open...</td>\n",
              "      <td>2018-06-28</td>\n",
              "    </tr>\n",
              "    <tr>\n",
              "      <th>1</th>\n",
              "      <td>1000017994</td>\n",
              "      <td>2.10.0</td>\n",
              "      <td>Updates in Cardiogram 2.10.0:\\n• Stability imp...</td>\n",
              "      <td>2019-04-04</td>\n",
              "    </tr>\n",
              "    <tr>\n",
              "      <th>2</th>\n",
              "      <td>1000017994</td>\n",
              "      <td>3.1.8</td>\n",
              "      <td>Thanks so much for using Cardiogram!\\n\\nApple ...</td>\n",
              "      <td>2020-03-19</td>\n",
              "    </tr>\n",
              "    <tr>\n",
              "      <th>3</th>\n",
              "      <td>1000017994</td>\n",
              "      <td>3.4.0</td>\n",
              "      <td>ECG support is here. \\n\\nAll users with an App...</td>\n",
              "      <td>2021-03-06</td>\n",
              "    </tr>\n",
              "    <tr>\n",
              "      <th>4</th>\n",
              "      <td>1000017994</td>\n",
              "      <td>2.9.15</td>\n",
              "      <td>Updates in Cardiogram 2.9.15:\\n• Fixes to data...</td>\n",
              "      <td>2018-11-08</td>\n",
              "    </tr>\n",
              "  </tbody>\n",
              "</table>\n",
              "</div>\n",
              "      <button class=\"colab-df-convert\" onclick=\"convertToInteractive('df-ac3648a2-afe7-459d-baea-73fee706ae02')\"\n",
              "              title=\"Convert this dataframe to an interactive table.\"\n",
              "              style=\"display:none;\">\n",
              "        \n",
              "  <svg xmlns=\"http://www.w3.org/2000/svg\" height=\"24px\"viewBox=\"0 0 24 24\"\n",
              "       width=\"24px\">\n",
              "    <path d=\"M0 0h24v24H0V0z\" fill=\"none\"/>\n",
              "    <path d=\"M18.56 5.44l.94 2.06.94-2.06 2.06-.94-2.06-.94-.94-2.06-.94 2.06-2.06.94zm-11 1L8.5 8.5l.94-2.06 2.06-.94-2.06-.94L8.5 2.5l-.94 2.06-2.06.94zm10 10l.94 2.06.94-2.06 2.06-.94-2.06-.94-.94-2.06-.94 2.06-2.06.94z\"/><path d=\"M17.41 7.96l-1.37-1.37c-.4-.4-.92-.59-1.43-.59-.52 0-1.04.2-1.43.59L10.3 9.45l-7.72 7.72c-.78.78-.78 2.05 0 2.83L4 21.41c.39.39.9.59 1.41.59.51 0 1.02-.2 1.41-.59l7.78-7.78 2.81-2.81c.8-.78.8-2.07 0-2.86zM5.41 20L4 18.59l7.72-7.72 1.47 1.35L5.41 20z\"/>\n",
              "  </svg>\n",
              "      </button>\n",
              "      \n",
              "  <style>\n",
              "    .colab-df-container {\n",
              "      display:flex;\n",
              "      flex-wrap:wrap;\n",
              "      gap: 12px;\n",
              "    }\n",
              "\n",
              "    .colab-df-convert {\n",
              "      background-color: #E8F0FE;\n",
              "      border: none;\n",
              "      border-radius: 50%;\n",
              "      cursor: pointer;\n",
              "      display: none;\n",
              "      fill: #1967D2;\n",
              "      height: 32px;\n",
              "      padding: 0 0 0 0;\n",
              "      width: 32px;\n",
              "    }\n",
              "\n",
              "    .colab-df-convert:hover {\n",
              "      background-color: #E2EBFA;\n",
              "      box-shadow: 0px 1px 2px rgba(60, 64, 67, 0.3), 0px 1px 3px 1px rgba(60, 64, 67, 0.15);\n",
              "      fill: #174EA6;\n",
              "    }\n",
              "\n",
              "    [theme=dark] .colab-df-convert {\n",
              "      background-color: #3B4455;\n",
              "      fill: #D2E3FC;\n",
              "    }\n",
              "\n",
              "    [theme=dark] .colab-df-convert:hover {\n",
              "      background-color: #434B5C;\n",
              "      box-shadow: 0px 1px 3px 1px rgba(0, 0, 0, 0.15);\n",
              "      filter: drop-shadow(0px 1px 2px rgba(0, 0, 0, 0.3));\n",
              "      fill: #FFFFFF;\n",
              "    }\n",
              "  </style>\n",
              "\n",
              "      <script>\n",
              "        const buttonEl =\n",
              "          document.querySelector('#df-ac3648a2-afe7-459d-baea-73fee706ae02 button.colab-df-convert');\n",
              "        buttonEl.style.display =\n",
              "          google.colab.kernel.accessAllowed ? 'block' : 'none';\n",
              "\n",
              "        async function convertToInteractive(key) {\n",
              "          const element = document.querySelector('#df-ac3648a2-afe7-459d-baea-73fee706ae02');\n",
              "          const dataTable =\n",
              "            await google.colab.kernel.invokeFunction('convertToInteractive',\n",
              "                                                     [key], {});\n",
              "          if (!dataTable) return;\n",
              "\n",
              "          const docLinkHtml = 'Like what you see? Visit the ' +\n",
              "            '<a target=\"_blank\" href=https://colab.research.google.com/notebooks/data_table.ipynb>data table notebook</a>'\n",
              "            + ' to learn more about interactive tables.';\n",
              "          element.innerHTML = '';\n",
              "          dataTable['output_type'] = 'display_data';\n",
              "          await google.colab.output.renderOutput(dataTable, element);\n",
              "          const docLink = document.createElement('div');\n",
              "          docLink.innerHTML = docLinkHtml;\n",
              "          element.appendChild(docLink);\n",
              "        }\n",
              "      </script>\n",
              "    </div>\n",
              "  </div>\n",
              "  "
            ]
          },
          "metadata": {},
          "execution_count": 6
        }
      ]
    },
    {
      "cell_type": "code",
      "source": [
        "ios_df['version'][15] = '0.8.7' #a typo in the dataset (0.87 to 0.8.7)"
      ],
      "metadata": {
        "id": "qZmqHv148Knq"
      },
      "execution_count": null,
      "outputs": []
    },
    {
      "cell_type": "code",
      "source": [
        "%%time\n",
        "ios_df = pd.read_pickle('ios.pickle') #if you were to read the stored data"
      ],
      "metadata": {
        "id": "ZHbkkSKq84Df",
        "colab": {
          "base_uri": "https://localhost:8080/"
        },
        "outputId": "6132f437-d40d-416e-e1b0-38d716c18e22"
      },
      "execution_count": 5,
      "outputs": [
        {
          "output_type": "stream",
          "name": "stdout",
          "text": [
            "CPU times: user 27.3 s, sys: 17.8 s, total: 45.1 s\n",
            "Wall time: 46.3 s\n"
          ]
        }
      ]
    },
    {
      "cell_type": "code",
      "source": [
        "ios_df.to_pickle('ios_app.pickle')"
      ],
      "metadata": {
        "id": "9ItGLsldR4v_"
      },
      "execution_count": 101,
      "outputs": []
    },
    {
      "cell_type": "code",
      "source": [
        "#recently stored ios_app.pickle 5.22 11:23 pm"
      ],
      "metadata": {
        "id": "RDrebw7r-gB9"
      },
      "execution_count": null,
      "outputs": []
    },
    {
      "cell_type": "markdown",
      "metadata": {
        "id": "aSKVYjsiq-i9"
      },
      "source": [
        "## Task 1\n",
        "- At the app-month level, calculate the number of version updates for both iOs and Android apps."
      ]
    },
    {
      "cell_type": "code",
      "execution_count": null,
      "metadata": {
        "colab": {
          "base_uri": "https://localhost:8080/",
          "height": 206
        },
        "id": "Ejqrz2iMoZpw",
        "outputId": "23ae93a2-ca01-473f-8aed-b7b9210f816f"
      },
      "outputs": [
        {
          "output_type": "execute_result",
          "data": {
            "text/plain": [
              "       app_id       ym  num_update\n",
              "0  1000017994  2015-08           1\n",
              "1  1000017994  2015-09           1\n",
              "2  1000017994  2015-11           1\n",
              "3  1000017994  2015-12           2\n",
              "4  1000017994  2016-01           1"
            ],
            "text/html": [
              "\n",
              "  <div id=\"df-b4dc18ee-43a2-4813-bc81-4e09959f5654\">\n",
              "    <div class=\"colab-df-container\">\n",
              "      <div>\n",
              "<style scoped>\n",
              "    .dataframe tbody tr th:only-of-type {\n",
              "        vertical-align: middle;\n",
              "    }\n",
              "\n",
              "    .dataframe tbody tr th {\n",
              "        vertical-align: top;\n",
              "    }\n",
              "\n",
              "    .dataframe thead th {\n",
              "        text-align: right;\n",
              "    }\n",
              "</style>\n",
              "<table border=\"1\" class=\"dataframe\">\n",
              "  <thead>\n",
              "    <tr style=\"text-align: right;\">\n",
              "      <th></th>\n",
              "      <th>app_id</th>\n",
              "      <th>ym</th>\n",
              "      <th>num_update</th>\n",
              "    </tr>\n",
              "  </thead>\n",
              "  <tbody>\n",
              "    <tr>\n",
              "      <th>0</th>\n",
              "      <td>1000017994</td>\n",
              "      <td>2015-08</td>\n",
              "      <td>1</td>\n",
              "    </tr>\n",
              "    <tr>\n",
              "      <th>1</th>\n",
              "      <td>1000017994</td>\n",
              "      <td>2015-09</td>\n",
              "      <td>1</td>\n",
              "    </tr>\n",
              "    <tr>\n",
              "      <th>2</th>\n",
              "      <td>1000017994</td>\n",
              "      <td>2015-11</td>\n",
              "      <td>1</td>\n",
              "    </tr>\n",
              "    <tr>\n",
              "      <th>3</th>\n",
              "      <td>1000017994</td>\n",
              "      <td>2015-12</td>\n",
              "      <td>2</td>\n",
              "    </tr>\n",
              "    <tr>\n",
              "      <th>4</th>\n",
              "      <td>1000017994</td>\n",
              "      <td>2016-01</td>\n",
              "      <td>1</td>\n",
              "    </tr>\n",
              "  </tbody>\n",
              "</table>\n",
              "</div>\n",
              "      <button class=\"colab-df-convert\" onclick=\"convertToInteractive('df-b4dc18ee-43a2-4813-bc81-4e09959f5654')\"\n",
              "              title=\"Convert this dataframe to an interactive table.\"\n",
              "              style=\"display:none;\">\n",
              "        \n",
              "  <svg xmlns=\"http://www.w3.org/2000/svg\" height=\"24px\"viewBox=\"0 0 24 24\"\n",
              "       width=\"24px\">\n",
              "    <path d=\"M0 0h24v24H0V0z\" fill=\"none\"/>\n",
              "    <path d=\"M18.56 5.44l.94 2.06.94-2.06 2.06-.94-2.06-.94-.94-2.06-.94 2.06-2.06.94zm-11 1L8.5 8.5l.94-2.06 2.06-.94-2.06-.94L8.5 2.5l-.94 2.06-2.06.94zm10 10l.94 2.06.94-2.06 2.06-.94-2.06-.94-.94-2.06-.94 2.06-2.06.94z\"/><path d=\"M17.41 7.96l-1.37-1.37c-.4-.4-.92-.59-1.43-.59-.52 0-1.04.2-1.43.59L10.3 9.45l-7.72 7.72c-.78.78-.78 2.05 0 2.83L4 21.41c.39.39.9.59 1.41.59.51 0 1.02-.2 1.41-.59l7.78-7.78 2.81-2.81c.8-.78.8-2.07 0-2.86zM5.41 20L4 18.59l7.72-7.72 1.47 1.35L5.41 20z\"/>\n",
              "  </svg>\n",
              "      </button>\n",
              "      \n",
              "  <style>\n",
              "    .colab-df-container {\n",
              "      display:flex;\n",
              "      flex-wrap:wrap;\n",
              "      gap: 12px;\n",
              "    }\n",
              "\n",
              "    .colab-df-convert {\n",
              "      background-color: #E8F0FE;\n",
              "      border: none;\n",
              "      border-radius: 50%;\n",
              "      cursor: pointer;\n",
              "      display: none;\n",
              "      fill: #1967D2;\n",
              "      height: 32px;\n",
              "      padding: 0 0 0 0;\n",
              "      width: 32px;\n",
              "    }\n",
              "\n",
              "    .colab-df-convert:hover {\n",
              "      background-color: #E2EBFA;\n",
              "      box-shadow: 0px 1px 2px rgba(60, 64, 67, 0.3), 0px 1px 3px 1px rgba(60, 64, 67, 0.15);\n",
              "      fill: #174EA6;\n",
              "    }\n",
              "\n",
              "    [theme=dark] .colab-df-convert {\n",
              "      background-color: #3B4455;\n",
              "      fill: #D2E3FC;\n",
              "    }\n",
              "\n",
              "    [theme=dark] .colab-df-convert:hover {\n",
              "      background-color: #434B5C;\n",
              "      box-shadow: 0px 1px 3px 1px rgba(0, 0, 0, 0.15);\n",
              "      filter: drop-shadow(0px 1px 2px rgba(0, 0, 0, 0.3));\n",
              "      fill: #FFFFFF;\n",
              "    }\n",
              "  </style>\n",
              "\n",
              "      <script>\n",
              "        const buttonEl =\n",
              "          document.querySelector('#df-b4dc18ee-43a2-4813-bc81-4e09959f5654 button.colab-df-convert');\n",
              "        buttonEl.style.display =\n",
              "          google.colab.kernel.accessAllowed ? 'block' : 'none';\n",
              "\n",
              "        async function convertToInteractive(key) {\n",
              "          const element = document.querySelector('#df-b4dc18ee-43a2-4813-bc81-4e09959f5654');\n",
              "          const dataTable =\n",
              "            await google.colab.kernel.invokeFunction('convertToInteractive',\n",
              "                                                     [key], {});\n",
              "          if (!dataTable) return;\n",
              "\n",
              "          const docLinkHtml = 'Like what you see? Visit the ' +\n",
              "            '<a target=\"_blank\" href=https://colab.research.google.com/notebooks/data_table.ipynb>data table notebook</a>'\n",
              "            + ' to learn more about interactive tables.';\n",
              "          element.innerHTML = '';\n",
              "          dataTable['output_type'] = 'display_data';\n",
              "          await google.colab.output.renderOutput(dataTable, element);\n",
              "          const docLink = document.createElement('div');\n",
              "          docLink.innerHTML = docLinkHtml;\n",
              "          element.appendChild(docLink);\n",
              "        }\n",
              "      </script>\n",
              "    </div>\n",
              "  </div>\n",
              "  "
            ]
          },
          "metadata": {},
          "execution_count": 12
        }
      ],
      "source": [
        "#aggregate observations to app-month level\n",
        "ios_df['ym'] = pd.to_datetime(ios_df['date']).dt.to_period('M')\n",
        "count_df = ios_df.groupby(['app_id', 'ym']).count().reset_index()[['app_id', 'ym', 'version']]\n",
        "count_df = count_df.rename(columns = {'version': 'num_update'})\n",
        "count_df.head()"
      ]
    },
    {
      "cell_type": "markdown",
      "source": [
        "To generate a complete app-month panel, I search for the earliest and the latest update date for each app, and create a list of complete year-month index, then for the months with out updates, input 0."
      ],
      "metadata": {
        "id": "7PhpfVJMg07l"
      }
    },
    {
      "cell_type": "code",
      "source": [
        "%%time\n",
        "#to generate a complete id-month panel, first create a blank dataframe of all complete id-month index\n",
        "#then merge it with the previous dataframe and input 0 for months without updates\n",
        "app_id_list = list(count_df['app_id'].unique()) #25728 unique app_ids\n",
        "count_df_full = pd.DataFrame()\n",
        "month_lst_full = []\n",
        "app_id_lst_full = []\n",
        "for id in app_id_list:\n",
        "  min_month = min(count_df[count_df['app_id'] == id]['ym'])\n",
        "  max_month = max(count_df[count_df['app_id'] == id]['ym'])\n",
        "  month_lst = pd.date_range(min_month.to_timestamp(), max_month.to_timestamp() + datetime.timedelta(days=1), freq='MS').strftime(\"%Y-%m\").tolist()                 \n",
        "  month_lst_full = month_lst_full + month_lst\n",
        "  app_id_lst_full = app_id_lst_full + [id]*len(month_lst)\n",
        "count_df_full['app_id'] = app_id_lst_full\n",
        "count_df_full['ym'] = month_lst_full"
      ],
      "metadata": {
        "colab": {
          "base_uri": "https://localhost:8080/"
        },
        "id": "en8RvaavRaNK",
        "outputId": "90ee1bc1-04c1-42c4-a824-40f2f08b78c0"
      },
      "execution_count": null,
      "outputs": [
        {
          "output_type": "stream",
          "name": "stdout",
          "text": [
            "CPU times: user 42min 46s, sys: 7.36 s, total: 42min 54s\n",
            "Wall time: 42min 54s\n"
          ]
        }
      ]
    },
    {
      "cell_type": "code",
      "source": [
        "count_df_full #check"
      ],
      "metadata": {
        "colab": {
          "base_uri": "https://localhost:8080/",
          "height": 424
        },
        "id": "Wz9dDc7HdJ2k",
        "outputId": "885ec47e-5855-4131-f97d-e184621b8d45"
      },
      "execution_count": null,
      "outputs": [
        {
          "output_type": "execute_result",
          "data": {
            "text/plain": [
              "             app_id       ym\n",
              "0        1000017994  2015-08\n",
              "1        1000017994  2015-09\n",
              "2        1000017994  2015-10\n",
              "3        1000017994  2015-11\n",
              "4        1000017994  2015-12\n",
              "...             ...      ...\n",
              "1130499   999924447  2021-02\n",
              "1130500   999924447  2021-03\n",
              "1130501   999924447  2021-04\n",
              "1130502   999924447  2021-05\n",
              "1130503   999924447  2021-06\n",
              "\n",
              "[1130504 rows x 2 columns]"
            ],
            "text/html": [
              "\n",
              "  <div id=\"df-9f440f7a-91ad-401f-9f06-f44944e4a628\">\n",
              "    <div class=\"colab-df-container\">\n",
              "      <div>\n",
              "<style scoped>\n",
              "    .dataframe tbody tr th:only-of-type {\n",
              "        vertical-align: middle;\n",
              "    }\n",
              "\n",
              "    .dataframe tbody tr th {\n",
              "        vertical-align: top;\n",
              "    }\n",
              "\n",
              "    .dataframe thead th {\n",
              "        text-align: right;\n",
              "    }\n",
              "</style>\n",
              "<table border=\"1\" class=\"dataframe\">\n",
              "  <thead>\n",
              "    <tr style=\"text-align: right;\">\n",
              "      <th></th>\n",
              "      <th>app_id</th>\n",
              "      <th>ym</th>\n",
              "    </tr>\n",
              "  </thead>\n",
              "  <tbody>\n",
              "    <tr>\n",
              "      <th>0</th>\n",
              "      <td>1000017994</td>\n",
              "      <td>2015-08</td>\n",
              "    </tr>\n",
              "    <tr>\n",
              "      <th>1</th>\n",
              "      <td>1000017994</td>\n",
              "      <td>2015-09</td>\n",
              "    </tr>\n",
              "    <tr>\n",
              "      <th>2</th>\n",
              "      <td>1000017994</td>\n",
              "      <td>2015-10</td>\n",
              "    </tr>\n",
              "    <tr>\n",
              "      <th>3</th>\n",
              "      <td>1000017994</td>\n",
              "      <td>2015-11</td>\n",
              "    </tr>\n",
              "    <tr>\n",
              "      <th>4</th>\n",
              "      <td>1000017994</td>\n",
              "      <td>2015-12</td>\n",
              "    </tr>\n",
              "    <tr>\n",
              "      <th>...</th>\n",
              "      <td>...</td>\n",
              "      <td>...</td>\n",
              "    </tr>\n",
              "    <tr>\n",
              "      <th>1130499</th>\n",
              "      <td>999924447</td>\n",
              "      <td>2021-02</td>\n",
              "    </tr>\n",
              "    <tr>\n",
              "      <th>1130500</th>\n",
              "      <td>999924447</td>\n",
              "      <td>2021-03</td>\n",
              "    </tr>\n",
              "    <tr>\n",
              "      <th>1130501</th>\n",
              "      <td>999924447</td>\n",
              "      <td>2021-04</td>\n",
              "    </tr>\n",
              "    <tr>\n",
              "      <th>1130502</th>\n",
              "      <td>999924447</td>\n",
              "      <td>2021-05</td>\n",
              "    </tr>\n",
              "    <tr>\n",
              "      <th>1130503</th>\n",
              "      <td>999924447</td>\n",
              "      <td>2021-06</td>\n",
              "    </tr>\n",
              "  </tbody>\n",
              "</table>\n",
              "<p>1130504 rows × 2 columns</p>\n",
              "</div>\n",
              "      <button class=\"colab-df-convert\" onclick=\"convertToInteractive('df-9f440f7a-91ad-401f-9f06-f44944e4a628')\"\n",
              "              title=\"Convert this dataframe to an interactive table.\"\n",
              "              style=\"display:none;\">\n",
              "        \n",
              "  <svg xmlns=\"http://www.w3.org/2000/svg\" height=\"24px\"viewBox=\"0 0 24 24\"\n",
              "       width=\"24px\">\n",
              "    <path d=\"M0 0h24v24H0V0z\" fill=\"none\"/>\n",
              "    <path d=\"M18.56 5.44l.94 2.06.94-2.06 2.06-.94-2.06-.94-.94-2.06-.94 2.06-2.06.94zm-11 1L8.5 8.5l.94-2.06 2.06-.94-2.06-.94L8.5 2.5l-.94 2.06-2.06.94zm10 10l.94 2.06.94-2.06 2.06-.94-2.06-.94-.94-2.06-.94 2.06-2.06.94z\"/><path d=\"M17.41 7.96l-1.37-1.37c-.4-.4-.92-.59-1.43-.59-.52 0-1.04.2-1.43.59L10.3 9.45l-7.72 7.72c-.78.78-.78 2.05 0 2.83L4 21.41c.39.39.9.59 1.41.59.51 0 1.02-.2 1.41-.59l7.78-7.78 2.81-2.81c.8-.78.8-2.07 0-2.86zM5.41 20L4 18.59l7.72-7.72 1.47 1.35L5.41 20z\"/>\n",
              "  </svg>\n",
              "      </button>\n",
              "      \n",
              "  <style>\n",
              "    .colab-df-container {\n",
              "      display:flex;\n",
              "      flex-wrap:wrap;\n",
              "      gap: 12px;\n",
              "    }\n",
              "\n",
              "    .colab-df-convert {\n",
              "      background-color: #E8F0FE;\n",
              "      border: none;\n",
              "      border-radius: 50%;\n",
              "      cursor: pointer;\n",
              "      display: none;\n",
              "      fill: #1967D2;\n",
              "      height: 32px;\n",
              "      padding: 0 0 0 0;\n",
              "      width: 32px;\n",
              "    }\n",
              "\n",
              "    .colab-df-convert:hover {\n",
              "      background-color: #E2EBFA;\n",
              "      box-shadow: 0px 1px 2px rgba(60, 64, 67, 0.3), 0px 1px 3px 1px rgba(60, 64, 67, 0.15);\n",
              "      fill: #174EA6;\n",
              "    }\n",
              "\n",
              "    [theme=dark] .colab-df-convert {\n",
              "      background-color: #3B4455;\n",
              "      fill: #D2E3FC;\n",
              "    }\n",
              "\n",
              "    [theme=dark] .colab-df-convert:hover {\n",
              "      background-color: #434B5C;\n",
              "      box-shadow: 0px 1px 3px 1px rgba(0, 0, 0, 0.15);\n",
              "      filter: drop-shadow(0px 1px 2px rgba(0, 0, 0, 0.3));\n",
              "      fill: #FFFFFF;\n",
              "    }\n",
              "  </style>\n",
              "\n",
              "      <script>\n",
              "        const buttonEl =\n",
              "          document.querySelector('#df-9f440f7a-91ad-401f-9f06-f44944e4a628 button.colab-df-convert');\n",
              "        buttonEl.style.display =\n",
              "          google.colab.kernel.accessAllowed ? 'block' : 'none';\n",
              "\n",
              "        async function convertToInteractive(key) {\n",
              "          const element = document.querySelector('#df-9f440f7a-91ad-401f-9f06-f44944e4a628');\n",
              "          const dataTable =\n",
              "            await google.colab.kernel.invokeFunction('convertToInteractive',\n",
              "                                                     [key], {});\n",
              "          if (!dataTable) return;\n",
              "\n",
              "          const docLinkHtml = 'Like what you see? Visit the ' +\n",
              "            '<a target=\"_blank\" href=https://colab.research.google.com/notebooks/data_table.ipynb>data table notebook</a>'\n",
              "            + ' to learn more about interactive tables.';\n",
              "          element.innerHTML = '';\n",
              "          dataTable['output_type'] = 'display_data';\n",
              "          await google.colab.output.renderOutput(dataTable, element);\n",
              "          const docLink = document.createElement('div');\n",
              "          docLink.innerHTML = docLinkHtml;\n",
              "          element.appendChild(docLink);\n",
              "        }\n",
              "      </script>\n",
              "    </div>\n",
              "  </div>\n",
              "  "
            ]
          },
          "metadata": {},
          "execution_count": 53
        }
      ]
    },
    {
      "cell_type": "code",
      "source": [
        "count_df_full['ym'] = count_df_full['ym'].apply(lambda x: str(x))"
      ],
      "metadata": {
        "id": "Wj4gQztLo_Lv"
      },
      "execution_count": null,
      "outputs": []
    },
    {
      "cell_type": "code",
      "source": [
        "count_df['ym'] = count_df['ym'].apply(lambda x: str(x))"
      ],
      "metadata": {
        "id": "Tl2yyHWYpVe_"
      },
      "execution_count": null,
      "outputs": []
    },
    {
      "cell_type": "code",
      "source": [
        "count_df = pd.merge(count_df, count_df_full, on = ['app_id', 'ym'], how = 'outer')\n",
        "count_df = count_df.replace(np.nan, 0)\n",
        "count_df"
      ],
      "metadata": {
        "colab": {
          "base_uri": "https://localhost:8080/",
          "height": 424
        },
        "id": "TlLQexObe-9I",
        "outputId": "6f890d72-462d-483d-d96b-a70e0a63b581"
      },
      "execution_count": null,
      "outputs": [
        {
          "output_type": "execute_result",
          "data": {
            "text/plain": [
              "             app_id       ym  num_update\n",
              "0        1000017994  2015-08         1.0\n",
              "1        1000017994  2015-09         1.0\n",
              "2        1000017994  2015-11         1.0\n",
              "3        1000017994  2015-12         2.0\n",
              "4        1000017994  2016-01         1.0\n",
              "...             ...      ...         ...\n",
              "1130499   999924447  2021-01         0.0\n",
              "1130500   999924447  2021-02         0.0\n",
              "1130501   999924447  2021-03         0.0\n",
              "1130502   999924447  2021-04         0.0\n",
              "1130503   999924447  2021-05         0.0\n",
              "\n",
              "[1130504 rows x 3 columns]"
            ],
            "text/html": [
              "\n",
              "  <div id=\"df-1d05b8a5-0f05-4f9a-9e58-a7e9203b59ff\">\n",
              "    <div class=\"colab-df-container\">\n",
              "      <div>\n",
              "<style scoped>\n",
              "    .dataframe tbody tr th:only-of-type {\n",
              "        vertical-align: middle;\n",
              "    }\n",
              "\n",
              "    .dataframe tbody tr th {\n",
              "        vertical-align: top;\n",
              "    }\n",
              "\n",
              "    .dataframe thead th {\n",
              "        text-align: right;\n",
              "    }\n",
              "</style>\n",
              "<table border=\"1\" class=\"dataframe\">\n",
              "  <thead>\n",
              "    <tr style=\"text-align: right;\">\n",
              "      <th></th>\n",
              "      <th>app_id</th>\n",
              "      <th>ym</th>\n",
              "      <th>num_update</th>\n",
              "    </tr>\n",
              "  </thead>\n",
              "  <tbody>\n",
              "    <tr>\n",
              "      <th>0</th>\n",
              "      <td>1000017994</td>\n",
              "      <td>2015-08</td>\n",
              "      <td>1.0</td>\n",
              "    </tr>\n",
              "    <tr>\n",
              "      <th>1</th>\n",
              "      <td>1000017994</td>\n",
              "      <td>2015-09</td>\n",
              "      <td>1.0</td>\n",
              "    </tr>\n",
              "    <tr>\n",
              "      <th>2</th>\n",
              "      <td>1000017994</td>\n",
              "      <td>2015-11</td>\n",
              "      <td>1.0</td>\n",
              "    </tr>\n",
              "    <tr>\n",
              "      <th>3</th>\n",
              "      <td>1000017994</td>\n",
              "      <td>2015-12</td>\n",
              "      <td>2.0</td>\n",
              "    </tr>\n",
              "    <tr>\n",
              "      <th>4</th>\n",
              "      <td>1000017994</td>\n",
              "      <td>2016-01</td>\n",
              "      <td>1.0</td>\n",
              "    </tr>\n",
              "    <tr>\n",
              "      <th>...</th>\n",
              "      <td>...</td>\n",
              "      <td>...</td>\n",
              "      <td>...</td>\n",
              "    </tr>\n",
              "    <tr>\n",
              "      <th>1130499</th>\n",
              "      <td>999924447</td>\n",
              "      <td>2021-01</td>\n",
              "      <td>0.0</td>\n",
              "    </tr>\n",
              "    <tr>\n",
              "      <th>1130500</th>\n",
              "      <td>999924447</td>\n",
              "      <td>2021-02</td>\n",
              "      <td>0.0</td>\n",
              "    </tr>\n",
              "    <tr>\n",
              "      <th>1130501</th>\n",
              "      <td>999924447</td>\n",
              "      <td>2021-03</td>\n",
              "      <td>0.0</td>\n",
              "    </tr>\n",
              "    <tr>\n",
              "      <th>1130502</th>\n",
              "      <td>999924447</td>\n",
              "      <td>2021-04</td>\n",
              "      <td>0.0</td>\n",
              "    </tr>\n",
              "    <tr>\n",
              "      <th>1130503</th>\n",
              "      <td>999924447</td>\n",
              "      <td>2021-05</td>\n",
              "      <td>0.0</td>\n",
              "    </tr>\n",
              "  </tbody>\n",
              "</table>\n",
              "<p>1130504 rows × 3 columns</p>\n",
              "</div>\n",
              "      <button class=\"colab-df-convert\" onclick=\"convertToInteractive('df-1d05b8a5-0f05-4f9a-9e58-a7e9203b59ff')\"\n",
              "              title=\"Convert this dataframe to an interactive table.\"\n",
              "              style=\"display:none;\">\n",
              "        \n",
              "  <svg xmlns=\"http://www.w3.org/2000/svg\" height=\"24px\"viewBox=\"0 0 24 24\"\n",
              "       width=\"24px\">\n",
              "    <path d=\"M0 0h24v24H0V0z\" fill=\"none\"/>\n",
              "    <path d=\"M18.56 5.44l.94 2.06.94-2.06 2.06-.94-2.06-.94-.94-2.06-.94 2.06-2.06.94zm-11 1L8.5 8.5l.94-2.06 2.06-.94-2.06-.94L8.5 2.5l-.94 2.06-2.06.94zm10 10l.94 2.06.94-2.06 2.06-.94-2.06-.94-.94-2.06-.94 2.06-2.06.94z\"/><path d=\"M17.41 7.96l-1.37-1.37c-.4-.4-.92-.59-1.43-.59-.52 0-1.04.2-1.43.59L10.3 9.45l-7.72 7.72c-.78.78-.78 2.05 0 2.83L4 21.41c.39.39.9.59 1.41.59.51 0 1.02-.2 1.41-.59l7.78-7.78 2.81-2.81c.8-.78.8-2.07 0-2.86zM5.41 20L4 18.59l7.72-7.72 1.47 1.35L5.41 20z\"/>\n",
              "  </svg>\n",
              "      </button>\n",
              "      \n",
              "  <style>\n",
              "    .colab-df-container {\n",
              "      display:flex;\n",
              "      flex-wrap:wrap;\n",
              "      gap: 12px;\n",
              "    }\n",
              "\n",
              "    .colab-df-convert {\n",
              "      background-color: #E8F0FE;\n",
              "      border: none;\n",
              "      border-radius: 50%;\n",
              "      cursor: pointer;\n",
              "      display: none;\n",
              "      fill: #1967D2;\n",
              "      height: 32px;\n",
              "      padding: 0 0 0 0;\n",
              "      width: 32px;\n",
              "    }\n",
              "\n",
              "    .colab-df-convert:hover {\n",
              "      background-color: #E2EBFA;\n",
              "      box-shadow: 0px 1px 2px rgba(60, 64, 67, 0.3), 0px 1px 3px 1px rgba(60, 64, 67, 0.15);\n",
              "      fill: #174EA6;\n",
              "    }\n",
              "\n",
              "    [theme=dark] .colab-df-convert {\n",
              "      background-color: #3B4455;\n",
              "      fill: #D2E3FC;\n",
              "    }\n",
              "\n",
              "    [theme=dark] .colab-df-convert:hover {\n",
              "      background-color: #434B5C;\n",
              "      box-shadow: 0px 1px 3px 1px rgba(0, 0, 0, 0.15);\n",
              "      filter: drop-shadow(0px 1px 2px rgba(0, 0, 0, 0.3));\n",
              "      fill: #FFFFFF;\n",
              "    }\n",
              "  </style>\n",
              "\n",
              "      <script>\n",
              "        const buttonEl =\n",
              "          document.querySelector('#df-1d05b8a5-0f05-4f9a-9e58-a7e9203b59ff button.colab-df-convert');\n",
              "        buttonEl.style.display =\n",
              "          google.colab.kernel.accessAllowed ? 'block' : 'none';\n",
              "\n",
              "        async function convertToInteractive(key) {\n",
              "          const element = document.querySelector('#df-1d05b8a5-0f05-4f9a-9e58-a7e9203b59ff');\n",
              "          const dataTable =\n",
              "            await google.colab.kernel.invokeFunction('convertToInteractive',\n",
              "                                                     [key], {});\n",
              "          if (!dataTable) return;\n",
              "\n",
              "          const docLinkHtml = 'Like what you see? Visit the ' +\n",
              "            '<a target=\"_blank\" href=https://colab.research.google.com/notebooks/data_table.ipynb>data table notebook</a>'\n",
              "            + ' to learn more about interactive tables.';\n",
              "          element.innerHTML = '';\n",
              "          dataTable['output_type'] = 'display_data';\n",
              "          await google.colab.output.renderOutput(dataTable, element);\n",
              "          const docLink = document.createElement('div');\n",
              "          docLink.innerHTML = docLinkHtml;\n",
              "          element.appendChild(docLink);\n",
              "        }\n",
              "      </script>\n",
              "    </div>\n",
              "  </div>\n",
              "  "
            ]
          },
          "metadata": {},
          "execution_count": 64
        }
      ]
    },
    {
      "cell_type": "code",
      "source": [
        "count_df.to_csv('num_update_app_month.csv')\n",
        "count_df['num_update'].plot.hist(bins=20, color = 'grey');\n",
        "count_df.describe()"
      ],
      "metadata": {
        "colab": {
          "base_uri": "https://localhost:8080/",
          "height": 713
        },
        "id": "8xf-ZrsGyXxj",
        "outputId": "a1dedb21-f731-44c3-b048-aeb291781c58"
      },
      "execution_count": null,
      "outputs": [
        {
          "output_type": "execute_result",
          "data": {
            "text/plain": [
              "         num_update\n",
              "count  1.130504e+06\n",
              "mean   1.020060e+00\n",
              "std    1.370931e+00\n",
              "min    0.000000e+00\n",
              "25%    0.000000e+00\n",
              "50%    1.000000e+00\n",
              "75%    2.000000e+00\n",
              "max    2.700000e+01"
            ],
            "text/html": [
              "\n",
              "  <div id=\"df-6ab6c8e7-fb13-4c5f-a6a0-758d9127b134\">\n",
              "    <div class=\"colab-df-container\">\n",
              "      <div>\n",
              "<style scoped>\n",
              "    .dataframe tbody tr th:only-of-type {\n",
              "        vertical-align: middle;\n",
              "    }\n",
              "\n",
              "    .dataframe tbody tr th {\n",
              "        vertical-align: top;\n",
              "    }\n",
              "\n",
              "    .dataframe thead th {\n",
              "        text-align: right;\n",
              "    }\n",
              "</style>\n",
              "<table border=\"1\" class=\"dataframe\">\n",
              "  <thead>\n",
              "    <tr style=\"text-align: right;\">\n",
              "      <th></th>\n",
              "      <th>num_update</th>\n",
              "    </tr>\n",
              "  </thead>\n",
              "  <tbody>\n",
              "    <tr>\n",
              "      <th>count</th>\n",
              "      <td>1.130504e+06</td>\n",
              "    </tr>\n",
              "    <tr>\n",
              "      <th>mean</th>\n",
              "      <td>1.020060e+00</td>\n",
              "    </tr>\n",
              "    <tr>\n",
              "      <th>std</th>\n",
              "      <td>1.370931e+00</td>\n",
              "    </tr>\n",
              "    <tr>\n",
              "      <th>min</th>\n",
              "      <td>0.000000e+00</td>\n",
              "    </tr>\n",
              "    <tr>\n",
              "      <th>25%</th>\n",
              "      <td>0.000000e+00</td>\n",
              "    </tr>\n",
              "    <tr>\n",
              "      <th>50%</th>\n",
              "      <td>1.000000e+00</td>\n",
              "    </tr>\n",
              "    <tr>\n",
              "      <th>75%</th>\n",
              "      <td>2.000000e+00</td>\n",
              "    </tr>\n",
              "    <tr>\n",
              "      <th>max</th>\n",
              "      <td>2.700000e+01</td>\n",
              "    </tr>\n",
              "  </tbody>\n",
              "</table>\n",
              "</div>\n",
              "      <button class=\"colab-df-convert\" onclick=\"convertToInteractive('df-6ab6c8e7-fb13-4c5f-a6a0-758d9127b134')\"\n",
              "              title=\"Convert this dataframe to an interactive table.\"\n",
              "              style=\"display:none;\">\n",
              "        \n",
              "  <svg xmlns=\"http://www.w3.org/2000/svg\" height=\"24px\"viewBox=\"0 0 24 24\"\n",
              "       width=\"24px\">\n",
              "    <path d=\"M0 0h24v24H0V0z\" fill=\"none\"/>\n",
              "    <path d=\"M18.56 5.44l.94 2.06.94-2.06 2.06-.94-2.06-.94-.94-2.06-.94 2.06-2.06.94zm-11 1L8.5 8.5l.94-2.06 2.06-.94-2.06-.94L8.5 2.5l-.94 2.06-2.06.94zm10 10l.94 2.06.94-2.06 2.06-.94-2.06-.94-.94-2.06-.94 2.06-2.06.94z\"/><path d=\"M17.41 7.96l-1.37-1.37c-.4-.4-.92-.59-1.43-.59-.52 0-1.04.2-1.43.59L10.3 9.45l-7.72 7.72c-.78.78-.78 2.05 0 2.83L4 21.41c.39.39.9.59 1.41.59.51 0 1.02-.2 1.41-.59l7.78-7.78 2.81-2.81c.8-.78.8-2.07 0-2.86zM5.41 20L4 18.59l7.72-7.72 1.47 1.35L5.41 20z\"/>\n",
              "  </svg>\n",
              "      </button>\n",
              "      \n",
              "  <style>\n",
              "    .colab-df-container {\n",
              "      display:flex;\n",
              "      flex-wrap:wrap;\n",
              "      gap: 12px;\n",
              "    }\n",
              "\n",
              "    .colab-df-convert {\n",
              "      background-color: #E8F0FE;\n",
              "      border: none;\n",
              "      border-radius: 50%;\n",
              "      cursor: pointer;\n",
              "      display: none;\n",
              "      fill: #1967D2;\n",
              "      height: 32px;\n",
              "      padding: 0 0 0 0;\n",
              "      width: 32px;\n",
              "    }\n",
              "\n",
              "    .colab-df-convert:hover {\n",
              "      background-color: #E2EBFA;\n",
              "      box-shadow: 0px 1px 2px rgba(60, 64, 67, 0.3), 0px 1px 3px 1px rgba(60, 64, 67, 0.15);\n",
              "      fill: #174EA6;\n",
              "    }\n",
              "\n",
              "    [theme=dark] .colab-df-convert {\n",
              "      background-color: #3B4455;\n",
              "      fill: #D2E3FC;\n",
              "    }\n",
              "\n",
              "    [theme=dark] .colab-df-convert:hover {\n",
              "      background-color: #434B5C;\n",
              "      box-shadow: 0px 1px 3px 1px rgba(0, 0, 0, 0.15);\n",
              "      filter: drop-shadow(0px 1px 2px rgba(0, 0, 0, 0.3));\n",
              "      fill: #FFFFFF;\n",
              "    }\n",
              "  </style>\n",
              "\n",
              "      <script>\n",
              "        const buttonEl =\n",
              "          document.querySelector('#df-6ab6c8e7-fb13-4c5f-a6a0-758d9127b134 button.colab-df-convert');\n",
              "        buttonEl.style.display =\n",
              "          google.colab.kernel.accessAllowed ? 'block' : 'none';\n",
              "\n",
              "        async function convertToInteractive(key) {\n",
              "          const element = document.querySelector('#df-6ab6c8e7-fb13-4c5f-a6a0-758d9127b134');\n",
              "          const dataTable =\n",
              "            await google.colab.kernel.invokeFunction('convertToInteractive',\n",
              "                                                     [key], {});\n",
              "          if (!dataTable) return;\n",
              "\n",
              "          const docLinkHtml = 'Like what you see? Visit the ' +\n",
              "            '<a target=\"_blank\" href=https://colab.research.google.com/notebooks/data_table.ipynb>data table notebook</a>'\n",
              "            + ' to learn more about interactive tables.';\n",
              "          element.innerHTML = '';\n",
              "          dataTable['output_type'] = 'display_data';\n",
              "          await google.colab.output.renderOutput(dataTable, element);\n",
              "          const docLink = document.createElement('div');\n",
              "          docLink.innerHTML = docLinkHtml;\n",
              "          element.appendChild(docLink);\n",
              "        }\n",
              "      </script>\n",
              "    </div>\n",
              "  </div>\n",
              "  "
            ]
          },
          "metadata": {},
          "execution_count": 66
        },
        {
          "output_type": "display_data",
          "data": {
            "text/plain": [
              "<Figure size 640x480 with 1 Axes>"
            ],
            "image/png": "[encoded data removed]"
          },
          "metadata": {}
        }
      ]
    },
    {
      "cell_type": "markdown",
      "metadata": {
        "id": "9UBWEJDOrLjf"
      },
      "source": [
        "## Task 2\n",
        "- At the app-update level, construct the total length of the text per version update description (drop unnecessary characters, indents, and blank spaces). Length is measured both in characters and in words."
      ]
    },
    {
      "cell_type": "code",
      "execution_count": null,
      "metadata": {
        "id": "Atzc1ynTrWqb"
      },
      "outputs": [],
      "source": [
        "nlp = spacy.load(\"en_core_web_sm\")"
      ]
    },
    {
      "cell_type": "code",
      "execution_count": null,
      "metadata": {
        "id": "OJMmDa84rEMe"
      },
      "outputs": [],
      "source": [
        "def word_tokenize(word_list):\n",
        "    tokenized = []\n",
        "    # pass word list through language model.\n",
        "    doc = nlp(word_list)\n",
        "    for token in doc:\n",
        "        if not token.is_punct and len(token.text.strip()) > 0:\n",
        "            tokenized.append(token.text)\n",
        "    return tokenized"
      ]
    },
    {
      "cell_type": "code",
      "source": [
        "ios_df['description_raw'] = ios_df['description'] #store raw description"
      ],
      "metadata": {
        "id": "ATkbV6YWb4dN"
      },
      "execution_count": null,
      "outputs": []
    },
    {
      "cell_type": "code",
      "source": [
        "ios_df['description'] = ios_df['description'].apply(lambda x: '' if x == 'None' else x) \n",
        "# ~9000 descriptions are 'None', replace them with ''"
      ],
      "metadata": {
        "id": "7ZRKjv5dcEHe"
      },
      "execution_count": null,
      "outputs": []
    },
    {
      "cell_type": "code",
      "source": [
        "def replace_itemizer(target, char_lst):\n",
        "  for char in char_lst:\n",
        "    if char == '\\n':\n",
        "      target = target.replace(char, ' ')\n",
        "      #replace by blank in case there are no blanks between the the line breaker and the next word\n",
        "    else:\n",
        "      target = target.replace(char, '')\n",
        "  return target"
      ],
      "metadata": {
        "id": "KaCYo-XsavgD"
      },
      "execution_count": 22,
      "outputs": []
    },
    {
      "cell_type": "code",
      "source": [
        "char_lst = set(['\\n', '-', '•', '*', '◉', '+', '●', '>', '°', '✩', '■', '=', '▶', '◆'])\n",
        "ios_df['description'] = ios_df['description'].apply(lambda x: replace_itemizer(x, char_lst)) \n",
        "#remove itemizer characters (these characters are special and cannot be removed by text normalization)"
      ],
      "metadata": {
        "id": "-2fxPqwTbHZd"
      },
      "execution_count": 23,
      "outputs": []
    },
    {
      "cell_type": "code",
      "execution_count": null,
      "metadata": {
        "id": "00HHIP7Wx3qW",
        "colab": {
          "base_uri": "https://localhost:8080/"
        },
        "outputId": "264c0987-1924-435a-8e46-63482c960585"
      },
      "outputs": [
        {
          "output_type": "stream",
          "name": "stdout",
          "text": [
            "CPU times: user 1h 26min 22s, sys: 20 s, total: 1h 26min 42s\n",
            "Wall time: 1h 26min 30s\n"
          ]
        }
      ],
      "source": [
        "%%time\n",
        "ios_df['description_tk'] =  ios_df['description'].apply(lambda x: lucem_illud.word_tokenize(x)) #tokenization"
      ]
    },
    {
      "cell_type": "code",
      "source": [
        "ios_df.sort_values(['app_id'])['description_tk'].sample(20) #the tokenization went well"
      ],
      "metadata": {
        "colab": {
          "base_uri": "https://localhost:8080/"
        },
        "id": "AliWDtzT4r_r",
        "outputId": "5ab22c36-8e47-40b4-8a0c-347bb36e2c06"
      },
      "execution_count": null,
      "outputs": [
        {
          "output_type": "execute_result",
          "data": {
            "text/plain": [
              "927013     [If, you, 've, got, your, phone, language, set...\n",
              "157008     [Fixed, an, issue, causing, crashes, on, some,...\n",
              "984678     [Please, note, that, in, latest, version, ther...\n",
              "418548     [Ranking, League, Season, has, been, added, So...\n",
              "131105     [Warlords, of, Aternum, is, an, epic, turn, ba...\n",
              "94612               [Ver, 5.0.9, Updated, minor, bug, fixed]\n",
              "312599     [Improved, UI, for, iPhone, X, and, higher, 19...\n",
              "1010095    [Ready, for, some, good, news, from, the, Babb...\n",
              "1551       [Archidon, small, speed, buff, New, and, updat...\n",
              "251217     [Fixed, network, connection, errors, Added, su...\n",
              "162504     [New, things, to, explore, in, Elvenar, with, ...\n",
              "686226         [Update, to, improve, iOS, 14, compatibility]\n",
              "599875     [IMPROVEMENTS, Additional, tutorial, steps, Ca...\n",
              "370584                [Minor, bug, fixes, and, improvements]\n",
              "330135     [Brand, new, Workout, Session, for, an, improv...\n",
              "373497                           [trajectory, new, controls]\n",
              "144324     [Version, 4.0, Interface, changes, Shows, tota...\n",
              "850516         [Other, minor, bug, fixes, and, improvements]\n",
              "1001793    [Thank, you, for, using, the, Virgin, Pulse, A...\n",
              "301721     [Leaderboards, updated, to, work, again, suppo...\n",
              "Name: description_tk, dtype: object"
            ]
          },
          "metadata": {},
          "execution_count": 49
        }
      ]
    },
    {
      "cell_type": "code",
      "execution_count": 34,
      "metadata": {
        "id": "oBfHxOtGafIg"
      },
      "outputs": [],
      "source": [
        "ios_df['len_word'] = ios_df['description_tk'].apply(lambda x: len(x))"
      ]
    },
    {
      "cell_type": "code",
      "execution_count": 35,
      "metadata": {
        "id": "K2wAHSKQayvW"
      },
      "outputs": [],
      "source": [
        "ios_df['len_char'] = ios_df['description_tk'].apply(lambda x: len(''.join(x)))"
      ]
    },
    {
      "cell_type": "code",
      "source": [
        "ios_df['len_char_ttl'] = ios_df['description_raw'].apply(lambda x: len(x.replace('\\n', ' ')))"
      ],
      "metadata": {
        "id": "MrWHZ10refT3"
      },
      "execution_count": 36,
      "outputs": []
    },
    {
      "cell_type": "code",
      "source": [
        "ios_df[['len_word', 'len_char', 'len_char_ttl']].describe()[1:]"
      ],
      "metadata": {
        "colab": {
          "base_uri": "https://localhost:8080/",
          "height": 269
        },
        "id": "s7O2cw3ueFW-",
        "outputId": "e7150fe6-76b9-4af2-87b7-f27a3f600707"
      },
      "execution_count": 37,
      "outputs": [
        {
          "output_type": "execute_result",
          "data": {
            "text/plain": [
              "        len_word     len_char  len_char_ttl\n",
              "mean   32.713298   162.916289    203.833262\n",
              "std    46.816725   224.955897    284.035375\n",
              "min     0.000000     0.000000      0.000000\n",
              "25%     5.000000    34.000000     40.000000\n",
              "50%    18.000000    96.000000    119.000000\n",
              "75%    43.000000   212.000000    265.000000\n",
              "max   773.000000  3519.000000   4000.000000"
            ],
            "text/html": [
              "\n",
              "  <div id=\"df-a3b7139f-0996-4f43-afd8-fd94704fa6b4\">\n",
              "    <div class=\"colab-df-container\">\n",
              "      <div>\n",
              "<style scoped>\n",
              "    .dataframe tbody tr th:only-of-type {\n",
              "        vertical-align: middle;\n",
              "    }\n",
              "\n",
              "    .dataframe tbody tr th {\n",
              "        vertical-align: top;\n",
              "    }\n",
              "\n",
              "    .dataframe thead th {\n",
              "        text-align: right;\n",
              "    }\n",
              "</style>\n",
              "<table border=\"1\" class=\"dataframe\">\n",
              "  <thead>\n",
              "    <tr style=\"text-align: right;\">\n",
              "      <th></th>\n",
              "      <th>len_word</th>\n",
              "      <th>len_char</th>\n",
              "      <th>len_char_ttl</th>\n",
              "    </tr>\n",
              "  </thead>\n",
              "  <tbody>\n",
              "    <tr>\n",
              "      <th>mean</th>\n",
              "      <td>32.713298</td>\n",
              "      <td>162.916289</td>\n",
              "      <td>203.833262</td>\n",
              "    </tr>\n",
              "    <tr>\n",
              "      <th>std</th>\n",
              "      <td>46.816725</td>\n",
              "      <td>224.955897</td>\n",
              "      <td>284.035375</td>\n",
              "    </tr>\n",
              "    <tr>\n",
              "      <th>min</th>\n",
              "      <td>0.000000</td>\n",
              "      <td>0.000000</td>\n",
              "      <td>0.000000</td>\n",
              "    </tr>\n",
              "    <tr>\n",
              "      <th>25%</th>\n",
              "      <td>5.000000</td>\n",
              "      <td>34.000000</td>\n",
              "      <td>40.000000</td>\n",
              "    </tr>\n",
              "    <tr>\n",
              "      <th>50%</th>\n",
              "      <td>18.000000</td>\n",
              "      <td>96.000000</td>\n",
              "      <td>119.000000</td>\n",
              "    </tr>\n",
              "    <tr>\n",
              "      <th>75%</th>\n",
              "      <td>43.000000</td>\n",
              "      <td>212.000000</td>\n",
              "      <td>265.000000</td>\n",
              "    </tr>\n",
              "    <tr>\n",
              "      <th>max</th>\n",
              "      <td>773.000000</td>\n",
              "      <td>3519.000000</td>\n",
              "      <td>4000.000000</td>\n",
              "    </tr>\n",
              "  </tbody>\n",
              "</table>\n",
              "</div>\n",
              "      <button class=\"colab-df-convert\" onclick=\"convertToInteractive('df-a3b7139f-0996-4f43-afd8-fd94704fa6b4')\"\n",
              "              title=\"Convert this dataframe to an interactive table.\"\n",
              "              style=\"display:none;\">\n",
              "        \n",
              "  <svg xmlns=\"http://www.w3.org/2000/svg\" height=\"24px\"viewBox=\"0 0 24 24\"\n",
              "       width=\"24px\">\n",
              "    <path d=\"M0 0h24v24H0V0z\" fill=\"none\"/>\n",
              "    <path d=\"M18.56 5.44l.94 2.06.94-2.06 2.06-.94-2.06-.94-.94-2.06-.94 2.06-2.06.94zm-11 1L8.5 8.5l.94-2.06 2.06-.94-2.06-.94L8.5 2.5l-.94 2.06-2.06.94zm10 10l.94 2.06.94-2.06 2.06-.94-2.06-.94-.94-2.06-.94 2.06-2.06.94z\"/><path d=\"M17.41 7.96l-1.37-1.37c-.4-.4-.92-.59-1.43-.59-.52 0-1.04.2-1.43.59L10.3 9.45l-7.72 7.72c-.78.78-.78 2.05 0 2.83L4 21.41c.39.39.9.59 1.41.59.51 0 1.02-.2 1.41-.59l7.78-7.78 2.81-2.81c.8-.78.8-2.07 0-2.86zM5.41 20L4 18.59l7.72-7.72 1.47 1.35L5.41 20z\"/>\n",
              "  </svg>\n",
              "      </button>\n",
              "      \n",
              "  <style>\n",
              "    .colab-df-container {\n",
              "      display:flex;\n",
              "      flex-wrap:wrap;\n",
              "      gap: 12px;\n",
              "    }\n",
              "\n",
              "    .colab-df-convert {\n",
              "      background-color: #E8F0FE;\n",
              "      border: none;\n",
              "      border-radius: 50%;\n",
              "      cursor: pointer;\n",
              "      display: none;\n",
              "      fill: #1967D2;\n",
              "      height: 32px;\n",
              "      padding: 0 0 0 0;\n",
              "      width: 32px;\n",
              "    }\n",
              "\n",
              "    .colab-df-convert:hover {\n",
              "      background-color: #E2EBFA;\n",
              "      box-shadow: 0px 1px 2px rgba(60, 64, 67, 0.3), 0px 1px 3px 1px rgba(60, 64, 67, 0.15);\n",
              "      fill: #174EA6;\n",
              "    }\n",
              "\n",
              "    [theme=dark] .colab-df-convert {\n",
              "      background-color: #3B4455;\n",
              "      fill: #D2E3FC;\n",
              "    }\n",
              "\n",
              "    [theme=dark] .colab-df-convert:hover {\n",
              "      background-color: #434B5C;\n",
              "      box-shadow: 0px 1px 3px 1px rgba(0, 0, 0, 0.15);\n",
              "      filter: drop-shadow(0px 1px 2px rgba(0, 0, 0, 0.3));\n",
              "      fill: #FFFFFF;\n",
              "    }\n",
              "  </style>\n",
              "\n",
              "      <script>\n",
              "        const buttonEl =\n",
              "          document.querySelector('#df-a3b7139f-0996-4f43-afd8-fd94704fa6b4 button.colab-df-convert');\n",
              "        buttonEl.style.display =\n",
              "          google.colab.kernel.accessAllowed ? 'block' : 'none';\n",
              "\n",
              "        async function convertToInteractive(key) {\n",
              "          const element = document.querySelector('#df-a3b7139f-0996-4f43-afd8-fd94704fa6b4');\n",
              "          const dataTable =\n",
              "            await google.colab.kernel.invokeFunction('convertToInteractive',\n",
              "                                                     [key], {});\n",
              "          if (!dataTable) return;\n",
              "\n",
              "          const docLinkHtml = 'Like what you see? Visit the ' +\n",
              "            '<a target=\"_blank\" href=https://colab.research.google.com/notebooks/data_table.ipynb>data table notebook</a>'\n",
              "            + ' to learn more about interactive tables.';\n",
              "          element.innerHTML = '';\n",
              "          dataTable['output_type'] = 'display_data';\n",
              "          await google.colab.output.renderOutput(dataTable, element);\n",
              "          const docLink = document.createElement('div');\n",
              "          docLink.innerHTML = docLinkHtml;\n",
              "          element.appendChild(docLink);\n",
              "        }\n",
              "      </script>\n",
              "    </div>\n",
              "  </div>\n",
              "  "
            ]
          },
          "metadata": {},
          "execution_count": 37
        }
      ]
    },
    {
      "cell_type": "code",
      "source": [
        "ios_df['len_word'].plot.hist(bins=20, color = 'grey');"
      ],
      "metadata": {
        "colab": {
          "base_uri": "https://localhost:8080/",
          "height": 430
        },
        "id": "Dd1vvNKoXIQH",
        "outputId": "0e95b154-785e-432e-90e2-fd64961bab38"
      },
      "execution_count": 38,
      "outputs": [
        {
          "output_type": "display_data",
          "data": {
            "text/plain": [
              "<Figure size 640x480 with 1 Axes>"
            ],
            "image/png": "[encoded data removed]"
          },
          "metadata": {}
        }
      ]
    },
    {
      "cell_type": "code",
      "source": [
        "ios_df['len_char'].plot.hist(bins=20, color = 'grey');"
      ],
      "metadata": {
        "colab": {
          "base_uri": "https://localhost:8080/",
          "height": 430
        },
        "id": "JO7YVl-VXpva",
        "outputId": "134841bd-951b-4e55-b0b3-1042dba01722"
      },
      "execution_count": 39,
      "outputs": [
        {
          "output_type": "display_data",
          "data": {
            "text/plain": [
              "<Figure size 640x480 with 1 Axes>"
            ],
            "image/png": "[encoded data removed]"
          },
          "metadata": {}
        }
      ]
    },
    {
      "cell_type": "markdown",
      "source": [
        "To prepare for the subsequent tasks, also normalize the text (i.e., turn characters to lower cases, remove stop words, and lemmetize)"
      ],
      "metadata": {
        "id": "kBHjf7KOy3rO"
      }
    },
    {
      "cell_type": "code",
      "source": [
        "def normalizeTokens(word_list, extra_stop=[]):\n",
        "    normalized = []\n",
        "    if type(word_list) == list and len(word_list) == 1:\n",
        "        word_list = word_list[0]\n",
        "\n",
        "    if type(word_list) == list:\n",
        "        word_list = ' '.join([str(elem) for elem in word_list]) \n",
        "\n",
        "    doc = nlp(word_list.lower())\n",
        "    \n",
        "    #add the property of stop word to words considered as stop words\n",
        "    if len(extra_stop) > 0:\n",
        "        for stopword in extra_stop:\n",
        "            lexeme = nlp.vocab[stopword]\n",
        "            lexeme.is_stop = True\n",
        "\n",
        "    for w in doc:\n",
        "        #if it's not a stop word or punctuation mark, add it to the list\n",
        "        if w.text != '\\n' and not w.is_stop and not w.is_punct and not w.like_num and len(w.text.strip()) > 0:\n",
        "            #add the lematized version of the word\n",
        "            normalized.append(str(w.lemma_))\n",
        "\n",
        "    return normalized"
      ],
      "metadata": {
        "id": "Tq65AuU7d54J"
      },
      "execution_count": null,
      "outputs": []
    },
    {
      "cell_type": "code",
      "source": [
        "%%time\n",
        "ios_df['description_nm'] =  ios_df['description'].apply(lambda x: normalizeTokens(x)) #for subsequent tasks"
      ],
      "metadata": {
        "colab": {
          "base_uri": "https://localhost:8080/"
        },
        "id": "4CFlaFffgoz5",
        "outputId": "5ef8b346-69c2-4528-d27a-7fec34828fff"
      },
      "execution_count": null,
      "outputs": [
        {
          "output_type": "stream",
          "name": "stdout",
          "text": [
            "CPU times: user 4h 2min 53s, sys: 42.2 s, total: 4h 3min 35s\n",
            "Wall time: 4h 3min 37s\n"
          ]
        }
      ]
    },
    {
      "cell_type": "code",
      "execution_count": 191,
      "metadata": {
        "id": "PSgavsV2CdCM",
        "colab": {
          "base_uri": "https://localhost:8080/"
        },
        "outputId": "4e9c45bc-627a-4603-e55e-08b41e236afb"
      },
      "outputs": [
        {
          "output_type": "stream",
          "name": "stdout",
          "text": [
            "CPU times: user 35.6 s, sys: 12.1 s, total: 47.7 s\n",
            "Wall time: 56.7 s\n"
          ]
        }
      ],
      "source": [
        "%%time\n",
        "ios_df.to_pickle('ios_app.pickle')\n",
        "#[['app_id', 'version', 'date', 'description_tk', 'description_nm', 'len_word', 'len_char']]"
      ]
    },
    {
      "cell_type": "markdown",
      "metadata": {
        "id": "UxugXyzrzVPO"
      },
      "source": [
        "## Task 3\n",
        "- (open-ended) determine major version updates for each app. Some version update descriptions mention \"major updates,\" while others say \"minor fixes\". No unified keywords indicate major version updates across all apps, so you may come up with a dictionary based on some examples. Another way to do this is that version updates from 1.1.4 to 1.2 is more likely to be major update compared to version updates from 1.1.4 to 1.1.5. You can construct multiple measures based on the version update descriptions and version codes."
      ]
    },
    {
      "cell_type": "markdown",
      "source": [
        "### Measure 1: by version number\n",
        "Reference: https://dl.acm.org/doi/abs/10.1145/2600428.2609560"
      ],
      "metadata": {
        "id": "w3drFanEVxwr"
      }
    },
    {
      "cell_type": "code",
      "execution_count": 7,
      "metadata": {
        "id": "UZLmahtnzZ-9"
      },
      "outputs": [],
      "source": [
        "ios_df = ios_df.sort_values(['app_id', 'date', 'version'])\n",
        "ios_df['version_lag'] = ios_df.groupby('app_id').shift(1)['version']"
      ]
    },
    {
      "cell_type": "code",
      "source": [
        "def update_by_num(row):\n",
        "    '''\n",
        "    #1 means major revision (change of the first digit)\n",
        "    #2 means minor revision (change of the second digit)\n",
        "    #3 means maintanence (change of the third digit)\n",
        "    #and so on\n",
        "    '''\n",
        "    cur_ver = row['version']#.split('.')\n",
        "    lag_ver = row['version_lag']#.split('.')\n",
        "    update = np.NaN\n",
        "    if type(cur_ver) == str and type(lag_ver) == str:\n",
        "        cur_ver = row['version'].split('.')\n",
        "        lag_ver = row['version_lag'].split('.')\n",
        "        cur_ver = cur_ver + ['0']*(5 - len(cur_ver)) #5 is the maximum number of version digits in the dataset\n",
        "        lag_ver = lag_ver + ['0']*(5 - len(lag_ver))\n",
        "        for i in range(min(len(cur_ver), len(lag_ver))):\n",
        "            if cur_ver[i] != lag_ver[i]:\n",
        "                update = i+1\n",
        "                break \n",
        "                #add break to record the highest digit change: \n",
        "                #e.g., from 1.3 to 2.0, both the first and second digit change\n",
        "                #but it is classified as major revision\n",
        "    return update"
      ],
      "metadata": {
        "id": "zs9vlApI6SXV"
      },
      "execution_count": 124,
      "outputs": []
    },
    {
      "cell_type": "code",
      "source": [
        "#new\n",
        "def update_distance(row):\n",
        "    '''\n",
        "    compute a list of distances with current and lag version number\n",
        "    e.g., current ver: 2.0.0, lag ver: 1.5.4 => distance list: [1, -5, -4, 0, 0] \n",
        "    '''\n",
        "    cur_ver = row['version']\n",
        "    lag_ver = row['version_lag']\n",
        "    dist_lst = np.NaN\n",
        "    if type(cur_ver) == str and type(lag_ver) == str: #screen out non-string obs\n",
        "        cur_ver = row['version'].replace('v.', '').replace('v', '') #some version number starts with v: e.g., v.2016.06.23\n",
        "        lag_ver = row['version_lag'].replace('v.', '').replace('v', '')\n",
        "        #print(cur_ver)\n",
        "        if len(re.findall(r'[A-Za-z]', cur_ver)) == 0 and len(re.findall(r'[A-Za-z]', lag_ver)) == 0 and \\\n",
        "        not '(' in cur_ver and not '+' in cur_ver: \n",
        "            #screen out irregularities: some version number has alphabets and special characters in it, ignore those\n",
        "            cur_ver = cur_ver.split('.')\n",
        "            lag_ver = lag_ver.split('.')\n",
        "            cur_ver = cur_ver + ['0']*(5 - len(cur_ver)) #5 is the maximum number of version digits in the dataset\n",
        "            lag_ver = lag_ver + ['0']*(5 - len(lag_ver))\n",
        "            #print(cur_ver)\n",
        "            if sum([len(re.findall(r'\\d+', d)) == 0 for d in cur_ver]) == 0 and \\\n",
        "            sum([len(re.findall(r'\\d+', d)) == 0 for d in lag_ver]) == 0: \n",
        "            #screen out irregularity: e.g., \"1..3.5\", \"임시\", ignore those\n",
        "                dist_lst = [int(re.findall(r'\\d+', cur_ver[i])[0]) - \\\n",
        "                            int(re.findall(r'\\d+', lag_ver[i])[0]) for i in range(len(cur_ver))]\n",
        "    return dist_lst"
      ],
      "metadata": {
        "id": "us2FU4KLSSOD"
      },
      "execution_count": 27,
      "outputs": []
    },
    {
      "cell_type": "code",
      "source": [
        "def first_non_zero_dist(dist_list):\n",
        "    if type(dist_list) != float:\n",
        "        non_zero_dist = [d for d in dist_list if d != 0]\n",
        "        if len(non_zero_dist) != 0:\n",
        "            return non_zero_dist[0]\n",
        "        else:\n",
        "            return np.NaN\n",
        "    else:\n",
        "        return np.NaN"
      ],
      "metadata": {
        "id": "MoCjbAKYUMWb"
      },
      "execution_count": 10,
      "outputs": []
    },
    {
      "cell_type": "code",
      "source": [
        "%%time\n",
        "ios_df['dist_lst'] = ios_df.apply(update_distance, axis = 1)\n",
        "#generate distance list"
      ],
      "metadata": {
        "colab": {
          "base_uri": "https://localhost:8080/"
        },
        "id": "jpRf2GZADkNa",
        "outputId": "fdc23d4a-1533-4a2d-ce34-bde351f2b643"
      },
      "execution_count": 28,
      "outputs": [
        {
          "output_type": "stream",
          "name": "stdout",
          "text": [
            "CPU times: user 47.5 s, sys: 1.01 s, total: 48.5 s\n",
            "Wall time: 48.6 s\n"
          ]
        }
      ]
    },
    {
      "cell_type": "code",
      "source": [
        "ios_df['update_num_dist'] = ios_df['dist_lst'].apply(lambda x: first_non_zero_dist(x))\n",
        "#get the first non zero distance"
      ],
      "metadata": {
        "id": "Qsfuik3vTeHM"
      },
      "execution_count": 29,
      "outputs": []
    },
    {
      "cell_type": "code",
      "source": [
        "ios_df['update_num_dist'].describe()[1:]"
      ],
      "metadata": {
        "colab": {
          "base_uri": "https://localhost:8080/"
        },
        "id": "Uch30n7dWGKw",
        "outputId": "c723f3ba-08b7-4a42-b0eb-d0201b7110e5"
      },
      "execution_count": 30,
      "outputs": [
        {
          "output_type": "execute_result",
          "data": {
            "text/plain": [
              "mean   -4.656551e+09\n",
              "std     4.936081e+12\n",
              "min    -5.232560e+15\n",
              "25%     1.000000e+00\n",
              "50%     1.000000e+00\n",
              "75%     1.000000e+00\n",
              "max     1.890200e+10\n",
              "Name: update_num_dist, dtype: float64"
            ]
          },
          "metadata": {},
          "execution_count": 30
        }
      ]
    },
    {
      "cell_type": "code",
      "source": [
        "print(len(ios_df[ios_df['update_num_dist'] < 0])) #2401 outliers - distance less than zero\n",
        "#e.g., case 1: change of version scheme, e.g., v.2018.x.x to x.x.x; case 2: typos, e.g., 0.87 is actually 0.8.7\n",
        "\n",
        "#ios_df[ios_df['update_num_dist'] == min(ios_df[ios_df['update_num_dist'].isna()==False]['update_num_dist'])]\n",
        "#take a look at the outliers\n",
        "ios_df[ios_df['update_num_dist'] < 0].sample(5)"
      ],
      "metadata": {
        "colab": {
          "base_uri": "https://localhost:8080/",
          "height": 444
        },
        "id": "SLKzIFMMWUfF",
        "outputId": "94bfddc4-b84f-4216-ea04-2d51e54498fb"
      },
      "execution_count": 31,
      "outputs": [
        {
          "output_type": "stream",
          "name": "stdout",
          "text": [
            "2401\n"
          ]
        },
        {
          "output_type": "execute_result",
          "data": {
            "text/plain": [
              "             app_id   version  \\\n",
              "1151033   997700435       1.3   \n",
              "264694   1273108688     1.1.2   \n",
              "196565   1198232244    1.30.3   \n",
              "649540   1587114188     1.1.7   \n",
              "616773   1550833631  1.6.3072   \n",
              "\n",
              "                                               description        date  \\\n",
              "1151033                       new mode! 600 puzzle levels!  2016-08-15   \n",
              "264694                                            bug fix.  2018-11-11   \n",
              "196565   fix for app not optimising in some circumstances.  2019-01-29   \n",
              "649540   announcementa world map function has been adde...  2021-11-26   \n",
              "616773                        bug fixes and optimizations.  2022-05-25   \n",
              "\n",
              "                                           description_raw  \\\n",
              "1151033                    * New Mode! 600+ Puzzle levels!   \n",
              "264694                                            bug fix.   \n",
              "196565   Fix for app not optimising in some circumstances.   \n",
              "649540   Announcement\\nA world map function has been ad...   \n",
              "616773                    - Bug fixes and optimizations.\\n   \n",
              "\n",
              "                                            description_nm  \\\n",
              "1151033                         [new, mode, puzzle, level]   \n",
              "264694                                          [bug, fix]   \n",
              "196565                  [fix, app, optimise, circumstance]   \n",
              "649540   [announcementa, world, map, function, add, pro...   \n",
              "616773                            [bug, fix, optimization]   \n",
              "\n",
              "                                            description_tk  len_word  \\\n",
              "1151033                   [New, Mode, 600, Puzzle, levels]         5   \n",
              "264694                                          [bug, fix]         2   \n",
              "196565   [Fix, for, app, not, optimising, in, some, cir...         8   \n",
              "649540   [AnnouncementA, world, map, function, has, bee...        55   \n",
              "616773                    [Bug, fixes, and, optimizations]         4   \n",
              "\n",
              "         len_char version_lag  update_by_num  len_char_ttl  \\\n",
              "1151033        22        1.21            2.0            31   \n",
              "264694          6        1.11            2.0             8   \n",
              "196565         41      1.31.2            2.0            49   \n",
              "649540        278      1.1.61            3.0           341   \n",
              "616773         24    1.6.3686            3.0            31   \n",
              "\n",
              "                   dist_lst  update_num_dist  para  feature_score  bug_score  \\\n",
              "1151033   [0, -18, 0, 0, 0]            -18.0     1       0.250000   0.000000   \n",
              "264694    [0, -10, 2, 0, 0]            -10.0     1       0.000000   1.000000   \n",
              "196565     [0, -1, 1, 0, 0]             -1.0     1       0.000000   0.500000   \n",
              "649540    [0, 0, -54, 0, 0]            -54.0     6       0.071429   0.000000   \n",
              "616773   [0, 0, -614, 0, 0]           -614.0     2       0.000000   0.666667   \n",
              "\n",
              "         update_by_direct_mention  \n",
              "1151033                         0  \n",
              "264694                          0  \n",
              "196565                          0  \n",
              "649540                          0  \n",
              "616773                          0  "
            ],
            "text/html": [
              "\n",
              "  <div id=\"df-6ec8c8a8-2304-4112-b426-c6b04d632e77\">\n",
              "    <div class=\"colab-df-container\">\n",
              "      <div>\n",
              "<style scoped>\n",
              "    .dataframe tbody tr th:only-of-type {\n",
              "        vertical-align: middle;\n",
              "    }\n",
              "\n",
              "    .dataframe tbody tr th {\n",
              "        vertical-align: top;\n",
              "    }\n",
              "\n",
              "    .dataframe thead th {\n",
              "        text-align: right;\n",
              "    }\n",
              "</style>\n",
              "<table border=\"1\" class=\"dataframe\">\n",
              "  <thead>\n",
              "    <tr style=\"text-align: right;\">\n",
              "      <th></th>\n",
              "      <th>app_id</th>\n",
              "      <th>version</th>\n",
              "      <th>description</th>\n",
              "      <th>date</th>\n",
              "      <th>description_raw</th>\n",
              "      <th>description_nm</th>\n",
              "      <th>description_tk</th>\n",
              "      <th>len_word</th>\n",
              "      <th>len_char</th>\n",
              "      <th>version_lag</th>\n",
              "      <th>update_by_num</th>\n",
              "      <th>len_char_ttl</th>\n",
              "      <th>dist_lst</th>\n",
              "      <th>update_num_dist</th>\n",
              "      <th>para</th>\n",
              "      <th>feature_score</th>\n",
              "      <th>bug_score</th>\n",
              "      <th>update_by_direct_mention</th>\n",
              "    </tr>\n",
              "  </thead>\n",
              "  <tbody>\n",
              "    <tr>\n",
              "      <th>1151033</th>\n",
              "      <td>997700435</td>\n",
              "      <td>1.3</td>\n",
              "      <td>new mode! 600 puzzle levels!</td>\n",
              "      <td>2016-08-15</td>\n",
              "      <td>* New Mode! 600+ Puzzle levels!</td>\n",
              "      <td>[new, mode, puzzle, level]</td>\n",
              "      <td>[New, Mode, 600, Puzzle, levels]</td>\n",
              "      <td>5</td>\n",
              "      <td>22</td>\n",
              "      <td>1.21</td>\n",
              "      <td>2.0</td>\n",
              "      <td>31</td>\n",
              "      <td>[0, -18, 0, 0, 0]</td>\n",
              "      <td>-18.0</td>\n",
              "      <td>1</td>\n",
              "      <td>0.250000</td>\n",
              "      <td>0.000000</td>\n",
              "      <td>0</td>\n",
              "    </tr>\n",
              "    <tr>\n",
              "      <th>264694</th>\n",
              "      <td>1273108688</td>\n",
              "      <td>1.1.2</td>\n",
              "      <td>bug fix.</td>\n",
              "      <td>2018-11-11</td>\n",
              "      <td>bug fix.</td>\n",
              "      <td>[bug, fix]</td>\n",
              "      <td>[bug, fix]</td>\n",
              "      <td>2</td>\n",
              "      <td>6</td>\n",
              "      <td>1.11</td>\n",
              "      <td>2.0</td>\n",
              "      <td>8</td>\n",
              "      <td>[0, -10, 2, 0, 0]</td>\n",
              "      <td>-10.0</td>\n",
              "      <td>1</td>\n",
              "      <td>0.000000</td>\n",
              "      <td>1.000000</td>\n",
              "      <td>0</td>\n",
              "    </tr>\n",
              "    <tr>\n",
              "      <th>196565</th>\n",
              "      <td>1198232244</td>\n",
              "      <td>1.30.3</td>\n",
              "      <td>fix for app not optimising in some circumstances.</td>\n",
              "      <td>2019-01-29</td>\n",
              "      <td>Fix for app not optimising in some circumstances.</td>\n",
              "      <td>[fix, app, optimise, circumstance]</td>\n",
              "      <td>[Fix, for, app, not, optimising, in, some, cir...</td>\n",
              "      <td>8</td>\n",
              "      <td>41</td>\n",
              "      <td>1.31.2</td>\n",
              "      <td>2.0</td>\n",
              "      <td>49</td>\n",
              "      <td>[0, -1, 1, 0, 0]</td>\n",
              "      <td>-1.0</td>\n",
              "      <td>1</td>\n",
              "      <td>0.000000</td>\n",
              "      <td>0.500000</td>\n",
              "      <td>0</td>\n",
              "    </tr>\n",
              "    <tr>\n",
              "      <th>649540</th>\n",
              "      <td>1587114188</td>\n",
              "      <td>1.1.7</td>\n",
              "      <td>announcementa world map function has been adde...</td>\n",
              "      <td>2021-11-26</td>\n",
              "      <td>Announcement\\nA world map function has been ad...</td>\n",
              "      <td>[announcementa, world, map, function, add, pro...</td>\n",
              "      <td>[AnnouncementA, world, map, function, has, bee...</td>\n",
              "      <td>55</td>\n",
              "      <td>278</td>\n",
              "      <td>1.1.61</td>\n",
              "      <td>3.0</td>\n",
              "      <td>341</td>\n",
              "      <td>[0, 0, -54, 0, 0]</td>\n",
              "      <td>-54.0</td>\n",
              "      <td>6</td>\n",
              "      <td>0.071429</td>\n",
              "      <td>0.000000</td>\n",
              "      <td>0</td>\n",
              "    </tr>\n",
              "    <tr>\n",
              "      <th>616773</th>\n",
              "      <td>1550833631</td>\n",
              "      <td>1.6.3072</td>\n",
              "      <td>bug fixes and optimizations.</td>\n",
              "      <td>2022-05-25</td>\n",
              "      <td>- Bug fixes and optimizations.\\n</td>\n",
              "      <td>[bug, fix, optimization]</td>\n",
              "      <td>[Bug, fixes, and, optimizations]</td>\n",
              "      <td>4</td>\n",
              "      <td>24</td>\n",
              "      <td>1.6.3686</td>\n",
              "      <td>3.0</td>\n",
              "      <td>31</td>\n",
              "      <td>[0, 0, -614, 0, 0]</td>\n",
              "      <td>-614.0</td>\n",
              "      <td>2</td>\n",
              "      <td>0.000000</td>\n",
              "      <td>0.666667</td>\n",
              "      <td>0</td>\n",
              "    </tr>\n",
              "  </tbody>\n",
              "</table>\n",
              "</div>\n",
              "      <button class=\"colab-df-convert\" onclick=\"convertToInteractive('df-6ec8c8a8-2304-4112-b426-c6b04d632e77')\"\n",
              "              title=\"Convert this dataframe to an interactive table.\"\n",
              "              style=\"display:none;\">\n",
              "        \n",
              "  <svg xmlns=\"http://www.w3.org/2000/svg\" height=\"24px\"viewBox=\"0 0 24 24\"\n",
              "       width=\"24px\">\n",
              "    <path d=\"M0 0h24v24H0V0z\" fill=\"none\"/>\n",
              "    <path d=\"M18.56 5.44l.94 2.06.94-2.06 2.06-.94-2.06-.94-.94-2.06-.94 2.06-2.06.94zm-11 1L8.5 8.5l.94-2.06 2.06-.94-2.06-.94L8.5 2.5l-.94 2.06-2.06.94zm10 10l.94 2.06.94-2.06 2.06-.94-2.06-.94-.94-2.06-.94 2.06-2.06.94z\"/><path d=\"M17.41 7.96l-1.37-1.37c-.4-.4-.92-.59-1.43-.59-.52 0-1.04.2-1.43.59L10.3 9.45l-7.72 7.72c-.78.78-.78 2.05 0 2.83L4 21.41c.39.39.9.59 1.41.59.51 0 1.02-.2 1.41-.59l7.78-7.78 2.81-2.81c.8-.78.8-2.07 0-2.86zM5.41 20L4 18.59l7.72-7.72 1.47 1.35L5.41 20z\"/>\n",
              "  </svg>\n",
              "      </button>\n",
              "      \n",
              "  <style>\n",
              "    .colab-df-container {\n",
              "      display:flex;\n",
              "      flex-wrap:wrap;\n",
              "      gap: 12px;\n",
              "    }\n",
              "\n",
              "    .colab-df-convert {\n",
              "      background-color: #E8F0FE;\n",
              "      border: none;\n",
              "      border-radius: 50%;\n",
              "      cursor: pointer;\n",
              "      display: none;\n",
              "      fill: #1967D2;\n",
              "      height: 32px;\n",
              "      padding: 0 0 0 0;\n",
              "      width: 32px;\n",
              "    }\n",
              "\n",
              "    .colab-df-convert:hover {\n",
              "      background-color: #E2EBFA;\n",
              "      box-shadow: 0px 1px 2px rgba(60, 64, 67, 0.3), 0px 1px 3px 1px rgba(60, 64, 67, 0.15);\n",
              "      fill: #174EA6;\n",
              "    }\n",
              "\n",
              "    [theme=dark] .colab-df-convert {\n",
              "      background-color: #3B4455;\n",
              "      fill: #D2E3FC;\n",
              "    }\n",
              "\n",
              "    [theme=dark] .colab-df-convert:hover {\n",
              "      background-color: #434B5C;\n",
              "      box-shadow: 0px 1px 3px 1px rgba(0, 0, 0, 0.15);\n",
              "      filter: drop-shadow(0px 1px 2px rgba(0, 0, 0, 0.3));\n",
              "      fill: #FFFFFF;\n",
              "    }\n",
              "  </style>\n",
              "\n",
              "      <script>\n",
              "        const buttonEl =\n",
              "          document.querySelector('#df-6ec8c8a8-2304-4112-b426-c6b04d632e77 button.colab-df-convert');\n",
              "        buttonEl.style.display =\n",
              "          google.colab.kernel.accessAllowed ? 'block' : 'none';\n",
              "\n",
              "        async function convertToInteractive(key) {\n",
              "          const element = document.querySelector('#df-6ec8c8a8-2304-4112-b426-c6b04d632e77');\n",
              "          const dataTable =\n",
              "            await google.colab.kernel.invokeFunction('convertToInteractive',\n",
              "                                                     [key], {});\n",
              "          if (!dataTable) return;\n",
              "\n",
              "          const docLinkHtml = 'Like what you see? Visit the ' +\n",
              "            '<a target=\"_blank\" href=https://colab.research.google.com/notebooks/data_table.ipynb>data table notebook</a>'\n",
              "            + ' to learn more about interactive tables.';\n",
              "          element.innerHTML = '';\n",
              "          dataTable['output_type'] = 'display_data';\n",
              "          await google.colab.output.renderOutput(dataTable, element);\n",
              "          const docLink = document.createElement('div');\n",
              "          docLink.innerHTML = docLinkHtml;\n",
              "          element.appendChild(docLink);\n",
              "        }\n",
              "      </script>\n",
              "    </div>\n",
              "  </div>\n",
              "  "
            ]
          },
          "metadata": {},
          "execution_count": 31
        }
      ]
    },
    {
      "cell_type": "code",
      "source": [
        "%%time\n",
        "ios_df['update_by_num'] = ios_df.apply(update_by_num, axis = 1)"
      ],
      "metadata": {
        "colab": {
          "base_uri": "https://localhost:8080/"
        },
        "id": "sf-H_Cel6VHr",
        "outputId": "e4fc253a-d410-400b-d269-bc46b5a0a8c9"
      },
      "execution_count": 125,
      "outputs": [
        {
          "output_type": "stream",
          "name": "stdout",
          "text": [
            "CPU times: user 17.7 s, sys: 477 ms, total: 18.2 s\n",
            "Wall time: 18.1 s\n"
          ]
        }
      ]
    },
    {
      "cell_type": "code",
      "source": [
        "ios_df['update_by_num'].value_counts() #version update indicator by update observation"
      ],
      "metadata": {
        "colab": {
          "base_uri": "https://localhost:8080/"
        },
        "id": "NXeoqTKEX1Mv",
        "outputId": "23b22f59-d03e-4e7e-c4d8-95a4394fec32"
      },
      "execution_count": 126,
      "outputs": [
        {
          "output_type": "execute_result",
          "data": {
            "text/plain": [
              "3.0    592618\n",
              "2.0    469586\n",
              "1.0     63174\n",
              "4.0      1850\n",
              "5.0       174\n",
              "Name: update_by_num, dtype: int64"
            ]
          },
          "metadata": {},
          "execution_count": 126
        }
      ]
    },
    {
      "cell_type": "code",
      "source": [
        "ios_df.groupby(['update_by_num', 'app_id']).count().reset_index()[['update_by_num', 'app_id']]\\\n",
        ".groupby('update_by_num').count() #version update indicator by app"
      ],
      "metadata": {
        "colab": {
          "base_uri": "https://localhost:8080/",
          "height": 238
        },
        "id": "CKZ45xa5hx8i",
        "outputId": "52b75e57-56f6-414e-e365-0825ee55263e"
      },
      "execution_count": 127,
      "outputs": [
        {
          "output_type": "execute_result",
          "data": {
            "text/plain": [
              "               app_id\n",
              "update_by_num        \n",
              "1.0             14807\n",
              "2.0             22805\n",
              "3.0             19150\n",
              "4.0               335\n",
              "5.0                 9"
            ],
            "text/html": [
              "\n",
              "  <div id=\"df-295ad2d1-372f-492e-941f-a30741544b9d\">\n",
              "    <div class=\"colab-df-container\">\n",
              "      <div>\n",
              "<style scoped>\n",
              "    .dataframe tbody tr th:only-of-type {\n",
              "        vertical-align: middle;\n",
              "    }\n",
              "\n",
              "    .dataframe tbody tr th {\n",
              "        vertical-align: top;\n",
              "    }\n",
              "\n",
              "    .dataframe thead th {\n",
              "        text-align: right;\n",
              "    }\n",
              "</style>\n",
              "<table border=\"1\" class=\"dataframe\">\n",
              "  <thead>\n",
              "    <tr style=\"text-align: right;\">\n",
              "      <th></th>\n",
              "      <th>app_id</th>\n",
              "    </tr>\n",
              "    <tr>\n",
              "      <th>update_by_num</th>\n",
              "      <th></th>\n",
              "    </tr>\n",
              "  </thead>\n",
              "  <tbody>\n",
              "    <tr>\n",
              "      <th>1.0</th>\n",
              "      <td>14807</td>\n",
              "    </tr>\n",
              "    <tr>\n",
              "      <th>2.0</th>\n",
              "      <td>22805</td>\n",
              "    </tr>\n",
              "    <tr>\n",
              "      <th>3.0</th>\n",
              "      <td>19150</td>\n",
              "    </tr>\n",
              "    <tr>\n",
              "      <th>4.0</th>\n",
              "      <td>335</td>\n",
              "    </tr>\n",
              "    <tr>\n",
              "      <th>5.0</th>\n",
              "      <td>9</td>\n",
              "    </tr>\n",
              "  </tbody>\n",
              "</table>\n",
              "</div>\n",
              "      <button class=\"colab-df-convert\" onclick=\"convertToInteractive('df-295ad2d1-372f-492e-941f-a30741544b9d')\"\n",
              "              title=\"Convert this dataframe to an interactive table.\"\n",
              "              style=\"display:none;\">\n",
              "        \n",
              "  <svg xmlns=\"http://www.w3.org/2000/svg\" height=\"24px\"viewBox=\"0 0 24 24\"\n",
              "       width=\"24px\">\n",
              "    <path d=\"M0 0h24v24H0V0z\" fill=\"none\"/>\n",
              "    <path d=\"M18.56 5.44l.94 2.06.94-2.06 2.06-.94-2.06-.94-.94-2.06-.94 2.06-2.06.94zm-11 1L8.5 8.5l.94-2.06 2.06-.94-2.06-.94L8.5 2.5l-.94 2.06-2.06.94zm10 10l.94 2.06.94-2.06 2.06-.94-2.06-.94-.94-2.06-.94 2.06-2.06.94z\"/><path d=\"M17.41 7.96l-1.37-1.37c-.4-.4-.92-.59-1.43-.59-.52 0-1.04.2-1.43.59L10.3 9.45l-7.72 7.72c-.78.78-.78 2.05 0 2.83L4 21.41c.39.39.9.59 1.41.59.51 0 1.02-.2 1.41-.59l7.78-7.78 2.81-2.81c.8-.78.8-2.07 0-2.86zM5.41 20L4 18.59l7.72-7.72 1.47 1.35L5.41 20z\"/>\n",
              "  </svg>\n",
              "      </button>\n",
              "      \n",
              "  <style>\n",
              "    .colab-df-container {\n",
              "      display:flex;\n",
              "      flex-wrap:wrap;\n",
              "      gap: 12px;\n",
              "    }\n",
              "\n",
              "    .colab-df-convert {\n",
              "      background-color: #E8F0FE;\n",
              "      border: none;\n",
              "      border-radius: 50%;\n",
              "      cursor: pointer;\n",
              "      display: none;\n",
              "      fill: #1967D2;\n",
              "      height: 32px;\n",
              "      padding: 0 0 0 0;\n",
              "      width: 32px;\n",
              "    }\n",
              "\n",
              "    .colab-df-convert:hover {\n",
              "      background-color: #E2EBFA;\n",
              "      box-shadow: 0px 1px 2px rgba(60, 64, 67, 0.3), 0px 1px 3px 1px rgba(60, 64, 67, 0.15);\n",
              "      fill: #174EA6;\n",
              "    }\n",
              "\n",
              "    [theme=dark] .colab-df-convert {\n",
              "      background-color: #3B4455;\n",
              "      fill: #D2E3FC;\n",
              "    }\n",
              "\n",
              "    [theme=dark] .colab-df-convert:hover {\n",
              "      background-color: #434B5C;\n",
              "      box-shadow: 0px 1px 3px 1px rgba(0, 0, 0, 0.15);\n",
              "      filter: drop-shadow(0px 1px 2px rgba(0, 0, 0, 0.3));\n",
              "      fill: #FFFFFF;\n",
              "    }\n",
              "  </style>\n",
              "\n",
              "      <script>\n",
              "        const buttonEl =\n",
              "          document.querySelector('#df-295ad2d1-372f-492e-941f-a30741544b9d button.colab-df-convert');\n",
              "        buttonEl.style.display =\n",
              "          google.colab.kernel.accessAllowed ? 'block' : 'none';\n",
              "\n",
              "        async function convertToInteractive(key) {\n",
              "          const element = document.querySelector('#df-295ad2d1-372f-492e-941f-a30741544b9d');\n",
              "          const dataTable =\n",
              "            await google.colab.kernel.invokeFunction('convertToInteractive',\n",
              "                                                     [key], {});\n",
              "          if (!dataTable) return;\n",
              "\n",
              "          const docLinkHtml = 'Like what you see? Visit the ' +\n",
              "            '<a target=\"_blank\" href=https://colab.research.google.com/notebooks/data_table.ipynb>data table notebook</a>'\n",
              "            + ' to learn more about interactive tables.';\n",
              "          element.innerHTML = '';\n",
              "          dataTable['output_type'] = 'display_data';\n",
              "          await google.colab.output.renderOutput(dataTable, element);\n",
              "          const docLink = document.createElement('div');\n",
              "          docLink.innerHTML = docLinkHtml;\n",
              "          element.appendChild(docLink);\n",
              "        }\n",
              "      </script>\n",
              "    </div>\n",
              "  </div>\n",
              "  "
            ]
          },
          "metadata": {},
          "execution_count": 127
        }
      ]
    },
    {
      "cell_type": "code",
      "source": [
        "#ios_df[ios_df['update_by_num'] == 5].head() #sanity check -> there really are apps with five-digit version numbers"
      ],
      "metadata": {
        "id": "s4AnPmL5ZyeC"
      },
      "execution_count": 1,
      "outputs": []
    },
    {
      "cell_type": "markdown",
      "source": [
        "Modify the measure to accommondate cases where only digits at a certain location change throughout the sample period, e.g., only the third digit changes, 0.0.2 all the way to 0.0.80.\n",
        "\n",
        "1. Calculate the maximum and minimum value of the original measure, calculate the difference\n",
        "2. For apps with more than three levels of update (max_min_diff <= 2), classify updates with changes in the smallest digit major updates;\n",
        "For apps with less than three levels of update, classify them based on the distance measure (distance larger than the 75 quantile)"
      ],
      "metadata": {
        "id": "i5gfvElaeStk"
      }
    },
    {
      "cell_type": "code",
      "source": [
        "min_max_num = ios_df.groupby('app_id').agg({'update_by_num': ['min', 'max']}).reset_index()\n",
        "min_max_num.columns = min_max_num.columns.droplevel()\n",
        "min_max_num.columns = ['app_id',\"min_update_by_num\",\"max_update_by_num\"]\n",
        "min_max_num['min_max_diff'] = min_max_num['max_update_by_num'] - min_max_num['min_update_by_num']\n",
        "#min_max_num = min_max_num.rename(columns={'Unnamed: 0':'app_id', \"min\": \"min_update_by_num\", \"max\": \"max_update_by_num\"})\n",
        "min_max_num"
      ],
      "metadata": {
        "colab": {
          "base_uri": "https://localhost:8080/",
          "height": 424
        },
        "id": "cETLL2iAai2l",
        "outputId": "02f44e83-5c53-4f78-e00f-c8f332307d20"
      },
      "execution_count": 26,
      "outputs": [
        {
          "output_type": "execute_result",
          "data": {
            "text/plain": [
              "           app_id  min_update_by_num  max_update_by_num  min_max_diff\n",
              "0      1000017994                1.0                3.0           2.0\n",
              "1      1000332606                1.0                3.0           2.0\n",
              "2      1000418099                2.0                3.0           1.0\n",
              "3      1000556973                2.0                2.0           0.0\n",
              "4      1000668798                2.0                3.0           1.0\n",
              "...           ...                ...                ...           ...\n",
              "25723   999637946                NaN                NaN           NaN\n",
              "25724   999707163                1.0                3.0           2.0\n",
              "25725   999769961                1.0                3.0           2.0\n",
              "25726   999788251                2.0                3.0           1.0\n",
              "25727   999924447                1.0                2.0           1.0\n",
              "\n",
              "[25728 rows x 4 columns]"
            ],
            "text/html": [
              "\n",
              "  <div id=\"df-7cd5ac1e-821e-4838-a539-d5b43c601d2c\">\n",
              "    <div class=\"colab-df-container\">\n",
              "      <div>\n",
              "<style scoped>\n",
              "    .dataframe tbody tr th:only-of-type {\n",
              "        vertical-align: middle;\n",
              "    }\n",
              "\n",
              "    .dataframe tbody tr th {\n",
              "        vertical-align: top;\n",
              "    }\n",
              "\n",
              "    .dataframe thead th {\n",
              "        text-align: right;\n",
              "    }\n",
              "</style>\n",
              "<table border=\"1\" class=\"dataframe\">\n",
              "  <thead>\n",
              "    <tr style=\"text-align: right;\">\n",
              "      <th></th>\n",
              "      <th>app_id</th>\n",
              "      <th>min_update_by_num</th>\n",
              "      <th>max_update_by_num</th>\n",
              "      <th>min_max_diff</th>\n",
              "    </tr>\n",
              "  </thead>\n",
              "  <tbody>\n",
              "    <tr>\n",
              "      <th>0</th>\n",
              "      <td>1000017994</td>\n",
              "      <td>1.0</td>\n",
              "      <td>3.0</td>\n",
              "      <td>2.0</td>\n",
              "    </tr>\n",
              "    <tr>\n",
              "      <th>1</th>\n",
              "      <td>1000332606</td>\n",
              "      <td>1.0</td>\n",
              "      <td>3.0</td>\n",
              "      <td>2.0</td>\n",
              "    </tr>\n",
              "    <tr>\n",
              "      <th>2</th>\n",
              "      <td>1000418099</td>\n",
              "      <td>2.0</td>\n",
              "      <td>3.0</td>\n",
              "      <td>1.0</td>\n",
              "    </tr>\n",
              "    <tr>\n",
              "      <th>3</th>\n",
              "      <td>1000556973</td>\n",
              "      <td>2.0</td>\n",
              "      <td>2.0</td>\n",
              "      <td>0.0</td>\n",
              "    </tr>\n",
              "    <tr>\n",
              "      <th>4</th>\n",
              "      <td>1000668798</td>\n",
              "      <td>2.0</td>\n",
              "      <td>3.0</td>\n",
              "      <td>1.0</td>\n",
              "    </tr>\n",
              "    <tr>\n",
              "      <th>...</th>\n",
              "      <td>...</td>\n",
              "      <td>...</td>\n",
              "      <td>...</td>\n",
              "      <td>...</td>\n",
              "    </tr>\n",
              "    <tr>\n",
              "      <th>25723</th>\n",
              "      <td>999637946</td>\n",
              "      <td>NaN</td>\n",
              "      <td>NaN</td>\n",
              "      <td>NaN</td>\n",
              "    </tr>\n",
              "    <tr>\n",
              "      <th>25724</th>\n",
              "      <td>999707163</td>\n",
              "      <td>1.0</td>\n",
              "      <td>3.0</td>\n",
              "      <td>2.0</td>\n",
              "    </tr>\n",
              "    <tr>\n",
              "      <th>25725</th>\n",
              "      <td>999769961</td>\n",
              "      <td>1.0</td>\n",
              "      <td>3.0</td>\n",
              "      <td>2.0</td>\n",
              "    </tr>\n",
              "    <tr>\n",
              "      <th>25726</th>\n",
              "      <td>999788251</td>\n",
              "      <td>2.0</td>\n",
              "      <td>3.0</td>\n",
              "      <td>1.0</td>\n",
              "    </tr>\n",
              "    <tr>\n",
              "      <th>25727</th>\n",
              "      <td>999924447</td>\n",
              "      <td>1.0</td>\n",
              "      <td>2.0</td>\n",
              "      <td>1.0</td>\n",
              "    </tr>\n",
              "  </tbody>\n",
              "</table>\n",
              "<p>25728 rows × 4 columns</p>\n",
              "</div>\n",
              "      <button class=\"colab-df-convert\" onclick=\"convertToInteractive('df-7cd5ac1e-821e-4838-a539-d5b43c601d2c')\"\n",
              "              title=\"Convert this dataframe to an interactive table.\"\n",
              "              style=\"display:none;\">\n",
              "        \n",
              "  <svg xmlns=\"http://www.w3.org/2000/svg\" height=\"24px\"viewBox=\"0 0 24 24\"\n",
              "       width=\"24px\">\n",
              "    <path d=\"M0 0h24v24H0V0z\" fill=\"none\"/>\n",
              "    <path d=\"M18.56 5.44l.94 2.06.94-2.06 2.06-.94-2.06-.94-.94-2.06-.94 2.06-2.06.94zm-11 1L8.5 8.5l.94-2.06 2.06-.94-2.06-.94L8.5 2.5l-.94 2.06-2.06.94zm10 10l.94 2.06.94-2.06 2.06-.94-2.06-.94-.94-2.06-.94 2.06-2.06.94z\"/><path d=\"M17.41 7.96l-1.37-1.37c-.4-.4-.92-.59-1.43-.59-.52 0-1.04.2-1.43.59L10.3 9.45l-7.72 7.72c-.78.78-.78 2.05 0 2.83L4 21.41c.39.39.9.59 1.41.59.51 0 1.02-.2 1.41-.59l7.78-7.78 2.81-2.81c.8-.78.8-2.07 0-2.86zM5.41 20L4 18.59l7.72-7.72 1.47 1.35L5.41 20z\"/>\n",
              "  </svg>\n",
              "      </button>\n",
              "      \n",
              "  <style>\n",
              "    .colab-df-container {\n",
              "      display:flex;\n",
              "      flex-wrap:wrap;\n",
              "      gap: 12px;\n",
              "    }\n",
              "\n",
              "    .colab-df-convert {\n",
              "      background-color: #E8F0FE;\n",
              "      border: none;\n",
              "      border-radius: 50%;\n",
              "      cursor: pointer;\n",
              "      display: none;\n",
              "      fill: #1967D2;\n",
              "      height: 32px;\n",
              "      padding: 0 0 0 0;\n",
              "      width: 32px;\n",
              "    }\n",
              "\n",
              "    .colab-df-convert:hover {\n",
              "      background-color: #E2EBFA;\n",
              "      box-shadow: 0px 1px 2px rgba(60, 64, 67, 0.3), 0px 1px 3px 1px rgba(60, 64, 67, 0.15);\n",
              "      fill: #174EA6;\n",
              "    }\n",
              "\n",
              "    [theme=dark] .colab-df-convert {\n",
              "      background-color: #3B4455;\n",
              "      fill: #D2E3FC;\n",
              "    }\n",
              "\n",
              "    [theme=dark] .colab-df-convert:hover {\n",
              "      background-color: #434B5C;\n",
              "      box-shadow: 0px 1px 3px 1px rgba(0, 0, 0, 0.15);\n",
              "      filter: drop-shadow(0px 1px 2px rgba(0, 0, 0, 0.3));\n",
              "      fill: #FFFFFF;\n",
              "    }\n",
              "  </style>\n",
              "\n",
              "      <script>\n",
              "        const buttonEl =\n",
              "          document.querySelector('#df-7cd5ac1e-821e-4838-a539-d5b43c601d2c button.colab-df-convert');\n",
              "        buttonEl.style.display =\n",
              "          google.colab.kernel.accessAllowed ? 'block' : 'none';\n",
              "\n",
              "        async function convertToInteractive(key) {\n",
              "          const element = document.querySelector('#df-7cd5ac1e-821e-4838-a539-d5b43c601d2c');\n",
              "          const dataTable =\n",
              "            await google.colab.kernel.invokeFunction('convertToInteractive',\n",
              "                                                     [key], {});\n",
              "          if (!dataTable) return;\n",
              "\n",
              "          const docLinkHtml = 'Like what you see? Visit the ' +\n",
              "            '<a target=\"_blank\" href=https://colab.research.google.com/notebooks/data_table.ipynb>data table notebook</a>'\n",
              "            + ' to learn more about interactive tables.';\n",
              "          element.innerHTML = '';\n",
              "          dataTable['output_type'] = 'display_data';\n",
              "          await google.colab.output.renderOutput(dataTable, element);\n",
              "          const docLink = document.createElement('div');\n",
              "          docLink.innerHTML = docLinkHtml;\n",
              "          element.appendChild(docLink);\n",
              "        }\n",
              "      </script>\n",
              "    </div>\n",
              "  </div>\n",
              "  "
            ]
          },
          "metadata": {},
          "execution_count": 26
        }
      ]
    },
    {
      "cell_type": "code",
      "source": [
        "ios_df = pd.merge(ios_df, min_max_num, on = 'app_id')"
      ],
      "metadata": {
        "id": "bKSXzeVLg4GC"
      },
      "execution_count": 28,
      "outputs": []
    },
    {
      "cell_type": "code",
      "source": [
        "class Quantile:\n",
        "    def __init__(self, q):\n",
        "        self.q = q\n",
        "        \n",
        "    def __call__(self, x):\n",
        "        return x.quantile(self.q)"
      ],
      "metadata": {
        "id": "ZOv0esu2O6Rk"
      },
      "execution_count": 8,
      "outputs": []
    },
    {
      "cell_type": "code",
      "source": [
        "dist_p75 = ios_df.groupby('app_id').agg(dist_p75 = ('update_num_dist', Quantile(0.75)))"
      ],
      "metadata": {
        "id": "pwTU6TpUePkC"
      },
      "execution_count": 30,
      "outputs": []
    },
    {
      "cell_type": "code",
      "source": [
        "ios_df = pd.merge(ios_df, dist_p75, on = 'app_id')"
      ],
      "metadata": {
        "id": "FkKp7MXCioQd"
      },
      "execution_count": 33,
      "outputs": []
    },
    {
      "cell_type": "code",
      "source": [
        "def modified_update_by_num(row):\n",
        "    major = 0\n",
        "    if row['min_max_diff'] >= 2 and row['update_by_num'] == row['min_update_by_num']: #digits in at least three locations change\n",
        "        major = 1\n",
        "    if row['min_max_diff'] == 1 and row['update_by_num'] == row['min_update_by_num'] \\\n",
        "    and row['update_num_dist']>row['dist_p75']: #and row['dist_p75'] > 1:\n",
        "        major = 1\n",
        "    if row['min_max_diff'] == 0 and row['update_num_dist']>row['dist_p75']: #and row['dist_p75'] > 1:\n",
        "        major = 1\n",
        "    \n",
        "    return major"
      ],
      "metadata": {
        "id": "CSVF8FuHi6YC"
      },
      "execution_count": 18,
      "outputs": []
    },
    {
      "cell_type": "code",
      "source": [
        "%%time\n",
        "ios_df['update_by_num_modified'] = ios_df.apply(modified_update_by_num, axis = 1)"
      ],
      "metadata": {
        "colab": {
          "base_uri": "https://localhost:8080/"
        },
        "id": "gtDDFCYckbnE",
        "outputId": "2a2cacc5-3e06-4332-a296-60e61d806afb"
      },
      "execution_count": 19,
      "outputs": [
        {
          "output_type": "stream",
          "name": "stdout",
          "text": [
            "CPU times: user 19.9 s, sys: 722 ms, total: 20.6 s\n",
            "Wall time: 20.6 s\n"
          ]
        }
      ]
    },
    {
      "cell_type": "code",
      "source": [
        "sum(ios_df['update_by_num_modified'])"
      ],
      "metadata": {
        "colab": {
          "base_uri": "https://localhost:8080/"
        },
        "id": "Dqq8nOJbk9h_",
        "outputId": "8fa53991-e679-4e04-dae8-0f5b314ea5a3"
      },
      "execution_count": 20,
      "outputs": [
        {
          "output_type": "execute_result",
          "data": {
            "text/plain": [
              "55915"
            ]
          },
          "metadata": {},
          "execution_count": 20
        }
      ]
    },
    {
      "cell_type": "code",
      "source": [
        "ios_df[ios_df['update_by_num_modified'] == 1].sample(5)[['app_id', 'version', 'version_lag', 'description', \n",
        "                                                        'update_by_num', 'update_num_dist',\n",
        "                                                        'dist_p75', 'min_max_diff']]#take a look"
      ],
      "metadata": {
        "colab": {
          "base_uri": "https://localhost:8080/",
          "height": 206
        },
        "id": "bf-7oecMlKuM",
        "outputId": "66e80893-2f6e-4fc6-b854-322a11d6440a"
      },
      "execution_count": 22,
      "outputs": [
        {
          "output_type": "execute_result",
          "data": {
            "text/plain": [
              "             app_id  version version_lag  \\\n",
              "847101    511376996     1.15        1.14   \n",
              "1046328   893636757     1.37        1.33   \n",
              "996621    778300400      4.0       3.8.0   \n",
              "146358   1146717204  5.0.375       1.0.4   \n",
              "119069   1119153393    9.0.0       8.4.0   \n",
              "\n",
              "                                               description  update_by_num  \\\n",
              "847101   chocolate and peanut butter. wine and cheese. ...            2.0   \n",
              "1046328   major performance enhancements side exit exha...            2.0   \n",
              "996621    new global chat and grouped chats to make the...            1.0   \n",
              "146358    new user interface: smart, fast, powerful spe...            1.0   \n",
              "119069   v 9.0.0 various maintenance updates to keep th...            1.0   \n",
              "\n",
              "         update_num_dist  dist_p75  min_max_diff  \n",
              "847101               1.0       1.0           2.0  \n",
              "1046328              4.0       2.5           1.0  \n",
              "996621               1.0       1.0           2.0  \n",
              "146358               4.0       5.0           2.0  \n",
              "119069               1.0       1.0           2.0  "
            ],
            "text/html": [
              "\n",
              "  <div id=\"df-e0bfa704-4aeb-41a0-b5fa-0be7d370dd61\">\n",
              "    <div class=\"colab-df-container\">\n",
              "      <div>\n",
              "<style scoped>\n",
              "    .dataframe tbody tr th:only-of-type {\n",
              "        vertical-align: middle;\n",
              "    }\n",
              "\n",
              "    .dataframe tbody tr th {\n",
              "        vertical-align: top;\n",
              "    }\n",
              "\n",
              "    .dataframe thead th {\n",
              "        text-align: right;\n",
              "    }\n",
              "</style>\n",
              "<table border=\"1\" class=\"dataframe\">\n",
              "  <thead>\n",
              "    <tr style=\"text-align: right;\">\n",
              "      <th></th>\n",
              "      <th>app_id</th>\n",
              "      <th>version</th>\n",
              "      <th>version_lag</th>\n",
              "      <th>description</th>\n",
              "      <th>update_by_num</th>\n",
              "      <th>update_num_dist</th>\n",
              "      <th>dist_p75</th>\n",
              "      <th>min_max_diff</th>\n",
              "    </tr>\n",
              "  </thead>\n",
              "  <tbody>\n",
              "    <tr>\n",
              "      <th>847101</th>\n",
              "      <td>511376996</td>\n",
              "      <td>1.15</td>\n",
              "      <td>1.14</td>\n",
              "      <td>chocolate and peanut butter. wine and cheese. ...</td>\n",
              "      <td>2.0</td>\n",
              "      <td>1.0</td>\n",
              "      <td>1.0</td>\n",
              "      <td>2.0</td>\n",
              "    </tr>\n",
              "    <tr>\n",
              "      <th>1046328</th>\n",
              "      <td>893636757</td>\n",
              "      <td>1.37</td>\n",
              "      <td>1.33</td>\n",
              "      <td>major performance enhancements side exit exha...</td>\n",
              "      <td>2.0</td>\n",
              "      <td>4.0</td>\n",
              "      <td>2.5</td>\n",
              "      <td>1.0</td>\n",
              "    </tr>\n",
              "    <tr>\n",
              "      <th>996621</th>\n",
              "      <td>778300400</td>\n",
              "      <td>4.0</td>\n",
              "      <td>3.8.0</td>\n",
              "      <td>new global chat and grouped chats to make the...</td>\n",
              "      <td>1.0</td>\n",
              "      <td>1.0</td>\n",
              "      <td>1.0</td>\n",
              "      <td>2.0</td>\n",
              "    </tr>\n",
              "    <tr>\n",
              "      <th>146358</th>\n",
              "      <td>1146717204</td>\n",
              "      <td>5.0.375</td>\n",
              "      <td>1.0.4</td>\n",
              "      <td>new user interface: smart, fast, powerful spe...</td>\n",
              "      <td>1.0</td>\n",
              "      <td>4.0</td>\n",
              "      <td>5.0</td>\n",
              "      <td>2.0</td>\n",
              "    </tr>\n",
              "    <tr>\n",
              "      <th>119069</th>\n",
              "      <td>1119153393</td>\n",
              "      <td>9.0.0</td>\n",
              "      <td>8.4.0</td>\n",
              "      <td>v 9.0.0 various maintenance updates to keep th...</td>\n",
              "      <td>1.0</td>\n",
              "      <td>1.0</td>\n",
              "      <td>1.0</td>\n",
              "      <td>2.0</td>\n",
              "    </tr>\n",
              "  </tbody>\n",
              "</table>\n",
              "</div>\n",
              "      <button class=\"colab-df-convert\" onclick=\"convertToInteractive('df-e0bfa704-4aeb-41a0-b5fa-0be7d370dd61')\"\n",
              "              title=\"Convert this dataframe to an interactive table.\"\n",
              "              style=\"display:none;\">\n",
              "        \n",
              "  <svg xmlns=\"http://www.w3.org/2000/svg\" height=\"24px\"viewBox=\"0 0 24 24\"\n",
              "       width=\"24px\">\n",
              "    <path d=\"M0 0h24v24H0V0z\" fill=\"none\"/>\n",
              "    <path d=\"M18.56 5.44l.94 2.06.94-2.06 2.06-.94-2.06-.94-.94-2.06-.94 2.06-2.06.94zm-11 1L8.5 8.5l.94-2.06 2.06-.94-2.06-.94L8.5 2.5l-.94 2.06-2.06.94zm10 10l.94 2.06.94-2.06 2.06-.94-2.06-.94-.94-2.06-.94 2.06-2.06.94z\"/><path d=\"M17.41 7.96l-1.37-1.37c-.4-.4-.92-.59-1.43-.59-.52 0-1.04.2-1.43.59L10.3 9.45l-7.72 7.72c-.78.78-.78 2.05 0 2.83L4 21.41c.39.39.9.59 1.41.59.51 0 1.02-.2 1.41-.59l7.78-7.78 2.81-2.81c.8-.78.8-2.07 0-2.86zM5.41 20L4 18.59l7.72-7.72 1.47 1.35L5.41 20z\"/>\n",
              "  </svg>\n",
              "      </button>\n",
              "      \n",
              "  <style>\n",
              "    .colab-df-container {\n",
              "      display:flex;\n",
              "      flex-wrap:wrap;\n",
              "      gap: 12px;\n",
              "    }\n",
              "\n",
              "    .colab-df-convert {\n",
              "      background-color: #E8F0FE;\n",
              "      border: none;\n",
              "      border-radius: 50%;\n",
              "      cursor: pointer;\n",
              "      display: none;\n",
              "      fill: #1967D2;\n",
              "      height: 32px;\n",
              "      padding: 0 0 0 0;\n",
              "      width: 32px;\n",
              "    }\n",
              "\n",
              "    .colab-df-convert:hover {\n",
              "      background-color: #E2EBFA;\n",
              "      box-shadow: 0px 1px 2px rgba(60, 64, 67, 0.3), 0px 1px 3px 1px rgba(60, 64, 67, 0.15);\n",
              "      fill: #174EA6;\n",
              "    }\n",
              "\n",
              "    [theme=dark] .colab-df-convert {\n",
              "      background-color: #3B4455;\n",
              "      fill: #D2E3FC;\n",
              "    }\n",
              "\n",
              "    [theme=dark] .colab-df-convert:hover {\n",
              "      background-color: #434B5C;\n",
              "      box-shadow: 0px 1px 3px 1px rgba(0, 0, 0, 0.15);\n",
              "      filter: drop-shadow(0px 1px 2px rgba(0, 0, 0, 0.3));\n",
              "      fill: #FFFFFF;\n",
              "    }\n",
              "  </style>\n",
              "\n",
              "      <script>\n",
              "        const buttonEl =\n",
              "          document.querySelector('#df-e0bfa704-4aeb-41a0-b5fa-0be7d370dd61 button.colab-df-convert');\n",
              "        buttonEl.style.display =\n",
              "          google.colab.kernel.accessAllowed ? 'block' : 'none';\n",
              "\n",
              "        async function convertToInteractive(key) {\n",
              "          const element = document.querySelector('#df-e0bfa704-4aeb-41a0-b5fa-0be7d370dd61');\n",
              "          const dataTable =\n",
              "            await google.colab.kernel.invokeFunction('convertToInteractive',\n",
              "                                                     [key], {});\n",
              "          if (!dataTable) return;\n",
              "\n",
              "          const docLinkHtml = 'Like what you see? Visit the ' +\n",
              "            '<a target=\"_blank\" href=https://colab.research.google.com/notebooks/data_table.ipynb>data table notebook</a>'\n",
              "            + ' to learn more about interactive tables.';\n",
              "          element.innerHTML = '';\n",
              "          dataTable['output_type'] = 'display_data';\n",
              "          await google.colab.output.renderOutput(dataTable, element);\n",
              "          const docLink = document.createElement('div');\n",
              "          docLink.innerHTML = docLinkHtml;\n",
              "          element.appendChild(docLink);\n",
              "        }\n",
              "      </script>\n",
              "    </div>\n",
              "  </div>\n",
              "  "
            ]
          },
          "metadata": {},
          "execution_count": 22
        }
      ]
    },
    {
      "cell_type": "markdown",
      "source": [
        "### Measure 2: Number of paragraphs (line breakers)\n",
        "Descriptions with multiple paragraphs may involve more aspects of revision.\n",
        "\n",
        "Classify major revisions based on quantile"
      ],
      "metadata": {
        "id": "l0xJDW4yWAAo"
      }
    },
    {
      "cell_type": "code",
      "source": [
        "ios_df['para'] = ios_df['description_raw'].apply(lambda x: x.count('\\n')+1) #number of line breakers -> paragraphs"
      ],
      "metadata": {
        "id": "yMJ6DLb8f2O0"
      },
      "execution_count": 21,
      "outputs": []
    },
    {
      "cell_type": "code",
      "source": [
        "ios_df['para'].describe()[1:]"
      ],
      "metadata": {
        "colab": {
          "base_uri": "https://localhost:8080/"
        },
        "id": "5-O4mJfBVBNE",
        "outputId": "1d8e038a-4acd-489c-ffe5-b9f3ac250910"
      },
      "execution_count": 22,
      "outputs": [
        {
          "output_type": "execute_result",
          "data": {
            "text/plain": [
              "mean      3.760231\n",
              "std       4.851247\n",
              "min       1.000000\n",
              "25%       1.000000\n",
              "50%       2.000000\n",
              "75%       5.000000\n",
              "max     991.000000\n",
              "Name: para, dtype: float64"
            ]
          },
          "metadata": {},
          "execution_count": 22
        }
      ]
    },
    {
      "cell_type": "code",
      "source": [
        "para_p75 = ios_df.groupby('app_id').agg(para_p75 = ('para', Quantile(0.75)))"
      ],
      "metadata": {
        "id": "73dLrdN8GddT"
      },
      "execution_count": 9,
      "outputs": []
    },
    {
      "cell_type": "code",
      "source": [
        "para_p75.describe()"
      ],
      "metadata": {
        "colab": {
          "base_uri": "https://localhost:8080/",
          "height": 300
        },
        "id": "vOgCZlxnHCSu",
        "outputId": "88b8c6d9-9426-4902-e80a-1ad67d87ef88"
      },
      "execution_count": 10,
      "outputs": [
        {
          "output_type": "execute_result",
          "data": {
            "text/plain": [
              "           para_p75\n",
              "count  25728.000000\n",
              "mean       3.848317\n",
              "std        3.950048\n",
              "min        1.000000\n",
              "25%        1.250000\n",
              "50%        3.000000\n",
              "75%        5.000000\n",
              "max       78.500000"
            ],
            "text/html": [
              "\n",
              "  <div id=\"df-2afa5301-562a-42e6-83da-440aa241b283\">\n",
              "    <div class=\"colab-df-container\">\n",
              "      <div>\n",
              "<style scoped>\n",
              "    .dataframe tbody tr th:only-of-type {\n",
              "        vertical-align: middle;\n",
              "    }\n",
              "\n",
              "    .dataframe tbody tr th {\n",
              "        vertical-align: top;\n",
              "    }\n",
              "\n",
              "    .dataframe thead th {\n",
              "        text-align: right;\n",
              "    }\n",
              "</style>\n",
              "<table border=\"1\" class=\"dataframe\">\n",
              "  <thead>\n",
              "    <tr style=\"text-align: right;\">\n",
              "      <th></th>\n",
              "      <th>para_p75</th>\n",
              "    </tr>\n",
              "  </thead>\n",
              "  <tbody>\n",
              "    <tr>\n",
              "      <th>count</th>\n",
              "      <td>25728.000000</td>\n",
              "    </tr>\n",
              "    <tr>\n",
              "      <th>mean</th>\n",
              "      <td>3.848317</td>\n",
              "    </tr>\n",
              "    <tr>\n",
              "      <th>std</th>\n",
              "      <td>3.950048</td>\n",
              "    </tr>\n",
              "    <tr>\n",
              "      <th>min</th>\n",
              "      <td>1.000000</td>\n",
              "    </tr>\n",
              "    <tr>\n",
              "      <th>25%</th>\n",
              "      <td>1.250000</td>\n",
              "    </tr>\n",
              "    <tr>\n",
              "      <th>50%</th>\n",
              "      <td>3.000000</td>\n",
              "    </tr>\n",
              "    <tr>\n",
              "      <th>75%</th>\n",
              "      <td>5.000000</td>\n",
              "    </tr>\n",
              "    <tr>\n",
              "      <th>max</th>\n",
              "      <td>78.500000</td>\n",
              "    </tr>\n",
              "  </tbody>\n",
              "</table>\n",
              "</div>\n",
              "      <button class=\"colab-df-convert\" onclick=\"convertToInteractive('df-2afa5301-562a-42e6-83da-440aa241b283')\"\n",
              "              title=\"Convert this dataframe to an interactive table.\"\n",
              "              style=\"display:none;\">\n",
              "        \n",
              "  <svg xmlns=\"http://www.w3.org/2000/svg\" height=\"24px\"viewBox=\"0 0 24 24\"\n",
              "       width=\"24px\">\n",
              "    <path d=\"M0 0h24v24H0V0z\" fill=\"none\"/>\n",
              "    <path d=\"M18.56 5.44l.94 2.06.94-2.06 2.06-.94-2.06-.94-.94-2.06-.94 2.06-2.06.94zm-11 1L8.5 8.5l.94-2.06 2.06-.94-2.06-.94L8.5 2.5l-.94 2.06-2.06.94zm10 10l.94 2.06.94-2.06 2.06-.94-2.06-.94-.94-2.06-.94 2.06-2.06.94z\"/><path d=\"M17.41 7.96l-1.37-1.37c-.4-.4-.92-.59-1.43-.59-.52 0-1.04.2-1.43.59L10.3 9.45l-7.72 7.72c-.78.78-.78 2.05 0 2.83L4 21.41c.39.39.9.59 1.41.59.51 0 1.02-.2 1.41-.59l7.78-7.78 2.81-2.81c.8-.78.8-2.07 0-2.86zM5.41 20L4 18.59l7.72-7.72 1.47 1.35L5.41 20z\"/>\n",
              "  </svg>\n",
              "      </button>\n",
              "      \n",
              "  <style>\n",
              "    .colab-df-container {\n",
              "      display:flex;\n",
              "      flex-wrap:wrap;\n",
              "      gap: 12px;\n",
              "    }\n",
              "\n",
              "    .colab-df-convert {\n",
              "      background-color: #E8F0FE;\n",
              "      border: none;\n",
              "      border-radius: 50%;\n",
              "      cursor: pointer;\n",
              "      display: none;\n",
              "      fill: #1967D2;\n",
              "      height: 32px;\n",
              "      padding: 0 0 0 0;\n",
              "      width: 32px;\n",
              "    }\n",
              "\n",
              "    .colab-df-convert:hover {\n",
              "      background-color: #E2EBFA;\n",
              "      box-shadow: 0px 1px 2px rgba(60, 64, 67, 0.3), 0px 1px 3px 1px rgba(60, 64, 67, 0.15);\n",
              "      fill: #174EA6;\n",
              "    }\n",
              "\n",
              "    [theme=dark] .colab-df-convert {\n",
              "      background-color: #3B4455;\n",
              "      fill: #D2E3FC;\n",
              "    }\n",
              "\n",
              "    [theme=dark] .colab-df-convert:hover {\n",
              "      background-color: #434B5C;\n",
              "      box-shadow: 0px 1px 3px 1px rgba(0, 0, 0, 0.15);\n",
              "      filter: drop-shadow(0px 1px 2px rgba(0, 0, 0, 0.3));\n",
              "      fill: #FFFFFF;\n",
              "    }\n",
              "  </style>\n",
              "\n",
              "      <script>\n",
              "        const buttonEl =\n",
              "          document.querySelector('#df-2afa5301-562a-42e6-83da-440aa241b283 button.colab-df-convert');\n",
              "        buttonEl.style.display =\n",
              "          google.colab.kernel.accessAllowed ? 'block' : 'none';\n",
              "\n",
              "        async function convertToInteractive(key) {\n",
              "          const element = document.querySelector('#df-2afa5301-562a-42e6-83da-440aa241b283');\n",
              "          const dataTable =\n",
              "            await google.colab.kernel.invokeFunction('convertToInteractive',\n",
              "                                                     [key], {});\n",
              "          if (!dataTable) return;\n",
              "\n",
              "          const docLinkHtml = 'Like what you see? Visit the ' +\n",
              "            '<a target=\"_blank\" href=https://colab.research.google.com/notebooks/data_table.ipynb>data table notebook</a>'\n",
              "            + ' to learn more about interactive tables.';\n",
              "          element.innerHTML = '';\n",
              "          dataTable['output_type'] = 'display_data';\n",
              "          await google.colab.output.renderOutput(dataTable, element);\n",
              "          const docLink = document.createElement('div');\n",
              "          docLink.innerHTML = docLinkHtml;\n",
              "          element.appendChild(docLink);\n",
              "        }\n",
              "      </script>\n",
              "    </div>\n",
              "  </div>\n",
              "  "
            ]
          },
          "metadata": {},
          "execution_count": 10
        }
      ]
    },
    {
      "cell_type": "code",
      "source": [
        "ios_df = pd.merge(ios_df, para_p75, on = 'app_id')"
      ],
      "metadata": {
        "id": "86FA7MrpHOB_"
      },
      "execution_count": 23,
      "outputs": []
    },
    {
      "cell_type": "code",
      "source": [
        "para_p90 = ios_df.groupby('app_id').agg(para_p90 = ('para', Quantile(0.9)))\n",
        "ios_df = pd.merge(ios_df, para_p90, on = 'app_id')"
      ],
      "metadata": {
        "id": "eR-_cEJdKCWA"
      },
      "execution_count": 32,
      "outputs": []
    },
    {
      "cell_type": "code",
      "source": [
        "para_p90.describe()"
      ],
      "metadata": {
        "colab": {
          "base_uri": "https://localhost:8080/",
          "height": 300
        },
        "id": "LWz5BcoadqZq",
        "outputId": "6efba74a-f4c7-4631-c0d4-4f7383c96918"
      },
      "execution_count": 126,
      "outputs": [
        {
          "output_type": "execute_result",
          "data": {
            "text/plain": [
              "           para_p90\n",
              "count  25728.000000\n",
              "mean       5.369415\n",
              "std        5.505113\n",
              "min        1.000000\n",
              "25%        2.000000\n",
              "50%        4.000000\n",
              "75%        7.000000\n",
              "max       93.500000"
            ],
            "text/html": [
              "\n",
              "  <div id=\"df-4a3b3cf3-dfff-4c7c-be95-72709ecc35b7\">\n",
              "    <div class=\"colab-df-container\">\n",
              "      <div>\n",
              "<style scoped>\n",
              "    .dataframe tbody tr th:only-of-type {\n",
              "        vertical-align: middle;\n",
              "    }\n",
              "\n",
              "    .dataframe tbody tr th {\n",
              "        vertical-align: top;\n",
              "    }\n",
              "\n",
              "    .dataframe thead th {\n",
              "        text-align: right;\n",
              "    }\n",
              "</style>\n",
              "<table border=\"1\" class=\"dataframe\">\n",
              "  <thead>\n",
              "    <tr style=\"text-align: right;\">\n",
              "      <th></th>\n",
              "      <th>para_p90</th>\n",
              "    </tr>\n",
              "  </thead>\n",
              "  <tbody>\n",
              "    <tr>\n",
              "      <th>count</th>\n",
              "      <td>25728.000000</td>\n",
              "    </tr>\n",
              "    <tr>\n",
              "      <th>mean</th>\n",
              "      <td>5.369415</td>\n",
              "    </tr>\n",
              "    <tr>\n",
              "      <th>std</th>\n",
              "      <td>5.505113</td>\n",
              "    </tr>\n",
              "    <tr>\n",
              "      <th>min</th>\n",
              "      <td>1.000000</td>\n",
              "    </tr>\n",
              "    <tr>\n",
              "      <th>25%</th>\n",
              "      <td>2.000000</td>\n",
              "    </tr>\n",
              "    <tr>\n",
              "      <th>50%</th>\n",
              "      <td>4.000000</td>\n",
              "    </tr>\n",
              "    <tr>\n",
              "      <th>75%</th>\n",
              "      <td>7.000000</td>\n",
              "    </tr>\n",
              "    <tr>\n",
              "      <th>max</th>\n",
              "      <td>93.500000</td>\n",
              "    </tr>\n",
              "  </tbody>\n",
              "</table>\n",
              "</div>\n",
              "      <button class=\"colab-df-convert\" onclick=\"convertToInteractive('df-4a3b3cf3-dfff-4c7c-be95-72709ecc35b7')\"\n",
              "              title=\"Convert this dataframe to an interactive table.\"\n",
              "              style=\"display:none;\">\n",
              "        \n",
              "  <svg xmlns=\"http://www.w3.org/2000/svg\" height=\"24px\"viewBox=\"0 0 24 24\"\n",
              "       width=\"24px\">\n",
              "    <path d=\"M0 0h24v24H0V0z\" fill=\"none\"/>\n",
              "    <path d=\"M18.56 5.44l.94 2.06.94-2.06 2.06-.94-2.06-.94-.94-2.06-.94 2.06-2.06.94zm-11 1L8.5 8.5l.94-2.06 2.06-.94-2.06-.94L8.5 2.5l-.94 2.06-2.06.94zm10 10l.94 2.06.94-2.06 2.06-.94-2.06-.94-.94-2.06-.94 2.06-2.06.94z\"/><path d=\"M17.41 7.96l-1.37-1.37c-.4-.4-.92-.59-1.43-.59-.52 0-1.04.2-1.43.59L10.3 9.45l-7.72 7.72c-.78.78-.78 2.05 0 2.83L4 21.41c.39.39.9.59 1.41.59.51 0 1.02-.2 1.41-.59l7.78-7.78 2.81-2.81c.8-.78.8-2.07 0-2.86zM5.41 20L4 18.59l7.72-7.72 1.47 1.35L5.41 20z\"/>\n",
              "  </svg>\n",
              "      </button>\n",
              "      \n",
              "  <style>\n",
              "    .colab-df-container {\n",
              "      display:flex;\n",
              "      flex-wrap:wrap;\n",
              "      gap: 12px;\n",
              "    }\n",
              "\n",
              "    .colab-df-convert {\n",
              "      background-color: #E8F0FE;\n",
              "      border: none;\n",
              "      border-radius: 50%;\n",
              "      cursor: pointer;\n",
              "      display: none;\n",
              "      fill: #1967D2;\n",
              "      height: 32px;\n",
              "      padding: 0 0 0 0;\n",
              "      width: 32px;\n",
              "    }\n",
              "\n",
              "    .colab-df-convert:hover {\n",
              "      background-color: #E2EBFA;\n",
              "      box-shadow: 0px 1px 2px rgba(60, 64, 67, 0.3), 0px 1px 3px 1px rgba(60, 64, 67, 0.15);\n",
              "      fill: #174EA6;\n",
              "    }\n",
              "\n",
              "    [theme=dark] .colab-df-convert {\n",
              "      background-color: #3B4455;\n",
              "      fill: #D2E3FC;\n",
              "    }\n",
              "\n",
              "    [theme=dark] .colab-df-convert:hover {\n",
              "      background-color: #434B5C;\n",
              "      box-shadow: 0px 1px 3px 1px rgba(0, 0, 0, 0.15);\n",
              "      filter: drop-shadow(0px 1px 2px rgba(0, 0, 0, 0.3));\n",
              "      fill: #FFFFFF;\n",
              "    }\n",
              "  </style>\n",
              "\n",
              "      <script>\n",
              "        const buttonEl =\n",
              "          document.querySelector('#df-4a3b3cf3-dfff-4c7c-be95-72709ecc35b7 button.colab-df-convert');\n",
              "        buttonEl.style.display =\n",
              "          google.colab.kernel.accessAllowed ? 'block' : 'none';\n",
              "\n",
              "        async function convertToInteractive(key) {\n",
              "          const element = document.querySelector('#df-4a3b3cf3-dfff-4c7c-be95-72709ecc35b7');\n",
              "          const dataTable =\n",
              "            await google.colab.kernel.invokeFunction('convertToInteractive',\n",
              "                                                     [key], {});\n",
              "          if (!dataTable) return;\n",
              "\n",
              "          const docLinkHtml = 'Like what you see? Visit the ' +\n",
              "            '<a target=\"_blank\" href=https://colab.research.google.com/notebooks/data_table.ipynb>data table notebook</a>'\n",
              "            + ' to learn more about interactive tables.';\n",
              "          element.innerHTML = '';\n",
              "          dataTable['output_type'] = 'display_data';\n",
              "          await google.colab.output.renderOutput(dataTable, element);\n",
              "          const docLink = document.createElement('div');\n",
              "          docLink.innerHTML = docLinkHtml;\n",
              "          element.appendChild(docLink);\n",
              "        }\n",
              "      </script>\n",
              "    </div>\n",
              "  </div>\n",
              "  "
            ]
          },
          "metadata": {},
          "execution_count": 126
        }
      ]
    },
    {
      "cell_type": "code",
      "source": [
        "def update_by_para(row):\n",
        "    major = 0\n",
        "    if row['para']>row['para_p90']:\n",
        "        major = 1\n",
        "    return major"
      ],
      "metadata": {
        "id": "GxtMrQxRJQQm"
      },
      "execution_count": 33,
      "outputs": []
    },
    {
      "cell_type": "code",
      "source": [
        "ios_df['update_by_para'] = ios_df.apply(update_by_para, axis=1)"
      ],
      "metadata": {
        "id": "NuG0UobIJdCu"
      },
      "execution_count": 34,
      "outputs": []
    },
    {
      "cell_type": "code",
      "source": [
        "sum(ios_df['update_by_para']) #199149 major revisions if set threshold .75 \n",
        "#85152 major revisions if set threshold .9"
      ],
      "metadata": {
        "colab": {
          "base_uri": "https://localhost:8080/"
        },
        "id": "cXcit-xCJufy",
        "outputId": "0fdd673e-cb1f-4f11-cbe3-f198486edab8"
      },
      "execution_count": 35,
      "outputs": [
        {
          "output_type": "execute_result",
          "data": {
            "text/plain": [
              "85152"
            ]
          },
          "metadata": {},
          "execution_count": 35
        }
      ]
    },
    {
      "cell_type": "markdown",
      "source": [
        "### Measure 3: revision content - feature update vs. bug fix\n",
        "Revisions related to core features of the app tend to be major updates whereas revions that only involves bug fixes may be minor revisions or maintanences. \n",
        "\n",
        "Classify updates with feature score larger than 75 quantile and bug score smaller than 25 quantile to be major revisions."
      ],
      "metadata": {
        "id": "N2IpiY5TXEBn"
      }
    },
    {
      "cell_type": "code",
      "source": [
        "feature_wds = set(['launch', 'introduce', 'feature', 'function',\n",
        "                   'design', 'product', 'redesign', 'invent', \n",
        "                   'invention', 'unlock'])\n",
        "bug_wds = set(['fix', 'bug', 'maintenance', 'issue', 'tweak', \n",
        "               'problem', 'outage', 'crash', 'fixed', 'bugfix', \n",
        "               'bugfixe','fixing', 'fixes', 'outage'])\n",
        "#more parsimounous \n",
        "\n",
        "#feature_wds = set(['launch', 'introduce', 'feature', 'function',\n",
        "#                   'design', 'add', 'core', 'product', 'release', 'redesign', 'invent', \n",
        "#                   'invention', 'unlock'])\n",
        "#bug_wds = set(['fix', 'bug', 'maintenance', 'performance', 'optimize', 'issue', 'tweak', \n",
        "#               'optimization', 'problem', 'outage', 'crash', 'fixed', 'bugfix', 'optimise', 'bugfixe',\n",
        "#               'fixing', 'fixes', 'outage', 'improve', 'improvement', 'enhance'])"
      ],
      "metadata": {
        "id": "kIhm-IYR1GjA"
      },
      "execution_count": 191,
      "outputs": []
    },
    {
      "cell_type": "code",
      "source": [
        "def feature_score(word_list):\n",
        "    total = len(word_list)\n",
        "    feature = len([e for e in word_list if e in feature_wds])\n",
        "    if total > 0:\n",
        "        return feature / total\n",
        "    else:\n",
        "        return 0\n",
        "\n",
        "def bug_score(word_list):\n",
        "    total = len(word_list)\n",
        "    bug = len([e for e in word_list if e in bug_wds])\n",
        "    if total > 0:\n",
        "        return bug / total\n",
        "    else:\n",
        "        return 0"
      ],
      "metadata": {
        "id": "Sz6xhc17zoN-"
      },
      "execution_count": 192,
      "outputs": []
    },
    {
      "cell_type": "code",
      "source": [
        "ios_df['feature_score'] = ios_df['description_nm'].apply(feature_score)\n",
        "ios_df['bug_score'] = ios_df['description_nm'].apply(bug_score)"
      ],
      "metadata": {
        "id": "j4DZ5Xxi1ka4"
      },
      "execution_count": 194,
      "outputs": []
    },
    {
      "cell_type": "code",
      "source": [
        "print('number of updates related to features: {}'.format(np.shape(ios_df[ios_df['feature_score']>0])[0])) \n",
        "print('number of updates related to bugs: {}'.format(np.shape(ios_df[ios_df['bug_score']>0])[0]))\n",
        "print('number of updates related to both features and bugs: {}'.format(len(ios_df.loc[(ios_df['bug_score']>0) \\\n",
        "                                                                                       & (ios_df['feature_score']>0)])))\n",
        "ios_df[['feature_score', 'bug_score']].describe()[1:]"
      ],
      "metadata": {
        "colab": {
          "base_uri": "https://localhost:8080/",
          "height": 322
        },
        "id": "GKl9M_0O3nyh",
        "outputId": "b79899fc-d832-4a08-c5f2-43e03b77e5e6"
      },
      "execution_count": 195,
      "outputs": [
        {
          "output_type": "stream",
          "name": "stdout",
          "text": [
            "number of updates related to features: 199816\n",
            "number of updates related to bugs: 700361\n",
            "number of updates related to both features and bugs: 104572\n"
          ]
        },
        {
          "output_type": "execute_result",
          "data": {
            "text/plain": [
              "      feature_score  bug_score\n",
              "mean       0.010762   0.183746\n",
              "std        0.034114   0.261894\n",
              "min        0.000000   0.000000\n",
              "25%        0.000000   0.000000\n",
              "50%        0.000000   0.066667\n",
              "75%        0.000000   0.250000\n",
              "max        1.000000   1.000000"
            ],
            "text/html": [
              "\n",
              "  <div id=\"df-1e07c5d6-1b7f-488d-8720-399c3965ef83\">\n",
              "    <div class=\"colab-df-container\">\n",
              "      <div>\n",
              "<style scoped>\n",
              "    .dataframe tbody tr th:only-of-type {\n",
              "        vertical-align: middle;\n",
              "    }\n",
              "\n",
              "    .dataframe tbody tr th {\n",
              "        vertical-align: top;\n",
              "    }\n",
              "\n",
              "    .dataframe thead th {\n",
              "        text-align: right;\n",
              "    }\n",
              "</style>\n",
              "<table border=\"1\" class=\"dataframe\">\n",
              "  <thead>\n",
              "    <tr style=\"text-align: right;\">\n",
              "      <th></th>\n",
              "      <th>feature_score</th>\n",
              "      <th>bug_score</th>\n",
              "    </tr>\n",
              "  </thead>\n",
              "  <tbody>\n",
              "    <tr>\n",
              "      <th>mean</th>\n",
              "      <td>0.010762</td>\n",
              "      <td>0.183746</td>\n",
              "    </tr>\n",
              "    <tr>\n",
              "      <th>std</th>\n",
              "      <td>0.034114</td>\n",
              "      <td>0.261894</td>\n",
              "    </tr>\n",
              "    <tr>\n",
              "      <th>min</th>\n",
              "      <td>0.000000</td>\n",
              "      <td>0.000000</td>\n",
              "    </tr>\n",
              "    <tr>\n",
              "      <th>25%</th>\n",
              "      <td>0.000000</td>\n",
              "      <td>0.000000</td>\n",
              "    </tr>\n",
              "    <tr>\n",
              "      <th>50%</th>\n",
              "      <td>0.000000</td>\n",
              "      <td>0.066667</td>\n",
              "    </tr>\n",
              "    <tr>\n",
              "      <th>75%</th>\n",
              "      <td>0.000000</td>\n",
              "      <td>0.250000</td>\n",
              "    </tr>\n",
              "    <tr>\n",
              "      <th>max</th>\n",
              "      <td>1.000000</td>\n",
              "      <td>1.000000</td>\n",
              "    </tr>\n",
              "  </tbody>\n",
              "</table>\n",
              "</div>\n",
              "      <button class=\"colab-df-convert\" onclick=\"convertToInteractive('df-1e07c5d6-1b7f-488d-8720-399c3965ef83')\"\n",
              "              title=\"Convert this dataframe to an interactive table.\"\n",
              "              style=\"display:none;\">\n",
              "        \n",
              "  <svg xmlns=\"http://www.w3.org/2000/svg\" height=\"24px\"viewBox=\"0 0 24 24\"\n",
              "       width=\"24px\">\n",
              "    <path d=\"M0 0h24v24H0V0z\" fill=\"none\"/>\n",
              "    <path d=\"M18.56 5.44l.94 2.06.94-2.06 2.06-.94-2.06-.94-.94-2.06-.94 2.06-2.06.94zm-11 1L8.5 8.5l.94-2.06 2.06-.94-2.06-.94L8.5 2.5l-.94 2.06-2.06.94zm10 10l.94 2.06.94-2.06 2.06-.94-2.06-.94-.94-2.06-.94 2.06-2.06.94z\"/><path d=\"M17.41 7.96l-1.37-1.37c-.4-.4-.92-.59-1.43-.59-.52 0-1.04.2-1.43.59L10.3 9.45l-7.72 7.72c-.78.78-.78 2.05 0 2.83L4 21.41c.39.39.9.59 1.41.59.51 0 1.02-.2 1.41-.59l7.78-7.78 2.81-2.81c.8-.78.8-2.07 0-2.86zM5.41 20L4 18.59l7.72-7.72 1.47 1.35L5.41 20z\"/>\n",
              "  </svg>\n",
              "      </button>\n",
              "      \n",
              "  <style>\n",
              "    .colab-df-container {\n",
              "      display:flex;\n",
              "      flex-wrap:wrap;\n",
              "      gap: 12px;\n",
              "    }\n",
              "\n",
              "    .colab-df-convert {\n",
              "      background-color: #E8F0FE;\n",
              "      border: none;\n",
              "      border-radius: 50%;\n",
              "      cursor: pointer;\n",
              "      display: none;\n",
              "      fill: #1967D2;\n",
              "      height: 32px;\n",
              "      padding: 0 0 0 0;\n",
              "      width: 32px;\n",
              "    }\n",
              "\n",
              "    .colab-df-convert:hover {\n",
              "      background-color: #E2EBFA;\n",
              "      box-shadow: 0px 1px 2px rgba(60, 64, 67, 0.3), 0px 1px 3px 1px rgba(60, 64, 67, 0.15);\n",
              "      fill: #174EA6;\n",
              "    }\n",
              "\n",
              "    [theme=dark] .colab-df-convert {\n",
              "      background-color: #3B4455;\n",
              "      fill: #D2E3FC;\n",
              "    }\n",
              "\n",
              "    [theme=dark] .colab-df-convert:hover {\n",
              "      background-color: #434B5C;\n",
              "      box-shadow: 0px 1px 3px 1px rgba(0, 0, 0, 0.15);\n",
              "      filter: drop-shadow(0px 1px 2px rgba(0, 0, 0, 0.3));\n",
              "      fill: #FFFFFF;\n",
              "    }\n",
              "  </style>\n",
              "\n",
              "      <script>\n",
              "        const buttonEl =\n",
              "          document.querySelector('#df-1e07c5d6-1b7f-488d-8720-399c3965ef83 button.colab-df-convert');\n",
              "        buttonEl.style.display =\n",
              "          google.colab.kernel.accessAllowed ? 'block' : 'none';\n",
              "\n",
              "        async function convertToInteractive(key) {\n",
              "          const element = document.querySelector('#df-1e07c5d6-1b7f-488d-8720-399c3965ef83');\n",
              "          const dataTable =\n",
              "            await google.colab.kernel.invokeFunction('convertToInteractive',\n",
              "                                                     [key], {});\n",
              "          if (!dataTable) return;\n",
              "\n",
              "          const docLinkHtml = 'Like what you see? Visit the ' +\n",
              "            '<a target=\"_blank\" href=https://colab.research.google.com/notebooks/data_table.ipynb>data table notebook</a>'\n",
              "            + ' to learn more about interactive tables.';\n",
              "          element.innerHTML = '';\n",
              "          dataTable['output_type'] = 'display_data';\n",
              "          await google.colab.output.renderOutput(dataTable, element);\n",
              "          const docLink = document.createElement('div');\n",
              "          docLink.innerHTML = docLinkHtml;\n",
              "          element.appendChild(docLink);\n",
              "        }\n",
              "      </script>\n",
              "    </div>\n",
              "  </div>\n",
              "  "
            ]
          },
          "metadata": {},
          "execution_count": 195
        }
      ]
    },
    {
      "cell_type": "code",
      "source": [
        "print('number of apps with at least one update of non-zero feature score: {}'\\\n",
        "      .format(len(ios_df[ios_df['feature_score']>0].groupby('app_id').count())))\n",
        "print('number of apps with at least one update of non-zero bug score: {}'\\\n",
        "      .format(len(ios_df[ios_df['bug_score']>0].groupby('app_id').count())))\n",
        "print('number of apps with at least one update of non-zero bug and feature scores: {}'\\\n",
        "      .format(len(ios_df.loc[(ios_df['bug_score']>0)& (ios_df['feature_score']>0)].groupby('app_id').count())))"
      ],
      "metadata": {
        "colab": {
          "base_uri": "https://localhost:8080/"
        },
        "id": "lGgKP95sMwEz",
        "outputId": "f3b700a0-ff81-434e-ec9b-1161d924060c"
      },
      "execution_count": 196,
      "outputs": [
        {
          "output_type": "stream",
          "name": "stdout",
          "text": [
            "number of apps with at least one update of non-zero feature score: 15952\n",
            "number of apps with at least one update of non-zero bug score: 23637\n",
            "number of apps with at least one update of non-zero bug and feature scores: 12278\n"
          ]
        }
      ]
    },
    {
      "cell_type": "code",
      "source": [
        "ios_df[['feature_score', 'bug_score']].corr() \n",
        "#negatively correlated"
      ],
      "metadata": {
        "colab": {
          "base_uri": "https://localhost:8080/",
          "height": 112
        },
        "id": "wsZhRCqJ579e",
        "outputId": "c26fcaed-2163-46ed-d7d6-068aa74913bc"
      },
      "execution_count": 197,
      "outputs": [
        {
          "output_type": "execute_result",
          "data": {
            "text/plain": [
              "               feature_score  bug_score\n",
              "feature_score       1.000000  -0.132181\n",
              "bug_score          -0.132181   1.000000"
            ],
            "text/html": [
              "\n",
              "  <div id=\"df-25e86adc-ec65-4970-b512-ee37ef0253af\">\n",
              "    <div class=\"colab-df-container\">\n",
              "      <div>\n",
              "<style scoped>\n",
              "    .dataframe tbody tr th:only-of-type {\n",
              "        vertical-align: middle;\n",
              "    }\n",
              "\n",
              "    .dataframe tbody tr th {\n",
              "        vertical-align: top;\n",
              "    }\n",
              "\n",
              "    .dataframe thead th {\n",
              "        text-align: right;\n",
              "    }\n",
              "</style>\n",
              "<table border=\"1\" class=\"dataframe\">\n",
              "  <thead>\n",
              "    <tr style=\"text-align: right;\">\n",
              "      <th></th>\n",
              "      <th>feature_score</th>\n",
              "      <th>bug_score</th>\n",
              "    </tr>\n",
              "  </thead>\n",
              "  <tbody>\n",
              "    <tr>\n",
              "      <th>feature_score</th>\n",
              "      <td>1.000000</td>\n",
              "      <td>-0.132181</td>\n",
              "    </tr>\n",
              "    <tr>\n",
              "      <th>bug_score</th>\n",
              "      <td>-0.132181</td>\n",
              "      <td>1.000000</td>\n",
              "    </tr>\n",
              "  </tbody>\n",
              "</table>\n",
              "</div>\n",
              "      <button class=\"colab-df-convert\" onclick=\"convertToInteractive('df-25e86adc-ec65-4970-b512-ee37ef0253af')\"\n",
              "              title=\"Convert this dataframe to an interactive table.\"\n",
              "              style=\"display:none;\">\n",
              "        \n",
              "  <svg xmlns=\"http://www.w3.org/2000/svg\" height=\"24px\"viewBox=\"0 0 24 24\"\n",
              "       width=\"24px\">\n",
              "    <path d=\"M0 0h24v24H0V0z\" fill=\"none\"/>\n",
              "    <path d=\"M18.56 5.44l.94 2.06.94-2.06 2.06-.94-2.06-.94-.94-2.06-.94 2.06-2.06.94zm-11 1L8.5 8.5l.94-2.06 2.06-.94-2.06-.94L8.5 2.5l-.94 2.06-2.06.94zm10 10l.94 2.06.94-2.06 2.06-.94-2.06-.94-.94-2.06-.94 2.06-2.06.94z\"/><path d=\"M17.41 7.96l-1.37-1.37c-.4-.4-.92-.59-1.43-.59-.52 0-1.04.2-1.43.59L10.3 9.45l-7.72 7.72c-.78.78-.78 2.05 0 2.83L4 21.41c.39.39.9.59 1.41.59.51 0 1.02-.2 1.41-.59l7.78-7.78 2.81-2.81c.8-.78.8-2.07 0-2.86zM5.41 20L4 18.59l7.72-7.72 1.47 1.35L5.41 20z\"/>\n",
              "  </svg>\n",
              "      </button>\n",
              "      \n",
              "  <style>\n",
              "    .colab-df-container {\n",
              "      display:flex;\n",
              "      flex-wrap:wrap;\n",
              "      gap: 12px;\n",
              "    }\n",
              "\n",
              "    .colab-df-convert {\n",
              "      background-color: #E8F0FE;\n",
              "      border: none;\n",
              "      border-radius: 50%;\n",
              "      cursor: pointer;\n",
              "      display: none;\n",
              "      fill: #1967D2;\n",
              "      height: 32px;\n",
              "      padding: 0 0 0 0;\n",
              "      width: 32px;\n",
              "    }\n",
              "\n",
              "    .colab-df-convert:hover {\n",
              "      background-color: #E2EBFA;\n",
              "      box-shadow: 0px 1px 2px rgba(60, 64, 67, 0.3), 0px 1px 3px 1px rgba(60, 64, 67, 0.15);\n",
              "      fill: #174EA6;\n",
              "    }\n",
              "\n",
              "    [theme=dark] .colab-df-convert {\n",
              "      background-color: #3B4455;\n",
              "      fill: #D2E3FC;\n",
              "    }\n",
              "\n",
              "    [theme=dark] .colab-df-convert:hover {\n",
              "      background-color: #434B5C;\n",
              "      box-shadow: 0px 1px 3px 1px rgba(0, 0, 0, 0.15);\n",
              "      filter: drop-shadow(0px 1px 2px rgba(0, 0, 0, 0.3));\n",
              "      fill: #FFFFFF;\n",
              "    }\n",
              "  </style>\n",
              "\n",
              "      <script>\n",
              "        const buttonEl =\n",
              "          document.querySelector('#df-25e86adc-ec65-4970-b512-ee37ef0253af button.colab-df-convert');\n",
              "        buttonEl.style.display =\n",
              "          google.colab.kernel.accessAllowed ? 'block' : 'none';\n",
              "\n",
              "        async function convertToInteractive(key) {\n",
              "          const element = document.querySelector('#df-25e86adc-ec65-4970-b512-ee37ef0253af');\n",
              "          const dataTable =\n",
              "            await google.colab.kernel.invokeFunction('convertToInteractive',\n",
              "                                                     [key], {});\n",
              "          if (!dataTable) return;\n",
              "\n",
              "          const docLinkHtml = 'Like what you see? Visit the ' +\n",
              "            '<a target=\"_blank\" href=https://colab.research.google.com/notebooks/data_table.ipynb>data table notebook</a>'\n",
              "            + ' to learn more about interactive tables.';\n",
              "          element.innerHTML = '';\n",
              "          dataTable['output_type'] = 'display_data';\n",
              "          await google.colab.output.renderOutput(dataTable, element);\n",
              "          const docLink = document.createElement('div');\n",
              "          docLink.innerHTML = docLinkHtml;\n",
              "          element.appendChild(docLink);\n",
              "        }\n",
              "      </script>\n",
              "    </div>\n",
              "  </div>\n",
              "  "
            ]
          },
          "metadata": {},
          "execution_count": 197
        }
      ]
    },
    {
      "cell_type": "code",
      "source": [
        "%%time\n",
        "feature_q = \\\n",
        "ios_df.groupby('app_id').agg(feature_p75 = ('feature_score', Quantile(0.75)),\n",
        "                             feature_p90 = ('feature_score', Quantile(0.90)))"
      ],
      "metadata": {
        "colab": {
          "base_uri": "https://localhost:8080/"
        },
        "id": "SeKWRmJPNwF3",
        "outputId": "a7690bba-5e4d-491c-bc92-4abe23cd4228"
      },
      "execution_count": 199,
      "outputs": [
        {
          "output_type": "stream",
          "name": "stdout",
          "text": [
            "CPU times: user 42.8 s, sys: 290 ms, total: 43 s\n",
            "Wall time: 43.1 s\n"
          ]
        }
      ]
    },
    {
      "cell_type": "code",
      "source": [
        "feature_q.describe()"
      ],
      "metadata": {
        "colab": {
          "base_uri": "https://localhost:8080/",
          "height": 300
        },
        "id": "-RqfkzwgSXPM",
        "outputId": "50ccc20b-c253-4cc0-97cb-99923120e13a"
      },
      "execution_count": 200,
      "outputs": [
        {
          "output_type": "execute_result",
          "data": {
            "text/plain": [
              "        feature_p75   feature_p90\n",
              "count  25728.000000  25728.000000\n",
              "mean       0.008426      0.024929\n",
              "std        0.027234      0.047047\n",
              "min        0.000000      0.000000\n",
              "25%        0.000000      0.000000\n",
              "50%        0.000000      0.000000\n",
              "75%        0.000000      0.036825\n",
              "max        0.500000      0.800000"
            ],
            "text/html": [
              "\n",
              "  <div id=\"df-324624dd-fec3-41a7-a063-c992e47f0146\">\n",
              "    <div class=\"colab-df-container\">\n",
              "      <div>\n",
              "<style scoped>\n",
              "    .dataframe tbody tr th:only-of-type {\n",
              "        vertical-align: middle;\n",
              "    }\n",
              "\n",
              "    .dataframe tbody tr th {\n",
              "        vertical-align: top;\n",
              "    }\n",
              "\n",
              "    .dataframe thead th {\n",
              "        text-align: right;\n",
              "    }\n",
              "</style>\n",
              "<table border=\"1\" class=\"dataframe\">\n",
              "  <thead>\n",
              "    <tr style=\"text-align: right;\">\n",
              "      <th></th>\n",
              "      <th>feature_p75</th>\n",
              "      <th>feature_p90</th>\n",
              "    </tr>\n",
              "  </thead>\n",
              "  <tbody>\n",
              "    <tr>\n",
              "      <th>count</th>\n",
              "      <td>25728.000000</td>\n",
              "      <td>25728.000000</td>\n",
              "    </tr>\n",
              "    <tr>\n",
              "      <th>mean</th>\n",
              "      <td>0.008426</td>\n",
              "      <td>0.024929</td>\n",
              "    </tr>\n",
              "    <tr>\n",
              "      <th>std</th>\n",
              "      <td>0.027234</td>\n",
              "      <td>0.047047</td>\n",
              "    </tr>\n",
              "    <tr>\n",
              "      <th>min</th>\n",
              "      <td>0.000000</td>\n",
              "      <td>0.000000</td>\n",
              "    </tr>\n",
              "    <tr>\n",
              "      <th>25%</th>\n",
              "      <td>0.000000</td>\n",
              "      <td>0.000000</td>\n",
              "    </tr>\n",
              "    <tr>\n",
              "      <th>50%</th>\n",
              "      <td>0.000000</td>\n",
              "      <td>0.000000</td>\n",
              "    </tr>\n",
              "    <tr>\n",
              "      <th>75%</th>\n",
              "      <td>0.000000</td>\n",
              "      <td>0.036825</td>\n",
              "    </tr>\n",
              "    <tr>\n",
              "      <th>max</th>\n",
              "      <td>0.500000</td>\n",
              "      <td>0.800000</td>\n",
              "    </tr>\n",
              "  </tbody>\n",
              "</table>\n",
              "</div>\n",
              "      <button class=\"colab-df-convert\" onclick=\"convertToInteractive('df-324624dd-fec3-41a7-a063-c992e47f0146')\"\n",
              "              title=\"Convert this dataframe to an interactive table.\"\n",
              "              style=\"display:none;\">\n",
              "        \n",
              "  <svg xmlns=\"http://www.w3.org/2000/svg\" height=\"24px\"viewBox=\"0 0 24 24\"\n",
              "       width=\"24px\">\n",
              "    <path d=\"M0 0h24v24H0V0z\" fill=\"none\"/>\n",
              "    <path d=\"M18.56 5.44l.94 2.06.94-2.06 2.06-.94-2.06-.94-.94-2.06-.94 2.06-2.06.94zm-11 1L8.5 8.5l.94-2.06 2.06-.94-2.06-.94L8.5 2.5l-.94 2.06-2.06.94zm10 10l.94 2.06.94-2.06 2.06-.94-2.06-.94-.94-2.06-.94 2.06-2.06.94z\"/><path d=\"M17.41 7.96l-1.37-1.37c-.4-.4-.92-.59-1.43-.59-.52 0-1.04.2-1.43.59L10.3 9.45l-7.72 7.72c-.78.78-.78 2.05 0 2.83L4 21.41c.39.39.9.59 1.41.59.51 0 1.02-.2 1.41-.59l7.78-7.78 2.81-2.81c.8-.78.8-2.07 0-2.86zM5.41 20L4 18.59l7.72-7.72 1.47 1.35L5.41 20z\"/>\n",
              "  </svg>\n",
              "      </button>\n",
              "      \n",
              "  <style>\n",
              "    .colab-df-container {\n",
              "      display:flex;\n",
              "      flex-wrap:wrap;\n",
              "      gap: 12px;\n",
              "    }\n",
              "\n",
              "    .colab-df-convert {\n",
              "      background-color: #E8F0FE;\n",
              "      border: none;\n",
              "      border-radius: 50%;\n",
              "      cursor: pointer;\n",
              "      display: none;\n",
              "      fill: #1967D2;\n",
              "      height: 32px;\n",
              "      padding: 0 0 0 0;\n",
              "      width: 32px;\n",
              "    }\n",
              "\n",
              "    .colab-df-convert:hover {\n",
              "      background-color: #E2EBFA;\n",
              "      box-shadow: 0px 1px 2px rgba(60, 64, 67, 0.3), 0px 1px 3px 1px rgba(60, 64, 67, 0.15);\n",
              "      fill: #174EA6;\n",
              "    }\n",
              "\n",
              "    [theme=dark] .colab-df-convert {\n",
              "      background-color: #3B4455;\n",
              "      fill: #D2E3FC;\n",
              "    }\n",
              "\n",
              "    [theme=dark] .colab-df-convert:hover {\n",
              "      background-color: #434B5C;\n",
              "      box-shadow: 0px 1px 3px 1px rgba(0, 0, 0, 0.15);\n",
              "      filter: drop-shadow(0px 1px 2px rgba(0, 0, 0, 0.3));\n",
              "      fill: #FFFFFF;\n",
              "    }\n",
              "  </style>\n",
              "\n",
              "      <script>\n",
              "        const buttonEl =\n",
              "          document.querySelector('#df-324624dd-fec3-41a7-a063-c992e47f0146 button.colab-df-convert');\n",
              "        buttonEl.style.display =\n",
              "          google.colab.kernel.accessAllowed ? 'block' : 'none';\n",
              "\n",
              "        async function convertToInteractive(key) {\n",
              "          const element = document.querySelector('#df-324624dd-fec3-41a7-a063-c992e47f0146');\n",
              "          const dataTable =\n",
              "            await google.colab.kernel.invokeFunction('convertToInteractive',\n",
              "                                                     [key], {});\n",
              "          if (!dataTable) return;\n",
              "\n",
              "          const docLinkHtml = 'Like what you see? Visit the ' +\n",
              "            '<a target=\"_blank\" href=https://colab.research.google.com/notebooks/data_table.ipynb>data table notebook</a>'\n",
              "            + ' to learn more about interactive tables.';\n",
              "          element.innerHTML = '';\n",
              "          dataTable['output_type'] = 'display_data';\n",
              "          await google.colab.output.renderOutput(dataTable, element);\n",
              "          const docLink = document.createElement('div');\n",
              "          docLink.innerHTML = docLinkHtml;\n",
              "          element.appendChild(docLink);\n",
              "        }\n",
              "      </script>\n",
              "    </div>\n",
              "  </div>\n",
              "  "
            ]
          },
          "metadata": {},
          "execution_count": 200
        }
      ]
    },
    {
      "cell_type": "code",
      "source": [
        "%%time\n",
        "bug_q = \\\n",
        "ios_df.groupby('app_id').agg(bug_p25 = ('bug_score', Quantile(0.25)),\n",
        "                             bug_p10 = ('bug_score', Quantile(0.10)))"
      ],
      "metadata": {
        "colab": {
          "base_uri": "https://localhost:8080/"
        },
        "id": "scARLg82Ro5j",
        "outputId": "6cb384c7-52b4-4be5-c32a-821cff17dbaa"
      },
      "execution_count": 201,
      "outputs": [
        {
          "output_type": "stream",
          "name": "stdout",
          "text": [
            "CPU times: user 42.5 s, sys: 275 ms, total: 42.8 s\n",
            "Wall time: 42.7 s\n"
          ]
        }
      ]
    },
    {
      "cell_type": "code",
      "source": [
        "bug_q.describe()"
      ],
      "metadata": {
        "colab": {
          "base_uri": "https://localhost:8080/",
          "height": 300
        },
        "id": "UdghXC1XSL7M",
        "outputId": "85c4bbf8-4d3f-4108-8587-de873b72fac2"
      },
      "execution_count": 202,
      "outputs": [
        {
          "output_type": "execute_result",
          "data": {
            "text/plain": [
              "            bug_p25       bug_p10\n",
              "count  25728.000000  25728.000000\n",
              "mean       0.070544      0.027185\n",
              "std        0.152124      0.090090\n",
              "min        0.000000      0.000000\n",
              "25%        0.000000      0.000000\n",
              "50%        0.000000      0.000000\n",
              "75%        0.071621      0.000000\n",
              "max        1.000000      1.000000"
            ],
            "text/html": [
              "\n",
              "  <div id=\"df-f5b322f7-232b-465e-85c7-d677e207a46b\">\n",
              "    <div class=\"colab-df-container\">\n",
              "      <div>\n",
              "<style scoped>\n",
              "    .dataframe tbody tr th:only-of-type {\n",
              "        vertical-align: middle;\n",
              "    }\n",
              "\n",
              "    .dataframe tbody tr th {\n",
              "        vertical-align: top;\n",
              "    }\n",
              "\n",
              "    .dataframe thead th {\n",
              "        text-align: right;\n",
              "    }\n",
              "</style>\n",
              "<table border=\"1\" class=\"dataframe\">\n",
              "  <thead>\n",
              "    <tr style=\"text-align: right;\">\n",
              "      <th></th>\n",
              "      <th>bug_p25</th>\n",
              "      <th>bug_p10</th>\n",
              "    </tr>\n",
              "  </thead>\n",
              "  <tbody>\n",
              "    <tr>\n",
              "      <th>count</th>\n",
              "      <td>25728.000000</td>\n",
              "      <td>25728.000000</td>\n",
              "    </tr>\n",
              "    <tr>\n",
              "      <th>mean</th>\n",
              "      <td>0.070544</td>\n",
              "      <td>0.027185</td>\n",
              "    </tr>\n",
              "    <tr>\n",
              "      <th>std</th>\n",
              "      <td>0.152124</td>\n",
              "      <td>0.090090</td>\n",
              "    </tr>\n",
              "    <tr>\n",
              "      <th>min</th>\n",
              "      <td>0.000000</td>\n",
              "      <td>0.000000</td>\n",
              "    </tr>\n",
              "    <tr>\n",
              "      <th>25%</th>\n",
              "      <td>0.000000</td>\n",
              "      <td>0.000000</td>\n",
              "    </tr>\n",
              "    <tr>\n",
              "      <th>50%</th>\n",
              "      <td>0.000000</td>\n",
              "      <td>0.000000</td>\n",
              "    </tr>\n",
              "    <tr>\n",
              "      <th>75%</th>\n",
              "      <td>0.071621</td>\n",
              "      <td>0.000000</td>\n",
              "    </tr>\n",
              "    <tr>\n",
              "      <th>max</th>\n",
              "      <td>1.000000</td>\n",
              "      <td>1.000000</td>\n",
              "    </tr>\n",
              "  </tbody>\n",
              "</table>\n",
              "</div>\n",
              "      <button class=\"colab-df-convert\" onclick=\"convertToInteractive('df-f5b322f7-232b-465e-85c7-d677e207a46b')\"\n",
              "              title=\"Convert this dataframe to an interactive table.\"\n",
              "              style=\"display:none;\">\n",
              "        \n",
              "  <svg xmlns=\"http://www.w3.org/2000/svg\" height=\"24px\"viewBox=\"0 0 24 24\"\n",
              "       width=\"24px\">\n",
              "    <path d=\"M0 0h24v24H0V0z\" fill=\"none\"/>\n",
              "    <path d=\"M18.56 5.44l.94 2.06.94-2.06 2.06-.94-2.06-.94-.94-2.06-.94 2.06-2.06.94zm-11 1L8.5 8.5l.94-2.06 2.06-.94-2.06-.94L8.5 2.5l-.94 2.06-2.06.94zm10 10l.94 2.06.94-2.06 2.06-.94-2.06-.94-.94-2.06-.94 2.06-2.06.94z\"/><path d=\"M17.41 7.96l-1.37-1.37c-.4-.4-.92-.59-1.43-.59-.52 0-1.04.2-1.43.59L10.3 9.45l-7.72 7.72c-.78.78-.78 2.05 0 2.83L4 21.41c.39.39.9.59 1.41.59.51 0 1.02-.2 1.41-.59l7.78-7.78 2.81-2.81c.8-.78.8-2.07 0-2.86zM5.41 20L4 18.59l7.72-7.72 1.47 1.35L5.41 20z\"/>\n",
              "  </svg>\n",
              "      </button>\n",
              "      \n",
              "  <style>\n",
              "    .colab-df-container {\n",
              "      display:flex;\n",
              "      flex-wrap:wrap;\n",
              "      gap: 12px;\n",
              "    }\n",
              "\n",
              "    .colab-df-convert {\n",
              "      background-color: #E8F0FE;\n",
              "      border: none;\n",
              "      border-radius: 50%;\n",
              "      cursor: pointer;\n",
              "      display: none;\n",
              "      fill: #1967D2;\n",
              "      height: 32px;\n",
              "      padding: 0 0 0 0;\n",
              "      width: 32px;\n",
              "    }\n",
              "\n",
              "    .colab-df-convert:hover {\n",
              "      background-color: #E2EBFA;\n",
              "      box-shadow: 0px 1px 2px rgba(60, 64, 67, 0.3), 0px 1px 3px 1px rgba(60, 64, 67, 0.15);\n",
              "      fill: #174EA6;\n",
              "    }\n",
              "\n",
              "    [theme=dark] .colab-df-convert {\n",
              "      background-color: #3B4455;\n",
              "      fill: #D2E3FC;\n",
              "    }\n",
              "\n",
              "    [theme=dark] .colab-df-convert:hover {\n",
              "      background-color: #434B5C;\n",
              "      box-shadow: 0px 1px 3px 1px rgba(0, 0, 0, 0.15);\n",
              "      filter: drop-shadow(0px 1px 2px rgba(0, 0, 0, 0.3));\n",
              "      fill: #FFFFFF;\n",
              "    }\n",
              "  </style>\n",
              "\n",
              "      <script>\n",
              "        const buttonEl =\n",
              "          document.querySelector('#df-f5b322f7-232b-465e-85c7-d677e207a46b button.colab-df-convert');\n",
              "        buttonEl.style.display =\n",
              "          google.colab.kernel.accessAllowed ? 'block' : 'none';\n",
              "\n",
              "        async function convertToInteractive(key) {\n",
              "          const element = document.querySelector('#df-f5b322f7-232b-465e-85c7-d677e207a46b');\n",
              "          const dataTable =\n",
              "            await google.colab.kernel.invokeFunction('convertToInteractive',\n",
              "                                                     [key], {});\n",
              "          if (!dataTable) return;\n",
              "\n",
              "          const docLinkHtml = 'Like what you see? Visit the ' +\n",
              "            '<a target=\"_blank\" href=https://colab.research.google.com/notebooks/data_table.ipynb>data table notebook</a>'\n",
              "            + ' to learn more about interactive tables.';\n",
              "          element.innerHTML = '';\n",
              "          dataTable['output_type'] = 'display_data';\n",
              "          await google.colab.output.renderOutput(dataTable, element);\n",
              "          const docLink = document.createElement('div');\n",
              "          docLink.innerHTML = docLinkHtml;\n",
              "          element.appendChild(docLink);\n",
              "        }\n",
              "      </script>\n",
              "    </div>\n",
              "  </div>\n",
              "  "
            ]
          },
          "metadata": {},
          "execution_count": 202
        }
      ]
    },
    {
      "cell_type": "code",
      "source": [
        "ios_df = pd.merge(ios_df, feature_q, on = 'app_id')\n",
        "ios_df = pd.merge(ios_df, bug_q, on = 'app_id')"
      ],
      "metadata": {
        "id": "y56vNLxdQ3MV"
      },
      "execution_count": 215,
      "outputs": []
    },
    {
      "cell_type": "code",
      "source": [
        "def update_by_feature_bug(row):\n",
        "    major = 0\n",
        "    if (row['feature_score']> 0) and (row['feature_score']>=row['feature_p75']) and (row['bug_score']<=row['bug_p25']):\n",
        "        major = 1\n",
        "    return major"
      ],
      "metadata": {
        "id": "OuUec3dcSmZ4"
      },
      "execution_count": 115,
      "outputs": []
    },
    {
      "cell_type": "code",
      "source": [
        "ios_df['update_by_feature_bug']=ios_df.apply(update_by_feature_bug, axis = 1)"
      ],
      "metadata": {
        "id": "Tasx1QGTTXR-"
      },
      "execution_count": 218,
      "outputs": []
    },
    {
      "cell_type": "code",
      "source": [
        "len(ios_df[ios_df['update_by_feature_bug'] == 1])"
      ],
      "metadata": {
        "colab": {
          "base_uri": "https://localhost:8080/"
        },
        "id": "JfrTiYVTLeVV",
        "outputId": "b40acb99-29e3-4758-959e-9f6b4ca7d575"
      },
      "execution_count": 38,
      "outputs": [
        {
          "output_type": "execute_result",
          "data": {
            "text/plain": [
              "56277"
            ]
          },
          "metadata": {},
          "execution_count": 38
        }
      ]
    },
    {
      "cell_type": "code",
      "source": [
        "ios_df[ios_df['update_by_feature_bug'] == 1].sample(5)[['app_id', 'version', 'version_lag', 'description', 'bug_score',\n",
        "                                                        'feature_score', 'update_by_feature_bug', 'update_by_num', \n",
        "                                                        'update_by_direct_mention']]#take a look"
      ],
      "metadata": {
        "colab": {
          "base_uri": "https://localhost:8080/",
          "height": 424
        },
        "id": "fRgWKrnZUl-8",
        "outputId": "2400ee5c-de14-4035-bff3-db843e05ad56"
      },
      "execution_count": 219,
      "outputs": [
        {
          "output_type": "stream",
          "name": "stdout",
          "text": [
            "number of major update by bug and feature score: 56277\n"
          ]
        },
        {
          "output_type": "execute_result",
          "data": {
            "text/plain": [
              "            app_id version version_lag  \\\n",
              "907329   584632814  5.28.0      5.27.0   \n",
              "267648  1275445927   3.0.7       3.0.3   \n",
              "407931  1441252752     1.2       1.1.1   \n",
              "364089  1400040339     3.9         3.8   \n",
              "867560   537263603   3.2.0       3.1.2   \n",
              "\n",
              "                                              description  bug_score  \\\n",
              "907329  optimized performance within the app. stay tun...        0.0   \n",
              "267648   some tasks in contracts can be replaced now\\r...        0.0   \n",
              "407931  today we are happy to bring you new and exciti...        0.0   \n",
              "364089                               minor design changes        0.0   \n",
              "867560  this holiday season, bring the fastaction fun ...        0.0   \n",
              "\n",
              "        feature_score  update_by_feature_bug  update_by_num  \\\n",
              "907329       0.083333                      1            2.0   \n",
              "267648       0.075472                      1            3.0   \n",
              "407931       0.019608                      1            2.0   \n",
              "364089       0.333333                      1            2.0   \n",
              "867560       0.062500                      1            2.0   \n",
              "\n",
              "        update_by_direct_mention  \n",
              "907329                         0  \n",
              "267648                         0  \n",
              "407931                         0  \n",
              "364089                         0  \n",
              "867560                         0  "
            ],
            "text/html": [
              "\n",
              "  <div id=\"df-2fec8b39-3ba8-4912-a4f3-a83913f9bd0e\">\n",
              "    <div class=\"colab-df-container\">\n",
              "      <div>\n",
              "<style scoped>\n",
              "    .dataframe tbody tr th:only-of-type {\n",
              "        vertical-align: middle;\n",
              "    }\n",
              "\n",
              "    .dataframe tbody tr th {\n",
              "        vertical-align: top;\n",
              "    }\n",
              "\n",
              "    .dataframe thead th {\n",
              "        text-align: right;\n",
              "    }\n",
              "</style>\n",
              "<table border=\"1\" class=\"dataframe\">\n",
              "  <thead>\n",
              "    <tr style=\"text-align: right;\">\n",
              "      <th></th>\n",
              "      <th>app_id</th>\n",
              "      <th>version</th>\n",
              "      <th>version_lag</th>\n",
              "      <th>description</th>\n",
              "      <th>bug_score</th>\n",
              "      <th>feature_score</th>\n",
              "      <th>update_by_feature_bug</th>\n",
              "      <th>update_by_num</th>\n",
              "      <th>update_by_direct_mention</th>\n",
              "    </tr>\n",
              "  </thead>\n",
              "  <tbody>\n",
              "    <tr>\n",
              "      <th>907329</th>\n",
              "      <td>584632814</td>\n",
              "      <td>5.28.0</td>\n",
              "      <td>5.27.0</td>\n",
              "      <td>optimized performance within the app. stay tun...</td>\n",
              "      <td>0.0</td>\n",
              "      <td>0.083333</td>\n",
              "      <td>1</td>\n",
              "      <td>2.0</td>\n",
              "      <td>0</td>\n",
              "    </tr>\n",
              "    <tr>\n",
              "      <th>267648</th>\n",
              "      <td>1275445927</td>\n",
              "      <td>3.0.7</td>\n",
              "      <td>3.0.3</td>\n",
              "      <td>some tasks in contracts can be replaced now\\r...</td>\n",
              "      <td>0.0</td>\n",
              "      <td>0.075472</td>\n",
              "      <td>1</td>\n",
              "      <td>3.0</td>\n",
              "      <td>0</td>\n",
              "    </tr>\n",
              "    <tr>\n",
              "      <th>407931</th>\n",
              "      <td>1441252752</td>\n",
              "      <td>1.2</td>\n",
              "      <td>1.1.1</td>\n",
              "      <td>today we are happy to bring you new and exciti...</td>\n",
              "      <td>0.0</td>\n",
              "      <td>0.019608</td>\n",
              "      <td>1</td>\n",
              "      <td>2.0</td>\n",
              "      <td>0</td>\n",
              "    </tr>\n",
              "    <tr>\n",
              "      <th>364089</th>\n",
              "      <td>1400040339</td>\n",
              "      <td>3.9</td>\n",
              "      <td>3.8</td>\n",
              "      <td>minor design changes</td>\n",
              "      <td>0.0</td>\n",
              "      <td>0.333333</td>\n",
              "      <td>1</td>\n",
              "      <td>2.0</td>\n",
              "      <td>0</td>\n",
              "    </tr>\n",
              "    <tr>\n",
              "      <th>867560</th>\n",
              "      <td>537263603</td>\n",
              "      <td>3.2.0</td>\n",
              "      <td>3.1.2</td>\n",
              "      <td>this holiday season, bring the fastaction fun ...</td>\n",
              "      <td>0.0</td>\n",
              "      <td>0.062500</td>\n",
              "      <td>1</td>\n",
              "      <td>2.0</td>\n",
              "      <td>0</td>\n",
              "    </tr>\n",
              "  </tbody>\n",
              "</table>\n",
              "</div>\n",
              "      <button class=\"colab-df-convert\" onclick=\"convertToInteractive('df-2fec8b39-3ba8-4912-a4f3-a83913f9bd0e')\"\n",
              "              title=\"Convert this dataframe to an interactive table.\"\n",
              "              style=\"display:none;\">\n",
              "        \n",
              "  <svg xmlns=\"http://www.w3.org/2000/svg\" height=\"24px\"viewBox=\"0 0 24 24\"\n",
              "       width=\"24px\">\n",
              "    <path d=\"M0 0h24v24H0V0z\" fill=\"none\"/>\n",
              "    <path d=\"M18.56 5.44l.94 2.06.94-2.06 2.06-.94-2.06-.94-.94-2.06-.94 2.06-2.06.94zm-11 1L8.5 8.5l.94-2.06 2.06-.94-2.06-.94L8.5 2.5l-.94 2.06-2.06.94zm10 10l.94 2.06.94-2.06 2.06-.94-2.06-.94-.94-2.06-.94 2.06-2.06.94z\"/><path d=\"M17.41 7.96l-1.37-1.37c-.4-.4-.92-.59-1.43-.59-.52 0-1.04.2-1.43.59L10.3 9.45l-7.72 7.72c-.78.78-.78 2.05 0 2.83L4 21.41c.39.39.9.59 1.41.59.51 0 1.02-.2 1.41-.59l7.78-7.78 2.81-2.81c.8-.78.8-2.07 0-2.86zM5.41 20L4 18.59l7.72-7.72 1.47 1.35L5.41 20z\"/>\n",
              "  </svg>\n",
              "      </button>\n",
              "      \n",
              "  <style>\n",
              "    .colab-df-container {\n",
              "      display:flex;\n",
              "      flex-wrap:wrap;\n",
              "      gap: 12px;\n",
              "    }\n",
              "\n",
              "    .colab-df-convert {\n",
              "      background-color: #E8F0FE;\n",
              "      border: none;\n",
              "      border-radius: 50%;\n",
              "      cursor: pointer;\n",
              "      display: none;\n",
              "      fill: #1967D2;\n",
              "      height: 32px;\n",
              "      padding: 0 0 0 0;\n",
              "      width: 32px;\n",
              "    }\n",
              "\n",
              "    .colab-df-convert:hover {\n",
              "      background-color: #E2EBFA;\n",
              "      box-shadow: 0px 1px 2px rgba(60, 64, 67, 0.3), 0px 1px 3px 1px rgba(60, 64, 67, 0.15);\n",
              "      fill: #174EA6;\n",
              "    }\n",
              "\n",
              "    [theme=dark] .colab-df-convert {\n",
              "      background-color: #3B4455;\n",
              "      fill: #D2E3FC;\n",
              "    }\n",
              "\n",
              "    [theme=dark] .colab-df-convert:hover {\n",
              "      background-color: #434B5C;\n",
              "      box-shadow: 0px 1px 3px 1px rgba(0, 0, 0, 0.15);\n",
              "      filter: drop-shadow(0px 1px 2px rgba(0, 0, 0, 0.3));\n",
              "      fill: #FFFFFF;\n",
              "    }\n",
              "  </style>\n",
              "\n",
              "      <script>\n",
              "        const buttonEl =\n",
              "          document.querySelector('#df-2fec8b39-3ba8-4912-a4f3-a83913f9bd0e button.colab-df-convert');\n",
              "        buttonEl.style.display =\n",
              "          google.colab.kernel.accessAllowed ? 'block' : 'none';\n",
              "\n",
              "        async function convertToInteractive(key) {\n",
              "          const element = document.querySelector('#df-2fec8b39-3ba8-4912-a4f3-a83913f9bd0e');\n",
              "          const dataTable =\n",
              "            await google.colab.kernel.invokeFunction('convertToInteractive',\n",
              "                                                     [key], {});\n",
              "          if (!dataTable) return;\n",
              "\n",
              "          const docLinkHtml = 'Like what you see? Visit the ' +\n",
              "            '<a target=\"_blank\" href=https://colab.research.google.com/notebooks/data_table.ipynb>data table notebook</a>'\n",
              "            + ' to learn more about interactive tables.';\n",
              "          element.innerHTML = '';\n",
              "          dataTable['output_type'] = 'display_data';\n",
              "          await google.colab.output.renderOutput(dataTable, element);\n",
              "          const docLink = document.createElement('div');\n",
              "          docLink.innerHTML = docLinkHtml;\n",
              "          element.appendChild(docLink);\n",
              "        }\n",
              "      </script>\n",
              "    </div>\n",
              "  </div>\n",
              "  "
            ]
          },
          "metadata": {},
          "execution_count": 219
        }
      ]
    },
    {
      "cell_type": "code",
      "source": [
        "ios_df = ios_df.drop(columns=['feature_p75', 'feature_p90', 'bug_p25', 'bug_p10']) #drop columns to release menmory"
      ],
      "metadata": {
        "id": "x1Z0MkidVYav"
      },
      "execution_count": 18,
      "outputs": []
    },
    {
      "cell_type": "markdown",
      "source": [
        "### Measure 4: search for words directly suggesting major vision"
      ],
      "metadata": {
        "id": "gyAc5TodqKok"
      }
    },
    {
      "cell_type": "code",
      "source": [
        "ios_df['description'] = ios_df['description'].apply(lambda x: x.lower())\n",
        "major_wds = ['major update', 'big update',  'huge update', 'importnat update', 'biggest update', 'critical update',\n",
        "             'major revision','big revision','huge revision','importnat revision', 'biggest revision', 'critical revision',\n",
        "             'major improvement', 'big improvement', 'huge improvement','huge improvement', 'importnat improvement', 'biggest improvement', 'critical improvement',\n",
        "             'major upgrade', 'big upgrade',  'huge upgrade', 'importnat upgrade', 'biggest upgrade', 'critical upgrade']\n",
        "\n",
        "non_major_wds = [i+'s coming' for i in major_wds] + ['previous '+ i for i in major_wds] + \\\n",
        "                ['stay tuned for a '+ i for i in major_wds] + [i+'is coming' for i in major_wds] +\\\n",
        "                [i+' coming' for i in major_wds] + ['last'+i for i in major_wds]\n",
        "\n",
        "def major_update(text):\n",
        "    n = 0\n",
        "    for word in major_wds:\n",
        "        if word in text:\n",
        "            n +=1\n",
        "    for word in non_major_wds:\n",
        "        if word in text:\n",
        "            n -=1\n",
        "    if n > 0:\n",
        "        return 1\n",
        "    else:\n",
        "        return 0\n",
        "\n",
        "ios_df['update_by_direct_mention'] = ios_df['description'].apply(major_update)"
      ],
      "metadata": {
        "id": "3hdv2e6oDsXv"
      },
      "execution_count": 52,
      "outputs": []
    },
    {
      "cell_type": "code",
      "source": [
        "major_update('we have some big updates coming soon!') #test"
      ],
      "metadata": {
        "colab": {
          "base_uri": "https://localhost:8080/"
        },
        "id": "JukSamxVfp2i",
        "outputId": "839bb89c-3aaf-4314-8449-c85ec11c75c9"
      },
      "execution_count": 187,
      "outputs": [
        {
          "output_type": "execute_result",
          "data": {
            "text/plain": [
              "0"
            ]
          },
          "metadata": {},
          "execution_count": 187
        }
      ]
    },
    {
      "cell_type": "code",
      "source": [
        "ios_df['update_by_direct_mention'].value_counts()"
      ],
      "metadata": {
        "colab": {
          "base_uri": "https://localhost:8080/"
        },
        "id": "EyevUkYVFlq4",
        "outputId": "a9d13f49-fd88-415b-8875-e13eb07904a9"
      },
      "execution_count": 53,
      "outputs": [
        {
          "output_type": "execute_result",
          "data": {
            "text/plain": [
              "0    1144154\n",
              "1       9028\n",
              "Name: update_by_direct_mention, dtype: int64"
            ]
          },
          "metadata": {},
          "execution_count": 53
        }
      ]
    },
    {
      "cell_type": "code",
      "source": [
        "for i in list(ios_df[ios_df['update_by_direct_mention'] == 1].sample(n=5, random_state=1)['description']):\n",
        "    print('-'*10)\n",
        "    print(i)#take a look\n",
        "ios_df[ios_df['update_by_direct_mention'] == 1].sample(n=5, random_state=1)[['app_id', 'version', 'version_lag', 'description', 'bug_score',\n",
        "                                                        'feature_score', 'update_by_feature_bug', 'update_by_num', \n",
        "                                                        'update_by_direct_mention']]"
      ],
      "metadata": {
        "colab": {
          "base_uri": "https://localhost:8080/",
          "height": 640
        },
        "id": "9efkKLI7dQ6E",
        "outputId": "f8c3507d-25db-4a51-d319-16b0b05df503"
      },
      "execution_count": 190,
      "outputs": [
        {
          "output_type": "stream",
          "name": "stdout",
          "text": [
            "----------\n",
            " our biggest update yet completely new app home discover games scroll to go to the next clip follow users from every clip\n",
            "----------\n",
            "we're tracking our own adventures now.with our latest release, you won't notice any difference in your experience, but our team has achieved a big milestone! we have updated the analytics and migrated our backend server. this means that we can look ahead and make some big improvements to the app's user experience over the next few months.together, we can keep exploring (and improving)!\n",
            "----------\n",
            "this is a big update with many additions!organization: folders sort your rhyme book by title name (alpha) or by date modified display rhyme book in list mode or folders modenotepad: syllable counter (free as a token of our appreciation) support for third party keyboards printing easier access to dictionary / thesaurusthe block: you can block others, they won’t be able to see your rhymes, comments, etc. and vice versa follower notifications (when you publish something new, all your followers will be alerted if they have this enabled) refresh: you can refresh a piece for free once a week, this makes it eligible to show up on the weekly chart you can purchase additional refreshes free bonus refresh for reading others' work from the newest feed for a half hour each weeksharing: we're now able to host your work on rb's website to share with the world! you will get a public sharable link, hosted on rb websiteyou can now: facebook share (w/ above link) twitter share (w/ above link) instagram share you can use share links for your pieces and users in the comments as wellnew themes: forest cool blue distinguishedmany bugs have also been squashed.enjoy!\n",
            "----------\n",
            "major update ai avatar maker added\n",
            "----------\n",
            "now you can send gifts with your cards! plus, we’re offering new membership and pay as you go packages so you can send as many cards as you want. this release we’ve also made some big improvements behind the scenes that will make your touchnote experience even smoother.\n"
          ]
        },
        {
          "output_type": "execute_result",
          "data": {
            "text/plain": [
              "             app_id version version_lag  \\\n",
              "247646   1254530067   4.4.9       4.4.0   \n",
              "856005    522990206  7.10.0       7.9.0   \n",
              "1003090   796584182     2.1       2.0.5   \n",
              "226174   1229012980     5.4         5.3   \n",
              "700677    325525543  13.2.1      13.2.0   \n",
              "\n",
              "                                               description  bug_score  \\\n",
              "247646    our biggest update yet completely new app hom...   0.000000   \n",
              "856005   we're tracking our own adventures now.with our...   0.000000   \n",
              "1003090  this is a big update with many additions!organ...   0.009434   \n",
              "226174                  major update ai avatar maker added   0.000000   \n",
              "700677   now you can send gifts with your cards! plus, ...   0.000000   \n",
              "\n",
              "         feature_score  update_by_feature_bug  update_by_num  \\\n",
              "247646        0.000000                      0            3.0   \n",
              "856005        0.034483                      0            2.0   \n",
              "1003090       0.000000                      0            2.0   \n",
              "226174        0.000000                      0            2.0   \n",
              "700677        0.052632                      0            3.0   \n",
              "\n",
              "         update_by_direct_mention  \n",
              "247646                          1  \n",
              "856005                          1  \n",
              "1003090                         1  \n",
              "226174                          1  \n",
              "700677                          1  "
            ],
            "text/html": [
              "\n",
              "  <div id=\"df-1a41c3c4-ca31-46f4-9e89-9f39383e2c41\">\n",
              "    <div class=\"colab-df-container\">\n",
              "      <div>\n",
              "<style scoped>\n",
              "    .dataframe tbody tr th:only-of-type {\n",
              "        vertical-align: middle;\n",
              "    }\n",
              "\n",
              "    .dataframe tbody tr th {\n",
              "        vertical-align: top;\n",
              "    }\n",
              "\n",
              "    .dataframe thead th {\n",
              "        text-align: right;\n",
              "    }\n",
              "</style>\n",
              "<table border=\"1\" class=\"dataframe\">\n",
              "  <thead>\n",
              "    <tr style=\"text-align: right;\">\n",
              "      <th></th>\n",
              "      <th>app_id</th>\n",
              "      <th>version</th>\n",
              "      <th>version_lag</th>\n",
              "      <th>description</th>\n",
              "      <th>bug_score</th>\n",
              "      <th>feature_score</th>\n",
              "      <th>update_by_feature_bug</th>\n",
              "      <th>update_by_num</th>\n",
              "      <th>update_by_direct_mention</th>\n",
              "    </tr>\n",
              "  </thead>\n",
              "  <tbody>\n",
              "    <tr>\n",
              "      <th>247646</th>\n",
              "      <td>1254530067</td>\n",
              "      <td>4.4.9</td>\n",
              "      <td>4.4.0</td>\n",
              "      <td>our biggest update yet completely new app hom...</td>\n",
              "      <td>0.000000</td>\n",
              "      <td>0.000000</td>\n",
              "      <td>0</td>\n",
              "      <td>3.0</td>\n",
              "      <td>1</td>\n",
              "    </tr>\n",
              "    <tr>\n",
              "      <th>856005</th>\n",
              "      <td>522990206</td>\n",
              "      <td>7.10.0</td>\n",
              "      <td>7.9.0</td>\n",
              "      <td>we're tracking our own adventures now.with our...</td>\n",
              "      <td>0.000000</td>\n",
              "      <td>0.034483</td>\n",
              "      <td>0</td>\n",
              "      <td>2.0</td>\n",
              "      <td>1</td>\n",
              "    </tr>\n",
              "    <tr>\n",
              "      <th>1003090</th>\n",
              "      <td>796584182</td>\n",
              "      <td>2.1</td>\n",
              "      <td>2.0.5</td>\n",
              "      <td>this is a big update with many additions!organ...</td>\n",
              "      <td>0.009434</td>\n",
              "      <td>0.000000</td>\n",
              "      <td>0</td>\n",
              "      <td>2.0</td>\n",
              "      <td>1</td>\n",
              "    </tr>\n",
              "    <tr>\n",
              "      <th>226174</th>\n",
              "      <td>1229012980</td>\n",
              "      <td>5.4</td>\n",
              "      <td>5.3</td>\n",
              "      <td>major update ai avatar maker added</td>\n",
              "      <td>0.000000</td>\n",
              "      <td>0.000000</td>\n",
              "      <td>0</td>\n",
              "      <td>2.0</td>\n",
              "      <td>1</td>\n",
              "    </tr>\n",
              "    <tr>\n",
              "      <th>700677</th>\n",
              "      <td>325525543</td>\n",
              "      <td>13.2.1</td>\n",
              "      <td>13.2.0</td>\n",
              "      <td>now you can send gifts with your cards! plus, ...</td>\n",
              "      <td>0.000000</td>\n",
              "      <td>0.052632</td>\n",
              "      <td>0</td>\n",
              "      <td>3.0</td>\n",
              "      <td>1</td>\n",
              "    </tr>\n",
              "  </tbody>\n",
              "</table>\n",
              "</div>\n",
              "      <button class=\"colab-df-convert\" onclick=\"convertToInteractive('df-1a41c3c4-ca31-46f4-9e89-9f39383e2c41')\"\n",
              "              title=\"Convert this dataframe to an interactive table.\"\n",
              "              style=\"display:none;\">\n",
              "        \n",
              "  <svg xmlns=\"http://www.w3.org/2000/svg\" height=\"24px\"viewBox=\"0 0 24 24\"\n",
              "       width=\"24px\">\n",
              "    <path d=\"M0 0h24v24H0V0z\" fill=\"none\"/>\n",
              "    <path d=\"M18.56 5.44l.94 2.06.94-2.06 2.06-.94-2.06-.94-.94-2.06-.94 2.06-2.06.94zm-11 1L8.5 8.5l.94-2.06 2.06-.94-2.06-.94L8.5 2.5l-.94 2.06-2.06.94zm10 10l.94 2.06.94-2.06 2.06-.94-2.06-.94-.94-2.06-.94 2.06-2.06.94z\"/><path d=\"M17.41 7.96l-1.37-1.37c-.4-.4-.92-.59-1.43-.59-.52 0-1.04.2-1.43.59L10.3 9.45l-7.72 7.72c-.78.78-.78 2.05 0 2.83L4 21.41c.39.39.9.59 1.41.59.51 0 1.02-.2 1.41-.59l7.78-7.78 2.81-2.81c.8-.78.8-2.07 0-2.86zM5.41 20L4 18.59l7.72-7.72 1.47 1.35L5.41 20z\"/>\n",
              "  </svg>\n",
              "      </button>\n",
              "      \n",
              "  <style>\n",
              "    .colab-df-container {\n",
              "      display:flex;\n",
              "      flex-wrap:wrap;\n",
              "      gap: 12px;\n",
              "    }\n",
              "\n",
              "    .colab-df-convert {\n",
              "      background-color: #E8F0FE;\n",
              "      border: none;\n",
              "      border-radius: 50%;\n",
              "      cursor: pointer;\n",
              "      display: none;\n",
              "      fill: #1967D2;\n",
              "      height: 32px;\n",
              "      padding: 0 0 0 0;\n",
              "      width: 32px;\n",
              "    }\n",
              "\n",
              "    .colab-df-convert:hover {\n",
              "      background-color: #E2EBFA;\n",
              "      box-shadow: 0px 1px 2px rgba(60, 64, 67, 0.3), 0px 1px 3px 1px rgba(60, 64, 67, 0.15);\n",
              "      fill: #174EA6;\n",
              "    }\n",
              "\n",
              "    [theme=dark] .colab-df-convert {\n",
              "      background-color: #3B4455;\n",
              "      fill: #D2E3FC;\n",
              "    }\n",
              "\n",
              "    [theme=dark] .colab-df-convert:hover {\n",
              "      background-color: #434B5C;\n",
              "      box-shadow: 0px 1px 3px 1px rgba(0, 0, 0, 0.15);\n",
              "      filter: drop-shadow(0px 1px 2px rgba(0, 0, 0, 0.3));\n",
              "      fill: #FFFFFF;\n",
              "    }\n",
              "  </style>\n",
              "\n",
              "      <script>\n",
              "        const buttonEl =\n",
              "          document.querySelector('#df-1a41c3c4-ca31-46f4-9e89-9f39383e2c41 button.colab-df-convert');\n",
              "        buttonEl.style.display =\n",
              "          google.colab.kernel.accessAllowed ? 'block' : 'none';\n",
              "\n",
              "        async function convertToInteractive(key) {\n",
              "          const element = document.querySelector('#df-1a41c3c4-ca31-46f4-9e89-9f39383e2c41');\n",
              "          const dataTable =\n",
              "            await google.colab.kernel.invokeFunction('convertToInteractive',\n",
              "                                                     [key], {});\n",
              "          if (!dataTable) return;\n",
              "\n",
              "          const docLinkHtml = 'Like what you see? Visit the ' +\n",
              "            '<a target=\"_blank\" href=https://colab.research.google.com/notebooks/data_table.ipynb>data table notebook</a>'\n",
              "            + ' to learn more about interactive tables.';\n",
              "          element.innerHTML = '';\n",
              "          dataTable['output_type'] = 'display_data';\n",
              "          await google.colab.output.renderOutput(dataTable, element);\n",
              "          const docLink = document.createElement('div');\n",
              "          docLink.innerHTML = docLinkHtml;\n",
              "          element.appendChild(docLink);\n",
              "        }\n",
              "      </script>\n",
              "    </div>\n",
              "  </div>\n",
              "  "
            ]
          },
          "metadata": {},
          "execution_count": 190
        }
      ]
    },
    {
      "cell_type": "markdown",
      "source": [
        "### Putting it all together"
      ],
      "metadata": {
        "id": "p7BBwyfmSCpy"
      }
    },
    {
      "cell_type": "code",
      "source": [
        "ios_df[['update_by_num_modified', 'update_by_para', \n",
        "        'update_by_feature_bug', 'update_by_direct_mention']].corr() #slightly positively correlated"
      ],
      "metadata": {
        "colab": {
          "base_uri": "https://localhost:8080/",
          "height": 175
        },
        "id": "0QC5VaEILE00",
        "outputId": "167b0c54-01c8-42a3-be05-8169e8e671a6"
      },
      "execution_count": 54,
      "outputs": [
        {
          "output_type": "execute_result",
          "data": {
            "text/plain": [
              "                          update_by_num_modified  update_by_para  \\\n",
              "update_by_num_modified                  1.000000        0.060952   \n",
              "update_by_para                          0.060952        1.000000   \n",
              "update_by_feature_bug                   0.055002        0.043840   \n",
              "update_by_direct_mention                0.039406        0.078122   \n",
              "\n",
              "                          update_by_feature_bug  update_by_direct_mention  \n",
              "update_by_num_modified                 0.055002                  0.039406  \n",
              "update_by_para                         0.043840                  0.078122  \n",
              "update_by_feature_bug                  1.000000                  0.026278  \n",
              "update_by_direct_mention               0.026278                  1.000000  "
            ],
            "text/html": [
              "\n",
              "  <div id=\"df-6e441e05-13ed-443d-b036-65d12da3e707\">\n",
              "    <div class=\"colab-df-container\">\n",
              "      <div>\n",
              "<style scoped>\n",
              "    .dataframe tbody tr th:only-of-type {\n",
              "        vertical-align: middle;\n",
              "    }\n",
              "\n",
              "    .dataframe tbody tr th {\n",
              "        vertical-align: top;\n",
              "    }\n",
              "\n",
              "    .dataframe thead th {\n",
              "        text-align: right;\n",
              "    }\n",
              "</style>\n",
              "<table border=\"1\" class=\"dataframe\">\n",
              "  <thead>\n",
              "    <tr style=\"text-align: right;\">\n",
              "      <th></th>\n",
              "      <th>update_by_num_modified</th>\n",
              "      <th>update_by_para</th>\n",
              "      <th>update_by_feature_bug</th>\n",
              "      <th>update_by_direct_mention</th>\n",
              "    </tr>\n",
              "  </thead>\n",
              "  <tbody>\n",
              "    <tr>\n",
              "      <th>update_by_num_modified</th>\n",
              "      <td>1.000000</td>\n",
              "      <td>0.060952</td>\n",
              "      <td>0.055002</td>\n",
              "      <td>0.039406</td>\n",
              "    </tr>\n",
              "    <tr>\n",
              "      <th>update_by_para</th>\n",
              "      <td>0.060952</td>\n",
              "      <td>1.000000</td>\n",
              "      <td>0.043840</td>\n",
              "      <td>0.078122</td>\n",
              "    </tr>\n",
              "    <tr>\n",
              "      <th>update_by_feature_bug</th>\n",
              "      <td>0.055002</td>\n",
              "      <td>0.043840</td>\n",
              "      <td>1.000000</td>\n",
              "      <td>0.026278</td>\n",
              "    </tr>\n",
              "    <tr>\n",
              "      <th>update_by_direct_mention</th>\n",
              "      <td>0.039406</td>\n",
              "      <td>0.078122</td>\n",
              "      <td>0.026278</td>\n",
              "      <td>1.000000</td>\n",
              "    </tr>\n",
              "  </tbody>\n",
              "</table>\n",
              "</div>\n",
              "      <button class=\"colab-df-convert\" onclick=\"convertToInteractive('df-6e441e05-13ed-443d-b036-65d12da3e707')\"\n",
              "              title=\"Convert this dataframe to an interactive table.\"\n",
              "              style=\"display:none;\">\n",
              "        \n",
              "  <svg xmlns=\"http://www.w3.org/2000/svg\" height=\"24px\"viewBox=\"0 0 24 24\"\n",
              "       width=\"24px\">\n",
              "    <path d=\"M0 0h24v24H0V0z\" fill=\"none\"/>\n",
              "    <path d=\"M18.56 5.44l.94 2.06.94-2.06 2.06-.94-2.06-.94-.94-2.06-.94 2.06-2.06.94zm-11 1L8.5 8.5l.94-2.06 2.06-.94-2.06-.94L8.5 2.5l-.94 2.06-2.06.94zm10 10l.94 2.06.94-2.06 2.06-.94-2.06-.94-.94-2.06-.94 2.06-2.06.94z\"/><path d=\"M17.41 7.96l-1.37-1.37c-.4-.4-.92-.59-1.43-.59-.52 0-1.04.2-1.43.59L10.3 9.45l-7.72 7.72c-.78.78-.78 2.05 0 2.83L4 21.41c.39.39.9.59 1.41.59.51 0 1.02-.2 1.41-.59l7.78-7.78 2.81-2.81c.8-.78.8-2.07 0-2.86zM5.41 20L4 18.59l7.72-7.72 1.47 1.35L5.41 20z\"/>\n",
              "  </svg>\n",
              "      </button>\n",
              "      \n",
              "  <style>\n",
              "    .colab-df-container {\n",
              "      display:flex;\n",
              "      flex-wrap:wrap;\n",
              "      gap: 12px;\n",
              "    }\n",
              "\n",
              "    .colab-df-convert {\n",
              "      background-color: #E8F0FE;\n",
              "      border: none;\n",
              "      border-radius: 50%;\n",
              "      cursor: pointer;\n",
              "      display: none;\n",
              "      fill: #1967D2;\n",
              "      height: 32px;\n",
              "      padding: 0 0 0 0;\n",
              "      width: 32px;\n",
              "    }\n",
              "\n",
              "    .colab-df-convert:hover {\n",
              "      background-color: #E2EBFA;\n",
              "      box-shadow: 0px 1px 2px rgba(60, 64, 67, 0.3), 0px 1px 3px 1px rgba(60, 64, 67, 0.15);\n",
              "      fill: #174EA6;\n",
              "    }\n",
              "\n",
              "    [theme=dark] .colab-df-convert {\n",
              "      background-color: #3B4455;\n",
              "      fill: #D2E3FC;\n",
              "    }\n",
              "\n",
              "    [theme=dark] .colab-df-convert:hover {\n",
              "      background-color: #434B5C;\n",
              "      box-shadow: 0px 1px 3px 1px rgba(0, 0, 0, 0.15);\n",
              "      filter: drop-shadow(0px 1px 2px rgba(0, 0, 0, 0.3));\n",
              "      fill: #FFFFFF;\n",
              "    }\n",
              "  </style>\n",
              "\n",
              "      <script>\n",
              "        const buttonEl =\n",
              "          document.querySelector('#df-6e441e05-13ed-443d-b036-65d12da3e707 button.colab-df-convert');\n",
              "        buttonEl.style.display =\n",
              "          google.colab.kernel.accessAllowed ? 'block' : 'none';\n",
              "\n",
              "        async function convertToInteractive(key) {\n",
              "          const element = document.querySelector('#df-6e441e05-13ed-443d-b036-65d12da3e707');\n",
              "          const dataTable =\n",
              "            await google.colab.kernel.invokeFunction('convertToInteractive',\n",
              "                                                     [key], {});\n",
              "          if (!dataTable) return;\n",
              "\n",
              "          const docLinkHtml = 'Like what you see? Visit the ' +\n",
              "            '<a target=\"_blank\" href=https://colab.research.google.com/notebooks/data_table.ipynb>data table notebook</a>'\n",
              "            + ' to learn more about interactive tables.';\n",
              "          element.innerHTML = '';\n",
              "          dataTable['output_type'] = 'display_data';\n",
              "          await google.colab.output.renderOutput(dataTable, element);\n",
              "          const docLink = document.createElement('div');\n",
              "          docLink.innerHTML = docLinkHtml;\n",
              "          element.appendChild(docLink);\n",
              "        }\n",
              "      </script>\n",
              "    </div>\n",
              "  </div>\n",
              "  "
            ]
          },
          "metadata": {},
          "execution_count": 54
        }
      ]
    },
    {
      "cell_type": "code",
      "source": [
        "temp_lst = []\n",
        "for i in ['update_by_direct_mention', 'update_by_num_modified', 'update_by_para', 'update_by_feature_bug']:\n",
        "    for j in ['update_by_direct_mention', 'update_by_num_modified', 'update_by_para', 'update_by_feature_bug']:\n",
        "        if j not in temp_lst:\n",
        "            if i == j:\n",
        "                print('number of major revision identified by {}: {}'.format(i, len(ios_df.loc[(ios_df[i]==1)&(ios_df[j]==1)])))\n",
        "            else:\n",
        "                print('number of major revision identified by both {} and {}: {}'.format(i, j, len(ios_df.loc[(ios_df[i]==1)&(ios_df[j]==1)])))\n",
        "            temp_lst.append(i)"
      ],
      "metadata": {
        "colab": {
          "base_uri": "https://localhost:8080/"
        },
        "id": "56dZD16US7cz",
        "outputId": "4453121e-0fd6-4c73-944c-3737a16444f1"
      },
      "execution_count": 112,
      "outputs": [
        {
          "output_type": "stream",
          "name": "stdout",
          "text": [
            "number of major revision identified by update_by_direct_mention: 9028\n",
            "number of major revision identified by both update_by_direct_mention and update_by_num_modified: 1298\n",
            "number of major revision identified by both update_by_direct_mention and update_by_para: 2743\n",
            "number of major revision identified by both update_by_direct_mention and update_by_feature_bug: 1016\n",
            "number of major revision identified by update_by_num_modified: 55915\n",
            "number of major revision identified by both update_by_num_modified and update_by_para: 8077\n",
            "number of major revision identified by both update_by_num_modified and update_by_feature_bug: 5664\n",
            "number of major revision identified by update_by_para: 85152\n",
            "number of major revision identified by both update_by_para and update_by_feature_bug: 7004\n",
            "number of major revision identified by update_by_feature_bug: 56277\n"
          ]
        }
      ]
    },
    {
      "cell_type": "markdown",
      "source": [
        "## Task 4\n",
        "- (open-ended) determine the keywords for each app based on the version update descriptions. The keywords should pick up information on the functions and characteristics of the app. This may need some ML package to learn the patterns of language and is open-ended. "
      ],
      "metadata": {
        "id": "MuwoV_j1YSvc"
      }
    },
    {
      "cell_type": "code",
      "source": [
        "%%time\n",
        "#first create a new df aggregate data to app level with tokenized&normalized word lists\n",
        "ios_by_app = ios_df.groupby('app_id').agg({'description_nm': 'sum', 'description': 'sum'}).reset_index()"
      ],
      "metadata": {
        "colab": {
          "base_uri": "https://localhost:8080/"
        },
        "id": "nCiGEbsvY31K",
        "outputId": "2694adcb-5f36-4432-d937-e5c03eede875"
      },
      "execution_count": null,
      "outputs": [
        {
          "output_type": "stream",
          "name": "stdout",
          "text": [
            "CPU times: user 6.63 s, sys: 398 ms, total: 7.03 s\n",
            "Wall time: 6.98 s\n"
          ]
        }
      ]
    },
    {
      "cell_type": "code",
      "source": [
        "ios_by_app.head()"
      ],
      "metadata": {
        "colab": {
          "base_uri": "https://localhost:8080/",
          "height": 206
        },
        "id": "ONxJ7gmRYOQg",
        "outputId": "475f3fea-0181-4722-f7f4-e385163fdc89"
      },
      "execution_count": null,
      "outputs": [
        {
          "output_type": "execute_result",
          "data": {
            "text/plain": [
              "       app_id                                     description_nm  \\\n",
              "0  1000017994  [update, cardiogram, link, open, app, see, dat...   \n",
              "1  1000332606  [add, support, ipad, prominor, bug, fix, major...   \n",
              "2  1000418099  [remove, thr, reviewsbug, fix, bug, fix, minor...   \n",
              "3  1000556973                                         [fix, bug]   \n",
              "4  1000668798  [app, update, apple, display, apple, watch, ap...   \n",
              "\n",
              "                                         description  \n",
              "0  Updates in Cardiogram 2.9.4: Links now open wi...  \n",
              "1  Added Support for iPad ProMinor Bug FixesMajor...  \n",
              "2  Remove the THR reviewsBug fixBug fixes.minor b...  \n",
              "3                                            fix bug  \n",
              "4  This app has been updated by Apple to display ...  "
            ],
            "text/html": [
              "\n",
              "  <div id=\"df-198cbbe2-960b-411b-a898-fc053f59ece0\">\n",
              "    <div class=\"colab-df-container\">\n",
              "      <div>\n",
              "<style scoped>\n",
              "    .dataframe tbody tr th:only-of-type {\n",
              "        vertical-align: middle;\n",
              "    }\n",
              "\n",
              "    .dataframe tbody tr th {\n",
              "        vertical-align: top;\n",
              "    }\n",
              "\n",
              "    .dataframe thead th {\n",
              "        text-align: right;\n",
              "    }\n",
              "</style>\n",
              "<table border=\"1\" class=\"dataframe\">\n",
              "  <thead>\n",
              "    <tr style=\"text-align: right;\">\n",
              "      <th></th>\n",
              "      <th>app_id</th>\n",
              "      <th>description_nm</th>\n",
              "      <th>description</th>\n",
              "    </tr>\n",
              "  </thead>\n",
              "  <tbody>\n",
              "    <tr>\n",
              "      <th>0</th>\n",
              "      <td>1000017994</td>\n",
              "      <td>[update, cardiogram, link, open, app, see, dat...</td>\n",
              "      <td>Updates in Cardiogram 2.9.4: Links now open wi...</td>\n",
              "    </tr>\n",
              "    <tr>\n",
              "      <th>1</th>\n",
              "      <td>1000332606</td>\n",
              "      <td>[add, support, ipad, prominor, bug, fix, major...</td>\n",
              "      <td>Added Support for iPad ProMinor Bug FixesMajor...</td>\n",
              "    </tr>\n",
              "    <tr>\n",
              "      <th>2</th>\n",
              "      <td>1000418099</td>\n",
              "      <td>[remove, thr, reviewsbug, fix, bug, fix, minor...</td>\n",
              "      <td>Remove the THR reviewsBug fixBug fixes.minor b...</td>\n",
              "    </tr>\n",
              "    <tr>\n",
              "      <th>3</th>\n",
              "      <td>1000556973</td>\n",
              "      <td>[fix, bug]</td>\n",
              "      <td>fix bug</td>\n",
              "    </tr>\n",
              "    <tr>\n",
              "      <th>4</th>\n",
              "      <td>1000668798</td>\n",
              "      <td>[app, update, apple, display, apple, watch, ap...</td>\n",
              "      <td>This app has been updated by Apple to display ...</td>\n",
              "    </tr>\n",
              "  </tbody>\n",
              "</table>\n",
              "</div>\n",
              "      <button class=\"colab-df-convert\" onclick=\"convertToInteractive('df-198cbbe2-960b-411b-a898-fc053f59ece0')\"\n",
              "              title=\"Convert this dataframe to an interactive table.\"\n",
              "              style=\"display:none;\">\n",
              "        \n",
              "  <svg xmlns=\"http://www.w3.org/2000/svg\" height=\"24px\"viewBox=\"0 0 24 24\"\n",
              "       width=\"24px\">\n",
              "    <path d=\"M0 0h24v24H0V0z\" fill=\"none\"/>\n",
              "    <path d=\"M18.56 5.44l.94 2.06.94-2.06 2.06-.94-2.06-.94-.94-2.06-.94 2.06-2.06.94zm-11 1L8.5 8.5l.94-2.06 2.06-.94-2.06-.94L8.5 2.5l-.94 2.06-2.06.94zm10 10l.94 2.06.94-2.06 2.06-.94-2.06-.94-.94-2.06-.94 2.06-2.06.94z\"/><path d=\"M17.41 7.96l-1.37-1.37c-.4-.4-.92-.59-1.43-.59-.52 0-1.04.2-1.43.59L10.3 9.45l-7.72 7.72c-.78.78-.78 2.05 0 2.83L4 21.41c.39.39.9.59 1.41.59.51 0 1.02-.2 1.41-.59l7.78-7.78 2.81-2.81c.8-.78.8-2.07 0-2.86zM5.41 20L4 18.59l7.72-7.72 1.47 1.35L5.41 20z\"/>\n",
              "  </svg>\n",
              "      </button>\n",
              "      \n",
              "  <style>\n",
              "    .colab-df-container {\n",
              "      display:flex;\n",
              "      flex-wrap:wrap;\n",
              "      gap: 12px;\n",
              "    }\n",
              "\n",
              "    .colab-df-convert {\n",
              "      background-color: #E8F0FE;\n",
              "      border: none;\n",
              "      border-radius: 50%;\n",
              "      cursor: pointer;\n",
              "      display: none;\n",
              "      fill: #1967D2;\n",
              "      height: 32px;\n",
              "      padding: 0 0 0 0;\n",
              "      width: 32px;\n",
              "    }\n",
              "\n",
              "    .colab-df-convert:hover {\n",
              "      background-color: #E2EBFA;\n",
              "      box-shadow: 0px 1px 2px rgba(60, 64, 67, 0.3), 0px 1px 3px 1px rgba(60, 64, 67, 0.15);\n",
              "      fill: #174EA6;\n",
              "    }\n",
              "\n",
              "    [theme=dark] .colab-df-convert {\n",
              "      background-color: #3B4455;\n",
              "      fill: #D2E3FC;\n",
              "    }\n",
              "\n",
              "    [theme=dark] .colab-df-convert:hover {\n",
              "      background-color: #434B5C;\n",
              "      box-shadow: 0px 1px 3px 1px rgba(0, 0, 0, 0.15);\n",
              "      filter: drop-shadow(0px 1px 2px rgba(0, 0, 0, 0.3));\n",
              "      fill: #FFFFFF;\n",
              "    }\n",
              "  </style>\n",
              "\n",
              "      <script>\n",
              "        const buttonEl =\n",
              "          document.querySelector('#df-198cbbe2-960b-411b-a898-fc053f59ece0 button.colab-df-convert');\n",
              "        buttonEl.style.display =\n",
              "          google.colab.kernel.accessAllowed ? 'block' : 'none';\n",
              "\n",
              "        async function convertToInteractive(key) {\n",
              "          const element = document.querySelector('#df-198cbbe2-960b-411b-a898-fc053f59ece0');\n",
              "          const dataTable =\n",
              "            await google.colab.kernel.invokeFunction('convertToInteractive',\n",
              "                                                     [key], {});\n",
              "          if (!dataTable) return;\n",
              "\n",
              "          const docLinkHtml = 'Like what you see? Visit the ' +\n",
              "            '<a target=\"_blank\" href=https://colab.research.google.com/notebooks/data_table.ipynb>data table notebook</a>'\n",
              "            + ' to learn more about interactive tables.';\n",
              "          element.innerHTML = '';\n",
              "          dataTable['output_type'] = 'display_data';\n",
              "          await google.colab.output.renderOutput(dataTable, element);\n",
              "          const docLink = document.createElement('div');\n",
              "          docLink.innerHTML = docLinkHtml;\n",
              "          element.appendChild(docLink);\n",
              "        }\n",
              "      </script>\n",
              "    </div>\n",
              "  </div>\n",
              "  "
            ]
          },
          "metadata": {},
          "execution_count": 18
        }
      ]
    },
    {
      "cell_type": "markdown",
      "source": [
        "### Measure 1: word frequency"
      ],
      "metadata": {
        "id": "Snt_OzAFYlEG"
      }
    },
    {
      "cell_type": "code",
      "source": [
        "update_wds = set(['fix', 'bug', 'maintenance', 'performance', 'optimize', 'optimise', 'optimization', \n",
        "                  'improve', 'improvement', 'fixed', 'remove', 'update', 'revise', 'add', 'new', \n",
        "                  'app', 'thank', 'issue', 'outage', 'crash', 'ui', 'minor', 'fixe', 'release', \n",
        "                  'fixing', 'bugfix', 'feature', 'version', 'hey', 'enjoy', 'support', 'you',\n",
        "                  'upgrade', 'enhance', 'well', 'compatibility'])\n",
        "ios_by_app['description_nm_1'] = ios_by_app['description_nm'].apply(lambda x: [e for e in x if e not in update_wds])\n",
        "\n",
        "#remove commonly used words that are unrelated to functions and characteristics of the app"
      ],
      "metadata": {
        "id": "2nVwsFgtLTrI"
      },
      "execution_count": null,
      "outputs": []
    },
    {
      "cell_type": "code",
      "source": [
        "ios_by_app['freq_wds'] = ios_by_app['description_nm_1'].apply(lambda x: \\\n",
        "                                                            list(dict(collections.Counter(x).most_common(20)).keys()))"
      ],
      "metadata": {
        "id": "17ye4Ias_qA2"
      },
      "execution_count": null,
      "outputs": []
    },
    {
      "cell_type": "code",
      "source": [
        "ios_by_app[['app_id', 'freq_wds']].sample(10) #take a look, the key words seem to pick up some feature-related information but still quite noisy"
      ],
      "metadata": {
        "colab": {
          "base_uri": "https://localhost:8080/",
          "height": 363
        },
        "id": "8sPBZUJ0Kszs",
        "outputId": "46825d35-54a2-47bd-f77b-452ed3554470"
      },
      "execution_count": null,
      "outputs": [
        {
          "output_type": "execute_result",
          "data": {
            "text/plain": [
              "           app_id                                           freq_wds\n",
              "9537   1445535620  [package, time, convenience, address, stage, s...\n",
              "7263   1367428369                                                 []\n",
              "17120  1565600312  [listening, experience, audio, share, ux, subs...\n",
              "17491  1574301066  [content, level, mini, game, translation, dial...\n",
              "14323  1515994805  [game, shop, powerup, level, content, stuff, c...\n",
              "5046   1269478443  [game, level, come, major, close, match3, anna...\n",
              "17778  1580496772  [video, interesting, friend, create, family, a...\n",
              "19144  1613919526                      [gameplay, improvementsminor]\n",
              "2407   1141666875  [wallpaper, live, day, user, time, friendly, s...\n",
              "18244  1590841930                           [little, overall, brand]"
            ],
            "text/html": [
              "\n",
              "  <div id=\"df-b2c9785e-8d9e-4396-abda-f749cb5b914f\">\n",
              "    <div class=\"colab-df-container\">\n",
              "      <div>\n",
              "<style scoped>\n",
              "    .dataframe tbody tr th:only-of-type {\n",
              "        vertical-align: middle;\n",
              "    }\n",
              "\n",
              "    .dataframe tbody tr th {\n",
              "        vertical-align: top;\n",
              "    }\n",
              "\n",
              "    .dataframe thead th {\n",
              "        text-align: right;\n",
              "    }\n",
              "</style>\n",
              "<table border=\"1\" class=\"dataframe\">\n",
              "  <thead>\n",
              "    <tr style=\"text-align: right;\">\n",
              "      <th></th>\n",
              "      <th>app_id</th>\n",
              "      <th>freq_wds</th>\n",
              "    </tr>\n",
              "  </thead>\n",
              "  <tbody>\n",
              "    <tr>\n",
              "      <th>9537</th>\n",
              "      <td>1445535620</td>\n",
              "      <td>[package, time, convenience, address, stage, s...</td>\n",
              "    </tr>\n",
              "    <tr>\n",
              "      <th>7263</th>\n",
              "      <td>1367428369</td>\n",
              "      <td>[]</td>\n",
              "    </tr>\n",
              "    <tr>\n",
              "      <th>17120</th>\n",
              "      <td>1565600312</td>\n",
              "      <td>[listening, experience, audio, share, ux, subs...</td>\n",
              "    </tr>\n",
              "    <tr>\n",
              "      <th>17491</th>\n",
              "      <td>1574301066</td>\n",
              "      <td>[content, level, mini, game, translation, dial...</td>\n",
              "    </tr>\n",
              "    <tr>\n",
              "      <th>14323</th>\n",
              "      <td>1515994805</td>\n",
              "      <td>[game, shop, powerup, level, content, stuff, c...</td>\n",
              "    </tr>\n",
              "    <tr>\n",
              "      <th>5046</th>\n",
              "      <td>1269478443</td>\n",
              "      <td>[game, level, come, major, close, match3, anna...</td>\n",
              "    </tr>\n",
              "    <tr>\n",
              "      <th>17778</th>\n",
              "      <td>1580496772</td>\n",
              "      <td>[video, interesting, friend, create, family, a...</td>\n",
              "    </tr>\n",
              "    <tr>\n",
              "      <th>19144</th>\n",
              "      <td>1613919526</td>\n",
              "      <td>[gameplay, improvementsminor]</td>\n",
              "    </tr>\n",
              "    <tr>\n",
              "      <th>2407</th>\n",
              "      <td>1141666875</td>\n",
              "      <td>[wallpaper, live, day, user, time, friendly, s...</td>\n",
              "    </tr>\n",
              "    <tr>\n",
              "      <th>18244</th>\n",
              "      <td>1590841930</td>\n",
              "      <td>[little, overall, brand]</td>\n",
              "    </tr>\n",
              "  </tbody>\n",
              "</table>\n",
              "</div>\n",
              "      <button class=\"colab-df-convert\" onclick=\"convertToInteractive('df-b2c9785e-8d9e-4396-abda-f749cb5b914f')\"\n",
              "              title=\"Convert this dataframe to an interactive table.\"\n",
              "              style=\"display:none;\">\n",
              "        \n",
              "  <svg xmlns=\"http://www.w3.org/2000/svg\" height=\"24px\"viewBox=\"0 0 24 24\"\n",
              "       width=\"24px\">\n",
              "    <path d=\"M0 0h24v24H0V0z\" fill=\"none\"/>\n",
              "    <path d=\"M18.56 5.44l.94 2.06.94-2.06 2.06-.94-2.06-.94-.94-2.06-.94 2.06-2.06.94zm-11 1L8.5 8.5l.94-2.06 2.06-.94-2.06-.94L8.5 2.5l-.94 2.06-2.06.94zm10 10l.94 2.06.94-2.06 2.06-.94-2.06-.94-.94-2.06-.94 2.06-2.06.94z\"/><path d=\"M17.41 7.96l-1.37-1.37c-.4-.4-.92-.59-1.43-.59-.52 0-1.04.2-1.43.59L10.3 9.45l-7.72 7.72c-.78.78-.78 2.05 0 2.83L4 21.41c.39.39.9.59 1.41.59.51 0 1.02-.2 1.41-.59l7.78-7.78 2.81-2.81c.8-.78.8-2.07 0-2.86zM5.41 20L4 18.59l7.72-7.72 1.47 1.35L5.41 20z\"/>\n",
              "  </svg>\n",
              "      </button>\n",
              "      \n",
              "  <style>\n",
              "    .colab-df-container {\n",
              "      display:flex;\n",
              "      flex-wrap:wrap;\n",
              "      gap: 12px;\n",
              "    }\n",
              "\n",
              "    .colab-df-convert {\n",
              "      background-color: #E8F0FE;\n",
              "      border: none;\n",
              "      border-radius: 50%;\n",
              "      cursor: pointer;\n",
              "      display: none;\n",
              "      fill: #1967D2;\n",
              "      height: 32px;\n",
              "      padding: 0 0 0 0;\n",
              "      width: 32px;\n",
              "    }\n",
              "\n",
              "    .colab-df-convert:hover {\n",
              "      background-color: #E2EBFA;\n",
              "      box-shadow: 0px 1px 2px rgba(60, 64, 67, 0.3), 0px 1px 3px 1px rgba(60, 64, 67, 0.15);\n",
              "      fill: #174EA6;\n",
              "    }\n",
              "\n",
              "    [theme=dark] .colab-df-convert {\n",
              "      background-color: #3B4455;\n",
              "      fill: #D2E3FC;\n",
              "    }\n",
              "\n",
              "    [theme=dark] .colab-df-convert:hover {\n",
              "      background-color: #434B5C;\n",
              "      box-shadow: 0px 1px 3px 1px rgba(0, 0, 0, 0.15);\n",
              "      filter: drop-shadow(0px 1px 2px rgba(0, 0, 0, 0.3));\n",
              "      fill: #FFFFFF;\n",
              "    }\n",
              "  </style>\n",
              "\n",
              "      <script>\n",
              "        const buttonEl =\n",
              "          document.querySelector('#df-b2c9785e-8d9e-4396-abda-f749cb5b914f button.colab-df-convert');\n",
              "        buttonEl.style.display =\n",
              "          google.colab.kernel.accessAllowed ? 'block' : 'none';\n",
              "\n",
              "        async function convertToInteractive(key) {\n",
              "          const element = document.querySelector('#df-b2c9785e-8d9e-4396-abda-f749cb5b914f');\n",
              "          const dataTable =\n",
              "            await google.colab.kernel.invokeFunction('convertToInteractive',\n",
              "                                                     [key], {});\n",
              "          if (!dataTable) return;\n",
              "\n",
              "          const docLinkHtml = 'Like what you see? Visit the ' +\n",
              "            '<a target=\"_blank\" href=https://colab.research.google.com/notebooks/data_table.ipynb>data table notebook</a>'\n",
              "            + ' to learn more about interactive tables.';\n",
              "          element.innerHTML = '';\n",
              "          dataTable['output_type'] = 'display_data';\n",
              "          await google.colab.output.renderOutput(dataTable, element);\n",
              "          const docLink = document.createElement('div');\n",
              "          docLink.innerHTML = docLinkHtml;\n",
              "          element.appendChild(docLink);\n",
              "        }\n",
              "      </script>\n",
              "    </div>\n",
              "  </div>\n",
              "  "
            ]
          },
          "metadata": {},
          "execution_count": 151
        }
      ]
    },
    {
      "cell_type": "code",
      "source": [
        "ios_by_app.to_pickle('keywords.pickle')"
      ],
      "metadata": {
        "id": "5JJzqnvsXtBw"
      },
      "execution_count": null,
      "outputs": []
    },
    {
      "cell_type": "markdown",
      "source": [
        "\n",
        "### Measure 2: ML pretrained models - text comprehension & question answering\n",
        "\n",
        "Reference: GPT https://github.com/openai/openai-cookbook/blob/main/examples/Question_answering_using_embeddings.ipynb\n",
        "\n",
        "Bert https://towardsdatascience.com/machine-comprehension-with-bert-6eadf16c87c1"
      ],
      "metadata": {
        "id": "kUO8a-0XUy4I"
      }
    },
    {
      "cell_type": "code",
      "source": [
        "import ast  # for converting embeddings saved as strings back to arrays\n",
        "import openai  # for calling the OpenAI API\n",
        "import pandas as pd  # for storing text and embeddings data\n",
        "import tiktoken  # for counting tokens\n",
        "from scipy import spatial  # for calculating vector similarities for search\n",
        "\n",
        "\n",
        "EMBEDDING_MODEL = \"text-embedding-ada-002\"\n",
        "GPT_MODEL = \"gpt-3.5-turbo\"\n",
        "openai.api_key = input('Enter api key: ') "
      ],
      "metadata": {
        "id": "6NFmfeCS3ZAn"
      },
      "execution_count": null,
      "outputs": []
    },
    {
      "cell_type": "code",
      "source": [
        "ios_by_app['description_nm_joined'] = ios_by_app['description_nm'].apply(lambda x: ' '.join(x))"
      ],
      "metadata": {
        "id": "pWmdlHNt6B_m"
      },
      "execution_count": null,
      "outputs": []
    },
    {
      "cell_type": "code",
      "source": [
        "def gpt_query(input_text):\n",
        "  if len(input_text) > 15000:\n",
        "    input_text = input_text[:15000]#trunk the data since gpt3.5 can only handle 4097 tokens\n",
        "\n",
        "  query = f\"\"\"Use the below text to answer the subsequent question. Answer in 50 words. \n",
        "  Do not include bug fix, app improvement, and other maintenance related revisions. If the answer cannot be found, write \"I don't know.\"\n",
        "\n",
        "  Article:\n",
        "  \\\"\\\"\\\"\n",
        "  {input_text}\n",
        "  \\\"\\\"\\\"\n",
        "\n",
        "  Question: What are the core features and characteristics of the app?\"\"\"\n",
        "\n",
        "  response = openai.ChatCompletion.create(\n",
        "      messages=[\n",
        "          {'role': 'system', 'content': 'You answer questions about features and functions of the app.'},\n",
        "          {'role': 'user', 'content': query},\n",
        "      ],\n",
        "      model=GPT_MODEL,\n",
        "      temperature=0,\n",
        "  )\n",
        "  output = response['choices'][0]['message']['content']\n",
        "\n",
        "  return output"
      ],
      "metadata": {
        "id": "KYxqn0ikAvxs"
      },
      "execution_count": null,
      "outputs": []
    },
    {
      "cell_type": "code",
      "source": [
        "%%time\n",
        "#try some examples\n",
        "text = list(ios_by_app['description_nm_joined'])[0]\n",
        "gpt_query(text)\n",
        "#it works pretty well!"
      ],
      "metadata": {
        "colab": {
          "base_uri": "https://localhost:8080/",
          "height": 143
        },
        "id": "-0dCbnJeBIwx",
        "outputId": "a22b16d5-dd3f-4ac0-8bee-118d96f0d134"
      },
      "execution_count": null,
      "outputs": [
        {
          "output_type": "stream",
          "name": "stdout",
          "text": [
            "CPU times: user 28.3 ms, sys: 1.76 ms, total: 30.1 ms\n",
            "Wall time: 2.53 s\n"
          ]
        },
        {
          "output_type": "execute_result",
          "data": {
            "text/plain": [
              "'Cardiogram is a health and fitness app that tracks heart rate, workouts, and rest heart rate. It offers a redesign chart, pace overlay, and histogram. The app has a new feature that allows users to compare their average with runners, bikers, and couch potatoes. It also has a habit tab that helps users track their daily progress and improve their health. The app is compatible with iPhone and Apple Watch and has a native watchOS app with a heart rate graph. It also has a sleep quality metric and a revamped profile page. The app allows users to share their heart rate data with friends and family.'"
            ],
            "application/vnd.google.colaboratory.intrinsic+json": {
              "type": "string"
            }
          },
          "metadata": {},
          "execution_count": 59
        }
      ]
    },
    {
      "cell_type": "code",
      "source": [
        "#The free account at OpenAI has a rate limit of 3 per min, \n",
        "#I guess I can first filter out the revisions that only talk about bugs and maintenance, \n",
        "#and then feed it into the model. \n",
        "\n",
        "#Or explore other pre-trained models in Huggingface"
      ],
      "metadata": {
        "id": "oguXUh3SBnX1"
      },
      "execution_count": null,
      "outputs": []
    },
    {
      "cell_type": "markdown",
      "source": [
        "## Data Privacy Mentions"
      ],
      "metadata": {
        "id": "DZm1gN7bbzU4"
      }
    },
    {
      "cell_type": "code",
      "source": [
        "privacy_wds = [\"data privacy\", \"privacy labels\", \"data safety\",\n",
        "               \"info privacy\", \"info safty\", \"info protection\",\n",
        "               \"privacy protection\",  \"infomation privacy\", \n",
        "               \"infomation safty\", \"infomation protection\",\n",
        "               \"privacy label\", \"protect privacy\", \"protect personal info\", \n",
        "               \"protect info\", \"protect information\", \"information security\",\n",
        "               \"info security\", \"info secrecy\", \"infomation secrecy\",\n",
        "               \"privacy policy\", \"data secrecy\", \"data confidentiality\"] \n",
        "               #may need to screen out apps particularly about cyber security in analysis\n",
        "\n",
        "def privacy_mention(text):\n",
        "  n = 0\n",
        "  for word in privacy_wds:\n",
        "    if word in text:\n",
        "      n +=1\n",
        "  if n > 0:\n",
        "    return 1\n",
        "  else:\n",
        "    return 0\n",
        "\n",
        "ios_df['privacy_mention'] = ios_df['description'].apply(privacy_mention)"
      ],
      "metadata": {
        "id": "INCqn5BfYI2X"
      },
      "execution_count": 38,
      "outputs": []
    },
    {
      "cell_type": "code",
      "source": [
        "ios_df['privacy_mention'].value_counts()"
      ],
      "metadata": {
        "colab": {
          "base_uri": "https://localhost:8080/"
        },
        "id": "kIWf8yFraDEh",
        "outputId": "41707180-8c1c-4994-83f1-c56709646105"
      },
      "execution_count": 39,
      "outputs": [
        {
          "output_type": "execute_result",
          "data": {
            "text/plain": [
              "0    1151685\n",
              "1       1497\n",
              "Name: privacy_mention, dtype: int64"
            ]
          },
          "metadata": {},
          "execution_count": 39
        }
      ]
    },
    {
      "cell_type": "code",
      "source": [
        "for i in list(ios_df[ios_df['privacy_mention'] == 1].sample(5)['description']):\n",
        "    print('-'*10)\n",
        "    print(i)"
      ],
      "metadata": {
        "colab": {
          "base_uri": "https://localhost:8080/"
        },
        "id": "bCPJEItNaGOV",
        "outputId": "3ba596e8-0cb4-41fc-b5ed-88f71d391592"
      },
      "execution_count": 40,
      "outputs": [
        {
          "output_type": "stream",
          "name": "stdout",
          "text": [
            "----------\n",
            "due north – we’re heading to canada this month with our awesome ‘venture north’ decorations. look out for all your favorite things from north of the border.new privacy policy: we have updated our privacy policy and it is now available for you to view in the help/support section inside the app and on our website!\n",
            "----------\n",
            " now there’s a shortcut to add items to your registry as you’re browsing. spend less time reading through item reviews. we’ve added ways to quickly sort and filter them to get just the info you need. we’ve made it easier to share a link to your registry with friends and family. privacy policy updates\n",
            "----------\n",
            "2.9.9updated privacy policy.2.9.8fixed bug where some tiles were not loading on first click.2.9.7updated support libraries.2.9.6updated discount card. minor bug fix for discount card zip code entry field.2.9.5fixed lock screen bug showing a blank screen when unlocked.updated support libraries.2.9.4enabled printing for my med list from the share button.2.9.3updated libraries and minor bug fix for web displays.2.9.2minor update to my med list view.2.9.1minor text updates.2.9.0updated drug interactions path and crash reporting.2.8.9fixed display issue.2.8.8bug fixes.\n",
            "----------\n",
            "meeting/webinar features: virtual background enhancements  mobile support for blurred background  gallery view enhancements (ipad only) support for ipad pro center stage face tracking feature (ipad only) enhanced data privacy notices for live streaming  meeting features: enhanced data privacy notices for archived meetings  webinar features: enhanced data privacy notices for panelists and unmuted attendees  enhanced data privacy notices for joining webinar without registration  resolved issues: minor bug fixes security enhancements resolved an issue regarding answered anonymous questions in q&a being visible to all, rather than just the anonymous requester  resolved an issue for a subset of users regarding duplicate external contact entries resolved an issue regarding failed calls to côte d’ivoire due to changes in national numbering plan\n",
            "----------\n",
            " updated privacy policy\n"
          ]
        }
      ]
    },
    {
      "cell_type": "markdown",
      "source": [
        "## OS system updates"
      ],
      "metadata": {
        "id": "a1r8IPJ1Lv4A"
      }
    },
    {
      "cell_type": "code",
      "source": [
        "#\"ios upgrade\", 'system-wide update', \n",
        "OS_wds = [\"ios upgrade\", 'ios update', 'operating system upgrade', 'operating system update', \n",
        "          \"support for the new ios\", \"support the new ios\", \"support new ios\", \n",
        "          'compatible with new ios', 'now compatible with', 'now support ios'] \n",
        "\n",
        "def system_mention(text):\n",
        "  n = 0\n",
        "  for word in OS_wds:\n",
        "    if word in text:\n",
        "      print(text)\n",
        "      n +=1\n",
        "  if n > 0:\n",
        "    return 1\n",
        "  else:\n",
        "    return 0\n",
        "\n",
        "ios_df['system_mention'] = ios_df['description'].apply(system_mention)"
      ],
      "metadata": {
        "id": "EuBnZWqOLvdu"
      },
      "execution_count": 100,
      "outputs": []
    },
    {
      "cell_type": "code",
      "source": [
        "ios_df['system_mention'].value_counts()"
      ],
      "metadata": {
        "colab": {
          "base_uri": "https://localhost:8080/"
        },
        "id": "Kxzp3BgkM-j6",
        "outputId": "1b5a534c-adaf-4312-c621-9bd20e7246ae"
      },
      "execution_count": 94,
      "outputs": [
        {
          "output_type": "execute_result",
          "data": {
            "text/plain": [
              "0    1152482\n",
              "1        700\n",
              "Name: system_mention, dtype: int64"
            ]
          },
          "metadata": {},
          "execution_count": 94
        }
      ]
    },
    {
      "cell_type": "code",
      "source": [
        "for i in list(ios_df[ios_df['system_mention'] == 1].sample(5)['description']):\n",
        "    print('-'*10)\n",
        "    print(i)"
      ],
      "metadata": {
        "colab": {
          "base_uri": "https://localhost:8080/"
        },
        "id": "h5ld5xhaM8ib",
        "outputId": "bd72fe17-f263-4add-fdfa-a39e5f813765"
      },
      "execution_count": 96,
      "outputs": [
        {
          "output_type": "stream",
          "name": "stdout",
          "text": [
            "----------\n",
            "in this latest version, we've made massive performance improvements and took care of a lot of your suggestions. we have a very large and very active user base. your ideas and suggestions have been amazing and provided a great foundation for all of the new features in nomo 3. we still have a ton of userrequested features to add in the next version. for now, we wanted to release this major update and get it out the door! you now have the ability to share clocks!  that's right! swipe down to the bottom of your clock to see a list of your approved accountability partners. simply toggle the switch next to their name and they'll see your clock in their sidemenu! check in  this is a new feature that has been requested a lot. each clock has a \"check in\" button. when you tap that button, it puts a timestamp on your clock to show that you checked it. accountability partners, who can see your clock, will be able to see when you last checked in. we recommend checking in daily, if not multiple times a day. it shows that you're actively remembering your commitment to sobriety. clock categories   you'll notice a new row in your clock that lets you set a category. this will be used in a later update to help nomo users find accountability partners through the app. it also helps us better understand our users and where we need to focus our attention.  usernames!   we originally (albeit foolishly) required full names during registration. many people wanted anonymity. we understand, respect, and agree with that. so, your accounts will now use usernames (note: if you're a current user, we've automatically generated a username for you based on your first name and last initial. you can change this by tapping on your username in the, \"my account\" section of nomo. there, you'll be able to update it to a new one).  your chips are now saved  in the last version of nomo, when you earned a chip, the previous chip was gone. someone suggested that we add a grid with all of the previously earned chips. we loved that idea and did that.  more accurate clocks  many users wanted their sobriety date to include the time of day. we've added that feature when you add or reset a clock.  refocusing exercises  when you're feeling tempted, you can play one of the refocus minigames. they're very simple and designed to keep your mind on something other than your temptations. one helps you deep breathe, another tests your memory, one uses your reflexes, and our favorite... bubble wrap popping.  notifications  we're testing out a new notification platform. for now, you can be notified when adding or approving accountability partners, when a clock has been shared with you, and when someone's clock has been reset. in our next update, we'll expand notifications to do a lot more.  home clock  a lot of you wanted your clock to appear when you open the app (instead of the account page). the last clock that you access will be saved as your \"home clock\". when you open your app, that clock will be the first thing you see.  fixed a tone of issues  when apple released one of the latest ios updates, it cause nomo to become a little buggy. we made fixing those bugs our top priority.those are just a few of the highlights. we are working hard to get the next update released as soon as possible. until then, please feel free to contact us with suggestions and ideas for future updates!\n",
            "----------\n",
            "updated to support new ios and newer devices.\n",
            "----------\n",
            "we are happy to announce the release of notes writer 13! now including full support for the new ios 13/ipados! what's new on this new free update 13.5.7? improved laser pointer and zoom/skype presentation mode: use the pointer with zoom and other video conferencing software and share the screen of your pdfs and notes with your students and colleagues! improved custom font management for text and pdf notes. more than 150 custom fonts already included in the app for your notes! improved richt text boxes for pdfs and scribble notes: now you can add tables, nested bullet and oredered lists, predefined user styles, etc. to your documents! new context menus: long tap a document or folder cover to access to additional functionality new ios document browser: additional method for browsing and performing actions on documents stored locally and in the cloud (icloud, google drive, dropbox, one drive, box, etc.) improved presentation mode with laser pointer: present your notes in full screen without any toolbars and menus via airplay or hdmi cable. use multiwindow to open a second note that only you can see while presenting. use the new laser pointer to point up content on your note without leaving any markings. improved stability, performance and fixed minor ios 13.6 bugs thanks for all the helpful feedback! if you like notes writer, please take the time to give us a nice review: it really helps. note: if you have any comments or issues, please contact us directly via our help center on www.noteswriter.com \n",
            "----------\n",
            "this updates fixes critical bug fix on ios 14 where users are unable to connect to their tv after ios update\n",
            "----------\n",
            "lingodeer is now compatible with iphone x! you can also type answers with your own keyboard. introduction to japanese and korean alphabets are added. the rest is housekeeping stuff: bug fixed and ux improved.\n"
          ]
        }
      ]
    }
  ],
  "metadata": {
    "colab": {
      "machine_shape": "hm",
      "provenance": [],
      "collapsed_sections": [
        "aSKVYjsiq-i9",
        "9UBWEJDOrLjf",
        "l0xJDW4yWAAo",
        "MuwoV_j1YSvc",
        "Snt_OzAFYlEG",
        "kUO8a-0XUy4I"
      ]
    },
    "gpuClass": "standard",
    "kernelspec": {
      "display_name": "Python 3",
      "name": "python3"
    },
    "language_info": {
      "name": "python"
    }
  },
  "nbformat": 4,
  "nbformat_minor": 0
}