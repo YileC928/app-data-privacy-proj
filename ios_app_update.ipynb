{
  "cells": [
    {
      "cell_type": "code",
      "execution_count": null,
      "metadata": {
        "id": "0xdmg8O2DhhH"
      },
      "outputs": [],
      "source": [
        "#!pip install git+https://github.com/UChicago-Computational-Content-Analysis/lucem_illud.git\n",
        "#!pip install openai\n",
        "#!pip install tiktoken"
      ]
    },
    {
      "cell_type": "code",
      "execution_count": 1,
      "metadata": {
        "id": "F_Wbrc0Ynzv8"
      },
      "outputs": [],
      "source": [
        "import pandas as pd\n",
        "import numpy as np\n",
        "import datetime\n",
        "import spacy #for text analysis\n",
        "import lucem_illud #for text analysis\n",
        "import collections #for counting"
      ]
    },
    {
      "cell_type": "code",
      "execution_count": 2,
      "metadata": {
        "colab": {
          "base_uri": "https://localhost:8080/"
        },
        "id": "COUHGm13qbFe",
        "outputId": "c3db711d-95c4-41e3-b851-fcdac97e6a94"
      },
      "outputs": [
        {
          "output_type": "stream",
          "name": "stdout",
          "text": [
            "Mounted at /content/gdrive\n"
          ]
        }
      ],
      "source": [
        "#connect with drive\n",
        "from google.colab import drive\n",
        "drive.mount('/content/gdrive', force_remount=True)"
      ]
    },
    {
      "cell_type": "code",
      "execution_count": 3,
      "metadata": {
        "colab": {
          "base_uri": "https://localhost:8080/"
        },
        "id": "Z_I82uEZqgvy",
        "outputId": "d9245d98-7210-49c4-bc1a-dd3457990900"
      },
      "outputs": [
        {
          "output_type": "stream",
          "name": "stdout",
          "text": [
            "/content/gdrive/MyDrive/Bo_RA\n"
          ]
        }
      ],
      "source": [
        "%cd /content/gdrive/MyDrive/Bo_RA/"
      ]
    },
    {
      "cell_type": "code",
      "execution_count": 5,
      "metadata": {
        "colab": {
          "base_uri": "https://localhost:8080/",
          "height": 242
        },
        "id": "lS7VYL_7n9mi",
        "outputId": "a9c105c9-9923-49ac-941e-522dff6772ab"
      },
      "outputs": [
        {
          "output_type": "stream",
          "name": "stdout",
          "text": [
            "CPU times: user 8.12 s, sys: 13.8 s, total: 21.9 s\n",
            "Wall time: 27.5 s\n"
          ]
        },
        {
          "output_type": "execute_result",
          "data": {
            "text/plain": [
              "       app_id version                                        description  \\\n",
              "0  1000017994   2.9.4  Updates in Cardiogram 2.9.4:\\n• Links now open...   \n",
              "1  1000017994  2.10.0  Updates in Cardiogram 2.10.0:\\n• Stability imp...   \n",
              "2  1000017994   3.1.8  Thanks so much for using Cardiogram!\\n\\nApple ...   \n",
              "3  1000017994   3.4.0  ECG support is here. \\n\\nAll users with an App...   \n",
              "4  1000017994  2.9.15  Updates in Cardiogram 2.9.15:\\n• Fixes to data...   \n",
              "\n",
              "         date  \n",
              "0  2018-06-28  \n",
              "1  2019-04-04  \n",
              "2  2020-03-19  \n",
              "3  2021-03-06  \n",
              "4  2018-11-08  "
            ],
            "text/html": [
              "\n",
              "  <div id=\"df-2329d36d-de31-427b-b93a-5b2d6803c9ff\">\n",
              "    <div class=\"colab-df-container\">\n",
              "      <div>\n",
              "<style scoped>\n",
              "    .dataframe tbody tr th:only-of-type {\n",
              "        vertical-align: middle;\n",
              "    }\n",
              "\n",
              "    .dataframe tbody tr th {\n",
              "        vertical-align: top;\n",
              "    }\n",
              "\n",
              "    .dataframe thead th {\n",
              "        text-align: right;\n",
              "    }\n",
              "</style>\n",
              "<table border=\"1\" class=\"dataframe\">\n",
              "  <thead>\n",
              "    <tr style=\"text-align: right;\">\n",
              "      <th></th>\n",
              "      <th>app_id</th>\n",
              "      <th>version</th>\n",
              "      <th>description</th>\n",
              "      <th>date</th>\n",
              "    </tr>\n",
              "  </thead>\n",
              "  <tbody>\n",
              "    <tr>\n",
              "      <th>0</th>\n",
              "      <td>1000017994</td>\n",
              "      <td>2.9.4</td>\n",
              "      <td>Updates in Cardiogram 2.9.4:\\n• Links now open...</td>\n",
              "      <td>2018-06-28</td>\n",
              "    </tr>\n",
              "    <tr>\n",
              "      <th>1</th>\n",
              "      <td>1000017994</td>\n",
              "      <td>2.10.0</td>\n",
              "      <td>Updates in Cardiogram 2.10.0:\\n• Stability imp...</td>\n",
              "      <td>2019-04-04</td>\n",
              "    </tr>\n",
              "    <tr>\n",
              "      <th>2</th>\n",
              "      <td>1000017994</td>\n",
              "      <td>3.1.8</td>\n",
              "      <td>Thanks so much for using Cardiogram!\\n\\nApple ...</td>\n",
              "      <td>2020-03-19</td>\n",
              "    </tr>\n",
              "    <tr>\n",
              "      <th>3</th>\n",
              "      <td>1000017994</td>\n",
              "      <td>3.4.0</td>\n",
              "      <td>ECG support is here. \\n\\nAll users with an App...</td>\n",
              "      <td>2021-03-06</td>\n",
              "    </tr>\n",
              "    <tr>\n",
              "      <th>4</th>\n",
              "      <td>1000017994</td>\n",
              "      <td>2.9.15</td>\n",
              "      <td>Updates in Cardiogram 2.9.15:\\n• Fixes to data...</td>\n",
              "      <td>2018-11-08</td>\n",
              "    </tr>\n",
              "  </tbody>\n",
              "</table>\n",
              "</div>\n",
              "      <button class=\"colab-df-convert\" onclick=\"convertToInteractive('df-2329d36d-de31-427b-b93a-5b2d6803c9ff')\"\n",
              "              title=\"Convert this dataframe to an interactive table.\"\n",
              "              style=\"display:none;\">\n",
              "        \n",
              "  <svg xmlns=\"http://www.w3.org/2000/svg\" height=\"24px\"viewBox=\"0 0 24 24\"\n",
              "       width=\"24px\">\n",
              "    <path d=\"M0 0h24v24H0V0z\" fill=\"none\"/>\n",
              "    <path d=\"M18.56 5.44l.94 2.06.94-2.06 2.06-.94-2.06-.94-.94-2.06-.94 2.06-2.06.94zm-11 1L8.5 8.5l.94-2.06 2.06-.94-2.06-.94L8.5 2.5l-.94 2.06-2.06.94zm10 10l.94 2.06.94-2.06 2.06-.94-2.06-.94-.94-2.06-.94 2.06-2.06.94z\"/><path d=\"M17.41 7.96l-1.37-1.37c-.4-.4-.92-.59-1.43-.59-.52 0-1.04.2-1.43.59L10.3 9.45l-7.72 7.72c-.78.78-.78 2.05 0 2.83L4 21.41c.39.39.9.59 1.41.59.51 0 1.02-.2 1.41-.59l7.78-7.78 2.81-2.81c.8-.78.8-2.07 0-2.86zM5.41 20L4 18.59l7.72-7.72 1.47 1.35L5.41 20z\"/>\n",
              "  </svg>\n",
              "      </button>\n",
              "      \n",
              "  <style>\n",
              "    .colab-df-container {\n",
              "      display:flex;\n",
              "      flex-wrap:wrap;\n",
              "      gap: 12px;\n",
              "    }\n",
              "\n",
              "    .colab-df-convert {\n",
              "      background-color: #E8F0FE;\n",
              "      border: none;\n",
              "      border-radius: 50%;\n",
              "      cursor: pointer;\n",
              "      display: none;\n",
              "      fill: #1967D2;\n",
              "      height: 32px;\n",
              "      padding: 0 0 0 0;\n",
              "      width: 32px;\n",
              "    }\n",
              "\n",
              "    .colab-df-convert:hover {\n",
              "      background-color: #E2EBFA;\n",
              "      box-shadow: 0px 1px 2px rgba(60, 64, 67, 0.3), 0px 1px 3px 1px rgba(60, 64, 67, 0.15);\n",
              "      fill: #174EA6;\n",
              "    }\n",
              "\n",
              "    [theme=dark] .colab-df-convert {\n",
              "      background-color: #3B4455;\n",
              "      fill: #D2E3FC;\n",
              "    }\n",
              "\n",
              "    [theme=dark] .colab-df-convert:hover {\n",
              "      background-color: #434B5C;\n",
              "      box-shadow: 0px 1px 3px 1px rgba(0, 0, 0, 0.15);\n",
              "      filter: drop-shadow(0px 1px 2px rgba(0, 0, 0, 0.3));\n",
              "      fill: #FFFFFF;\n",
              "    }\n",
              "  </style>\n",
              "\n",
              "      <script>\n",
              "        const buttonEl =\n",
              "          document.querySelector('#df-2329d36d-de31-427b-b93a-5b2d6803c9ff button.colab-df-convert');\n",
              "        buttonEl.style.display =\n",
              "          google.colab.kernel.accessAllowed ? 'block' : 'none';\n",
              "\n",
              "        async function convertToInteractive(key) {\n",
              "          const element = document.querySelector('#df-2329d36d-de31-427b-b93a-5b2d6803c9ff');\n",
              "          const dataTable =\n",
              "            await google.colab.kernel.invokeFunction('convertToInteractive',\n",
              "                                                     [key], {});\n",
              "          if (!dataTable) return;\n",
              "\n",
              "          const docLinkHtml = 'Like what you see? Visit the ' +\n",
              "            '<a target=\"_blank\" href=https://colab.research.google.com/notebooks/data_table.ipynb>data table notebook</a>'\n",
              "            + ' to learn more about interactive tables.';\n",
              "          element.innerHTML = '';\n",
              "          dataTable['output_type'] = 'display_data';\n",
              "          await google.colab.output.renderOutput(dataTable, element);\n",
              "          const docLink = document.createElement('div');\n",
              "          docLink.innerHTML = docLinkHtml;\n",
              "          element.appendChild(docLink);\n",
              "        }\n",
              "      </script>\n",
              "    </div>\n",
              "  </div>\n",
              "  "
            ]
          },
          "metadata": {},
          "execution_count": 5
        }
      ],
      "source": [
        "%%time\n",
        "ios_df = pd.read_stata('ios_app_versions_versions_US.dta')\n",
        "ios_df.head()"
      ]
    },
    {
      "cell_type": "code",
      "source": [
        "#ios_df = pd.read_pickle('ios_app.pickle') #if you were to read the stored data"
      ],
      "metadata": {
        "id": "ZHbkkSKq84Df"
      },
      "execution_count": 4,
      "outputs": []
    },
    {
      "cell_type": "markdown",
      "metadata": {
        "id": "aSKVYjsiq-i9"
      },
      "source": [
        "## Task 1\n",
        "- At the app-month level, calculate the number of version updates for both iOs and Android apps."
      ]
    },
    {
      "cell_type": "code",
      "execution_count": null,
      "metadata": {
        "colab": {
          "base_uri": "https://localhost:8080/",
          "height": 206
        },
        "id": "Ejqrz2iMoZpw",
        "outputId": "23ae93a2-ca01-473f-8aed-b7b9210f816f"
      },
      "outputs": [
        {
          "output_type": "execute_result",
          "data": {
            "text/plain": [
              "       app_id       ym  num_update\n",
              "0  1000017994  2015-08           1\n",
              "1  1000017994  2015-09           1\n",
              "2  1000017994  2015-11           1\n",
              "3  1000017994  2015-12           2\n",
              "4  1000017994  2016-01           1"
            ],
            "text/html": [
              "\n",
              "  <div id=\"df-b4dc18ee-43a2-4813-bc81-4e09959f5654\">\n",
              "    <div class=\"colab-df-container\">\n",
              "      <div>\n",
              "<style scoped>\n",
              "    .dataframe tbody tr th:only-of-type {\n",
              "        vertical-align: middle;\n",
              "    }\n",
              "\n",
              "    .dataframe tbody tr th {\n",
              "        vertical-align: top;\n",
              "    }\n",
              "\n",
              "    .dataframe thead th {\n",
              "        text-align: right;\n",
              "    }\n",
              "</style>\n",
              "<table border=\"1\" class=\"dataframe\">\n",
              "  <thead>\n",
              "    <tr style=\"text-align: right;\">\n",
              "      <th></th>\n",
              "      <th>app_id</th>\n",
              "      <th>ym</th>\n",
              "      <th>num_update</th>\n",
              "    </tr>\n",
              "  </thead>\n",
              "  <tbody>\n",
              "    <tr>\n",
              "      <th>0</th>\n",
              "      <td>1000017994</td>\n",
              "      <td>2015-08</td>\n",
              "      <td>1</td>\n",
              "    </tr>\n",
              "    <tr>\n",
              "      <th>1</th>\n",
              "      <td>1000017994</td>\n",
              "      <td>2015-09</td>\n",
              "      <td>1</td>\n",
              "    </tr>\n",
              "    <tr>\n",
              "      <th>2</th>\n",
              "      <td>1000017994</td>\n",
              "      <td>2015-11</td>\n",
              "      <td>1</td>\n",
              "    </tr>\n",
              "    <tr>\n",
              "      <th>3</th>\n",
              "      <td>1000017994</td>\n",
              "      <td>2015-12</td>\n",
              "      <td>2</td>\n",
              "    </tr>\n",
              "    <tr>\n",
              "      <th>4</th>\n",
              "      <td>1000017994</td>\n",
              "      <td>2016-01</td>\n",
              "      <td>1</td>\n",
              "    </tr>\n",
              "  </tbody>\n",
              "</table>\n",
              "</div>\n",
              "      <button class=\"colab-df-convert\" onclick=\"convertToInteractive('df-b4dc18ee-43a2-4813-bc81-4e09959f5654')\"\n",
              "              title=\"Convert this dataframe to an interactive table.\"\n",
              "              style=\"display:none;\">\n",
              "        \n",
              "  <svg xmlns=\"http://www.w3.org/2000/svg\" height=\"24px\"viewBox=\"0 0 24 24\"\n",
              "       width=\"24px\">\n",
              "    <path d=\"M0 0h24v24H0V0z\" fill=\"none\"/>\n",
              "    <path d=\"M18.56 5.44l.94 2.06.94-2.06 2.06-.94-2.06-.94-.94-2.06-.94 2.06-2.06.94zm-11 1L8.5 8.5l.94-2.06 2.06-.94-2.06-.94L8.5 2.5l-.94 2.06-2.06.94zm10 10l.94 2.06.94-2.06 2.06-.94-2.06-.94-.94-2.06-.94 2.06-2.06.94z\"/><path d=\"M17.41 7.96l-1.37-1.37c-.4-.4-.92-.59-1.43-.59-.52 0-1.04.2-1.43.59L10.3 9.45l-7.72 7.72c-.78.78-.78 2.05 0 2.83L4 21.41c.39.39.9.59 1.41.59.51 0 1.02-.2 1.41-.59l7.78-7.78 2.81-2.81c.8-.78.8-2.07 0-2.86zM5.41 20L4 18.59l7.72-7.72 1.47 1.35L5.41 20z\"/>\n",
              "  </svg>\n",
              "      </button>\n",
              "      \n",
              "  <style>\n",
              "    .colab-df-container {\n",
              "      display:flex;\n",
              "      flex-wrap:wrap;\n",
              "      gap: 12px;\n",
              "    }\n",
              "\n",
              "    .colab-df-convert {\n",
              "      background-color: #E8F0FE;\n",
              "      border: none;\n",
              "      border-radius: 50%;\n",
              "      cursor: pointer;\n",
              "      display: none;\n",
              "      fill: #1967D2;\n",
              "      height: 32px;\n",
              "      padding: 0 0 0 0;\n",
              "      width: 32px;\n",
              "    }\n",
              "\n",
              "    .colab-df-convert:hover {\n",
              "      background-color: #E2EBFA;\n",
              "      box-shadow: 0px 1px 2px rgba(60, 64, 67, 0.3), 0px 1px 3px 1px rgba(60, 64, 67, 0.15);\n",
              "      fill: #174EA6;\n",
              "    }\n",
              "\n",
              "    [theme=dark] .colab-df-convert {\n",
              "      background-color: #3B4455;\n",
              "      fill: #D2E3FC;\n",
              "    }\n",
              "\n",
              "    [theme=dark] .colab-df-convert:hover {\n",
              "      background-color: #434B5C;\n",
              "      box-shadow: 0px 1px 3px 1px rgba(0, 0, 0, 0.15);\n",
              "      filter: drop-shadow(0px 1px 2px rgba(0, 0, 0, 0.3));\n",
              "      fill: #FFFFFF;\n",
              "    }\n",
              "  </style>\n",
              "\n",
              "      <script>\n",
              "        const buttonEl =\n",
              "          document.querySelector('#df-b4dc18ee-43a2-4813-bc81-4e09959f5654 button.colab-df-convert');\n",
              "        buttonEl.style.display =\n",
              "          google.colab.kernel.accessAllowed ? 'block' : 'none';\n",
              "\n",
              "        async function convertToInteractive(key) {\n",
              "          const element = document.querySelector('#df-b4dc18ee-43a2-4813-bc81-4e09959f5654');\n",
              "          const dataTable =\n",
              "            await google.colab.kernel.invokeFunction('convertToInteractive',\n",
              "                                                     [key], {});\n",
              "          if (!dataTable) return;\n",
              "\n",
              "          const docLinkHtml = 'Like what you see? Visit the ' +\n",
              "            '<a target=\"_blank\" href=https://colab.research.google.com/notebooks/data_table.ipynb>data table notebook</a>'\n",
              "            + ' to learn more about interactive tables.';\n",
              "          element.innerHTML = '';\n",
              "          dataTable['output_type'] = 'display_data';\n",
              "          await google.colab.output.renderOutput(dataTable, element);\n",
              "          const docLink = document.createElement('div');\n",
              "          docLink.innerHTML = docLinkHtml;\n",
              "          element.appendChild(docLink);\n",
              "        }\n",
              "      </script>\n",
              "    </div>\n",
              "  </div>\n",
              "  "
            ]
          },
          "metadata": {},
          "execution_count": 12
        }
      ],
      "source": [
        "#aggregate observations to app-month level\n",
        "ios_df['ym'] = pd.to_datetime(ios_df['date']).dt.to_period('M')\n",
        "count_df = ios_df.groupby(['app_id', 'ym']).count().reset_index()[['app_id', 'ym', 'version']]\n",
        "count_df = count_df.rename(columns = {'version': 'num_update'})\n",
        "count_df.head()"
      ]
    },
    {
      "cell_type": "markdown",
      "source": [
        "To generate a complete app-month panel, I search for the earliest and the latest update date for each app, and create a list of complete year-month index, then for the months with out updates, input 0."
      ],
      "metadata": {
        "id": "7PhpfVJMg07l"
      }
    },
    {
      "cell_type": "code",
      "source": [
        "%%time\n",
        "#to generate a complete id-month panel, first create a blank dataframe of all complete id-month index\n",
        "#then merge it with the previous dataframe and input 0 for months without updates\n",
        "app_id_list = list(count_df['app_id'].unique()) #25728 unique app_ids\n",
        "count_df_full = pd.DataFrame()\n",
        "month_lst_full = []\n",
        "app_id_lst_full = []\n",
        "for id in app_id_list:\n",
        "  min_month = min(count_df[count_df['app_id'] == id]['ym'])\n",
        "  max_month = max(count_df[count_df['app_id'] == id]['ym'])\n",
        "  month_lst = pd.date_range(min_month.to_timestamp(), max_month.to_timestamp() + datetime.timedelta(days=1), freq='MS').strftime(\"%Y-%m\").tolist()                 \n",
        "  month_lst_full = month_lst_full + month_lst\n",
        "  app_id_lst_full = app_id_lst_full + [id]*len(month_lst)\n",
        "count_df_full['app_id'] = app_id_lst_full\n",
        "count_df_full['ym'] = month_lst_full"
      ],
      "metadata": {
        "colab": {
          "base_uri": "https://localhost:8080/"
        },
        "id": "en8RvaavRaNK",
        "outputId": "90ee1bc1-04c1-42c4-a824-40f2f08b78c0"
      },
      "execution_count": null,
      "outputs": [
        {
          "output_type": "stream",
          "name": "stdout",
          "text": [
            "CPU times: user 42min 46s, sys: 7.36 s, total: 42min 54s\n",
            "Wall time: 42min 54s\n"
          ]
        }
      ]
    },
    {
      "cell_type": "code",
      "source": [
        "count_df_full #check"
      ],
      "metadata": {
        "colab": {
          "base_uri": "https://localhost:8080/",
          "height": 424
        },
        "id": "Wz9dDc7HdJ2k",
        "outputId": "885ec47e-5855-4131-f97d-e184621b8d45"
      },
      "execution_count": null,
      "outputs": [
        {
          "output_type": "execute_result",
          "data": {
            "text/plain": [
              "             app_id       ym\n",
              "0        1000017994  2015-08\n",
              "1        1000017994  2015-09\n",
              "2        1000017994  2015-10\n",
              "3        1000017994  2015-11\n",
              "4        1000017994  2015-12\n",
              "...             ...      ...\n",
              "1130499   999924447  2021-02\n",
              "1130500   999924447  2021-03\n",
              "1130501   999924447  2021-04\n",
              "1130502   999924447  2021-05\n",
              "1130503   999924447  2021-06\n",
              "\n",
              "[1130504 rows x 2 columns]"
            ],
            "text/html": [
              "\n",
              "  <div id=\"df-9f440f7a-91ad-401f-9f06-f44944e4a628\">\n",
              "    <div class=\"colab-df-container\">\n",
              "      <div>\n",
              "<style scoped>\n",
              "    .dataframe tbody tr th:only-of-type {\n",
              "        vertical-align: middle;\n",
              "    }\n",
              "\n",
              "    .dataframe tbody tr th {\n",
              "        vertical-align: top;\n",
              "    }\n",
              "\n",
              "    .dataframe thead th {\n",
              "        text-align: right;\n",
              "    }\n",
              "</style>\n",
              "<table border=\"1\" class=\"dataframe\">\n",
              "  <thead>\n",
              "    <tr style=\"text-align: right;\">\n",
              "      <th></th>\n",
              "      <th>app_id</th>\n",
              "      <th>ym</th>\n",
              "    </tr>\n",
              "  </thead>\n",
              "  <tbody>\n",
              "    <tr>\n",
              "      <th>0</th>\n",
              "      <td>1000017994</td>\n",
              "      <td>2015-08</td>\n",
              "    </tr>\n",
              "    <tr>\n",
              "      <th>1</th>\n",
              "      <td>1000017994</td>\n",
              "      <td>2015-09</td>\n",
              "    </tr>\n",
              "    <tr>\n",
              "      <th>2</th>\n",
              "      <td>1000017994</td>\n",
              "      <td>2015-10</td>\n",
              "    </tr>\n",
              "    <tr>\n",
              "      <th>3</th>\n",
              "      <td>1000017994</td>\n",
              "      <td>2015-11</td>\n",
              "    </tr>\n",
              "    <tr>\n",
              "      <th>4</th>\n",
              "      <td>1000017994</td>\n",
              "      <td>2015-12</td>\n",
              "    </tr>\n",
              "    <tr>\n",
              "      <th>...</th>\n",
              "      <td>...</td>\n",
              "      <td>...</td>\n",
              "    </tr>\n",
              "    <tr>\n",
              "      <th>1130499</th>\n",
              "      <td>999924447</td>\n",
              "      <td>2021-02</td>\n",
              "    </tr>\n",
              "    <tr>\n",
              "      <th>1130500</th>\n",
              "      <td>999924447</td>\n",
              "      <td>2021-03</td>\n",
              "    </tr>\n",
              "    <tr>\n",
              "      <th>1130501</th>\n",
              "      <td>999924447</td>\n",
              "      <td>2021-04</td>\n",
              "    </tr>\n",
              "    <tr>\n",
              "      <th>1130502</th>\n",
              "      <td>999924447</td>\n",
              "      <td>2021-05</td>\n",
              "    </tr>\n",
              "    <tr>\n",
              "      <th>1130503</th>\n",
              "      <td>999924447</td>\n",
              "      <td>2021-06</td>\n",
              "    </tr>\n",
              "  </tbody>\n",
              "</table>\n",
              "<p>1130504 rows × 2 columns</p>\n",
              "</div>\n",
              "      <button class=\"colab-df-convert\" onclick=\"convertToInteractive('df-9f440f7a-91ad-401f-9f06-f44944e4a628')\"\n",
              "              title=\"Convert this dataframe to an interactive table.\"\n",
              "              style=\"display:none;\">\n",
              "        \n",
              "  <svg xmlns=\"http://www.w3.org/2000/svg\" height=\"24px\"viewBox=\"0 0 24 24\"\n",
              "       width=\"24px\">\n",
              "    <path d=\"M0 0h24v24H0V0z\" fill=\"none\"/>\n",
              "    <path d=\"M18.56 5.44l.94 2.06.94-2.06 2.06-.94-2.06-.94-.94-2.06-.94 2.06-2.06.94zm-11 1L8.5 8.5l.94-2.06 2.06-.94-2.06-.94L8.5 2.5l-.94 2.06-2.06.94zm10 10l.94 2.06.94-2.06 2.06-.94-2.06-.94-.94-2.06-.94 2.06-2.06.94z\"/><path d=\"M17.41 7.96l-1.37-1.37c-.4-.4-.92-.59-1.43-.59-.52 0-1.04.2-1.43.59L10.3 9.45l-7.72 7.72c-.78.78-.78 2.05 0 2.83L4 21.41c.39.39.9.59 1.41.59.51 0 1.02-.2 1.41-.59l7.78-7.78 2.81-2.81c.8-.78.8-2.07 0-2.86zM5.41 20L4 18.59l7.72-7.72 1.47 1.35L5.41 20z\"/>\n",
              "  </svg>\n",
              "      </button>\n",
              "      \n",
              "  <style>\n",
              "    .colab-df-container {\n",
              "      display:flex;\n",
              "      flex-wrap:wrap;\n",
              "      gap: 12px;\n",
              "    }\n",
              "\n",
              "    .colab-df-convert {\n",
              "      background-color: #E8F0FE;\n",
              "      border: none;\n",
              "      border-radius: 50%;\n",
              "      cursor: pointer;\n",
              "      display: none;\n",
              "      fill: #1967D2;\n",
              "      height: 32px;\n",
              "      padding: 0 0 0 0;\n",
              "      width: 32px;\n",
              "    }\n",
              "\n",
              "    .colab-df-convert:hover {\n",
              "      background-color: #E2EBFA;\n",
              "      box-shadow: 0px 1px 2px rgba(60, 64, 67, 0.3), 0px 1px 3px 1px rgba(60, 64, 67, 0.15);\n",
              "      fill: #174EA6;\n",
              "    }\n",
              "\n",
              "    [theme=dark] .colab-df-convert {\n",
              "      background-color: #3B4455;\n",
              "      fill: #D2E3FC;\n",
              "    }\n",
              "\n",
              "    [theme=dark] .colab-df-convert:hover {\n",
              "      background-color: #434B5C;\n",
              "      box-shadow: 0px 1px 3px 1px rgba(0, 0, 0, 0.15);\n",
              "      filter: drop-shadow(0px 1px 2px rgba(0, 0, 0, 0.3));\n",
              "      fill: #FFFFFF;\n",
              "    }\n",
              "  </style>\n",
              "\n",
              "      <script>\n",
              "        const buttonEl =\n",
              "          document.querySelector('#df-9f440f7a-91ad-401f-9f06-f44944e4a628 button.colab-df-convert');\n",
              "        buttonEl.style.display =\n",
              "          google.colab.kernel.accessAllowed ? 'block' : 'none';\n",
              "\n",
              "        async function convertToInteractive(key) {\n",
              "          const element = document.querySelector('#df-9f440f7a-91ad-401f-9f06-f44944e4a628');\n",
              "          const dataTable =\n",
              "            await google.colab.kernel.invokeFunction('convertToInteractive',\n",
              "                                                     [key], {});\n",
              "          if (!dataTable) return;\n",
              "\n",
              "          const docLinkHtml = 'Like what you see? Visit the ' +\n",
              "            '<a target=\"_blank\" href=https://colab.research.google.com/notebooks/data_table.ipynb>data table notebook</a>'\n",
              "            + ' to learn more about interactive tables.';\n",
              "          element.innerHTML = '';\n",
              "          dataTable['output_type'] = 'display_data';\n",
              "          await google.colab.output.renderOutput(dataTable, element);\n",
              "          const docLink = document.createElement('div');\n",
              "          docLink.innerHTML = docLinkHtml;\n",
              "          element.appendChild(docLink);\n",
              "        }\n",
              "      </script>\n",
              "    </div>\n",
              "  </div>\n",
              "  "
            ]
          },
          "metadata": {},
          "execution_count": 53
        }
      ]
    },
    {
      "cell_type": "code",
      "source": [
        "count_df_full['ym'] = count_df_full['ym'].apply(lambda x: str(x))"
      ],
      "metadata": {
        "id": "Wj4gQztLo_Lv"
      },
      "execution_count": null,
      "outputs": []
    },
    {
      "cell_type": "code",
      "source": [
        "count_df['ym'] = count_df['ym'].apply(lambda x: str(x))"
      ],
      "metadata": {
        "id": "Tl2yyHWYpVe_"
      },
      "execution_count": null,
      "outputs": []
    },
    {
      "cell_type": "code",
      "source": [
        "count_df = pd.merge(count_df, count_df_full, on = ['app_id', 'ym'], how = 'outer')\n",
        "count_df = count_df.replace(np.nan, 0)\n",
        "count_df"
      ],
      "metadata": {
        "colab": {
          "base_uri": "https://localhost:8080/",
          "height": 424
        },
        "id": "TlLQexObe-9I",
        "outputId": "6f890d72-462d-483d-d96b-a70e0a63b581"
      },
      "execution_count": null,
      "outputs": [
        {
          "output_type": "execute_result",
          "data": {
            "text/plain": [
              "             app_id       ym  num_update\n",
              "0        1000017994  2015-08         1.0\n",
              "1        1000017994  2015-09         1.0\n",
              "2        1000017994  2015-11         1.0\n",
              "3        1000017994  2015-12         2.0\n",
              "4        1000017994  2016-01         1.0\n",
              "...             ...      ...         ...\n",
              "1130499   999924447  2021-01         0.0\n",
              "1130500   999924447  2021-02         0.0\n",
              "1130501   999924447  2021-03         0.0\n",
              "1130502   999924447  2021-04         0.0\n",
              "1130503   999924447  2021-05         0.0\n",
              "\n",
              "[1130504 rows x 3 columns]"
            ],
            "text/html": [
              "\n",
              "  <div id=\"df-1d05b8a5-0f05-4f9a-9e58-a7e9203b59ff\">\n",
              "    <div class=\"colab-df-container\">\n",
              "      <div>\n",
              "<style scoped>\n",
              "    .dataframe tbody tr th:only-of-type {\n",
              "        vertical-align: middle;\n",
              "    }\n",
              "\n",
              "    .dataframe tbody tr th {\n",
              "        vertical-align: top;\n",
              "    }\n",
              "\n",
              "    .dataframe thead th {\n",
              "        text-align: right;\n",
              "    }\n",
              "</style>\n",
              "<table border=\"1\" class=\"dataframe\">\n",
              "  <thead>\n",
              "    <tr style=\"text-align: right;\">\n",
              "      <th></th>\n",
              "      <th>app_id</th>\n",
              "      <th>ym</th>\n",
              "      <th>num_update</th>\n",
              "    </tr>\n",
              "  </thead>\n",
              "  <tbody>\n",
              "    <tr>\n",
              "      <th>0</th>\n",
              "      <td>1000017994</td>\n",
              "      <td>2015-08</td>\n",
              "      <td>1.0</td>\n",
              "    </tr>\n",
              "    <tr>\n",
              "      <th>1</th>\n",
              "      <td>1000017994</td>\n",
              "      <td>2015-09</td>\n",
              "      <td>1.0</td>\n",
              "    </tr>\n",
              "    <tr>\n",
              "      <th>2</th>\n",
              "      <td>1000017994</td>\n",
              "      <td>2015-11</td>\n",
              "      <td>1.0</td>\n",
              "    </tr>\n",
              "    <tr>\n",
              "      <th>3</th>\n",
              "      <td>1000017994</td>\n",
              "      <td>2015-12</td>\n",
              "      <td>2.0</td>\n",
              "    </tr>\n",
              "    <tr>\n",
              "      <th>4</th>\n",
              "      <td>1000017994</td>\n",
              "      <td>2016-01</td>\n",
              "      <td>1.0</td>\n",
              "    </tr>\n",
              "    <tr>\n",
              "      <th>...</th>\n",
              "      <td>...</td>\n",
              "      <td>...</td>\n",
              "      <td>...</td>\n",
              "    </tr>\n",
              "    <tr>\n",
              "      <th>1130499</th>\n",
              "      <td>999924447</td>\n",
              "      <td>2021-01</td>\n",
              "      <td>0.0</td>\n",
              "    </tr>\n",
              "    <tr>\n",
              "      <th>1130500</th>\n",
              "      <td>999924447</td>\n",
              "      <td>2021-02</td>\n",
              "      <td>0.0</td>\n",
              "    </tr>\n",
              "    <tr>\n",
              "      <th>1130501</th>\n",
              "      <td>999924447</td>\n",
              "      <td>2021-03</td>\n",
              "      <td>0.0</td>\n",
              "    </tr>\n",
              "    <tr>\n",
              "      <th>1130502</th>\n",
              "      <td>999924447</td>\n",
              "      <td>2021-04</td>\n",
              "      <td>0.0</td>\n",
              "    </tr>\n",
              "    <tr>\n",
              "      <th>1130503</th>\n",
              "      <td>999924447</td>\n",
              "      <td>2021-05</td>\n",
              "      <td>0.0</td>\n",
              "    </tr>\n",
              "  </tbody>\n",
              "</table>\n",
              "<p>1130504 rows × 3 columns</p>\n",
              "</div>\n",
              "      <button class=\"colab-df-convert\" onclick=\"convertToInteractive('df-1d05b8a5-0f05-4f9a-9e58-a7e9203b59ff')\"\n",
              "              title=\"Convert this dataframe to an interactive table.\"\n",
              "              style=\"display:none;\">\n",
              "        \n",
              "  <svg xmlns=\"http://www.w3.org/2000/svg\" height=\"24px\"viewBox=\"0 0 24 24\"\n",
              "       width=\"24px\">\n",
              "    <path d=\"M0 0h24v24H0V0z\" fill=\"none\"/>\n",
              "    <path d=\"M18.56 5.44l.94 2.06.94-2.06 2.06-.94-2.06-.94-.94-2.06-.94 2.06-2.06.94zm-11 1L8.5 8.5l.94-2.06 2.06-.94-2.06-.94L8.5 2.5l-.94 2.06-2.06.94zm10 10l.94 2.06.94-2.06 2.06-.94-2.06-.94-.94-2.06-.94 2.06-2.06.94z\"/><path d=\"M17.41 7.96l-1.37-1.37c-.4-.4-.92-.59-1.43-.59-.52 0-1.04.2-1.43.59L10.3 9.45l-7.72 7.72c-.78.78-.78 2.05 0 2.83L4 21.41c.39.39.9.59 1.41.59.51 0 1.02-.2 1.41-.59l7.78-7.78 2.81-2.81c.8-.78.8-2.07 0-2.86zM5.41 20L4 18.59l7.72-7.72 1.47 1.35L5.41 20z\"/>\n",
              "  </svg>\n",
              "      </button>\n",
              "      \n",
              "  <style>\n",
              "    .colab-df-container {\n",
              "      display:flex;\n",
              "      flex-wrap:wrap;\n",
              "      gap: 12px;\n",
              "    }\n",
              "\n",
              "    .colab-df-convert {\n",
              "      background-color: #E8F0FE;\n",
              "      border: none;\n",
              "      border-radius: 50%;\n",
              "      cursor: pointer;\n",
              "      display: none;\n",
              "      fill: #1967D2;\n",
              "      height: 32px;\n",
              "      padding: 0 0 0 0;\n",
              "      width: 32px;\n",
              "    }\n",
              "\n",
              "    .colab-df-convert:hover {\n",
              "      background-color: #E2EBFA;\n",
              "      box-shadow: 0px 1px 2px rgba(60, 64, 67, 0.3), 0px 1px 3px 1px rgba(60, 64, 67, 0.15);\n",
              "      fill: #174EA6;\n",
              "    }\n",
              "\n",
              "    [theme=dark] .colab-df-convert {\n",
              "      background-color: #3B4455;\n",
              "      fill: #D2E3FC;\n",
              "    }\n",
              "\n",
              "    [theme=dark] .colab-df-convert:hover {\n",
              "      background-color: #434B5C;\n",
              "      box-shadow: 0px 1px 3px 1px rgba(0, 0, 0, 0.15);\n",
              "      filter: drop-shadow(0px 1px 2px rgba(0, 0, 0, 0.3));\n",
              "      fill: #FFFFFF;\n",
              "    }\n",
              "  </style>\n",
              "\n",
              "      <script>\n",
              "        const buttonEl =\n",
              "          document.querySelector('#df-1d05b8a5-0f05-4f9a-9e58-a7e9203b59ff button.colab-df-convert');\n",
              "        buttonEl.style.display =\n",
              "          google.colab.kernel.accessAllowed ? 'block' : 'none';\n",
              "\n",
              "        async function convertToInteractive(key) {\n",
              "          const element = document.querySelector('#df-1d05b8a5-0f05-4f9a-9e58-a7e9203b59ff');\n",
              "          const dataTable =\n",
              "            await google.colab.kernel.invokeFunction('convertToInteractive',\n",
              "                                                     [key], {});\n",
              "          if (!dataTable) return;\n",
              "\n",
              "          const docLinkHtml = 'Like what you see? Visit the ' +\n",
              "            '<a target=\"_blank\" href=https://colab.research.google.com/notebooks/data_table.ipynb>data table notebook</a>'\n",
              "            + ' to learn more about interactive tables.';\n",
              "          element.innerHTML = '';\n",
              "          dataTable['output_type'] = 'display_data';\n",
              "          await google.colab.output.renderOutput(dataTable, element);\n",
              "          const docLink = document.createElement('div');\n",
              "          docLink.innerHTML = docLinkHtml;\n",
              "          element.appendChild(docLink);\n",
              "        }\n",
              "      </script>\n",
              "    </div>\n",
              "  </div>\n",
              "  "
            ]
          },
          "metadata": {},
          "execution_count": 64
        }
      ]
    },
    {
      "cell_type": "code",
      "source": [
        "count_df.to_csv('num_update_app_month.csv')\n",
        "count_df['num_update'].plot.hist(bins=20, color = 'grey');\n",
        "count_df.describe()"
      ],
      "metadata": {
        "colab": {
          "base_uri": "https://localhost:8080/",
          "height": 713
        },
        "id": "8xf-ZrsGyXxj",
        "outputId": "a1dedb21-f731-44c3-b048-aeb291781c58"
      },
      "execution_count": null,
      "outputs": [
        {
          "output_type": "execute_result",
          "data": {
            "text/plain": [
              "         num_update\n",
              "count  1.130504e+06\n",
              "mean   1.020060e+00\n",
              "std    1.370931e+00\n",
              "min    0.000000e+00\n",
              "25%    0.000000e+00\n",
              "50%    1.000000e+00\n",
              "75%    2.000000e+00\n",
              "max    2.700000e+01"
            ],
            "text/html": [
              "\n",
              "  <div id=\"df-6ab6c8e7-fb13-4c5f-a6a0-758d9127b134\">\n",
              "    <div class=\"colab-df-container\">\n",
              "      <div>\n",
              "<style scoped>\n",
              "    .dataframe tbody tr th:only-of-type {\n",
              "        vertical-align: middle;\n",
              "    }\n",
              "\n",
              "    .dataframe tbody tr th {\n",
              "        vertical-align: top;\n",
              "    }\n",
              "\n",
              "    .dataframe thead th {\n",
              "        text-align: right;\n",
              "    }\n",
              "</style>\n",
              "<table border=\"1\" class=\"dataframe\">\n",
              "  <thead>\n",
              "    <tr style=\"text-align: right;\">\n",
              "      <th></th>\n",
              "      <th>num_update</th>\n",
              "    </tr>\n",
              "  </thead>\n",
              "  <tbody>\n",
              "    <tr>\n",
              "      <th>count</th>\n",
              "      <td>1.130504e+06</td>\n",
              "    </tr>\n",
              "    <tr>\n",
              "      <th>mean</th>\n",
              "      <td>1.020060e+00</td>\n",
              "    </tr>\n",
              "    <tr>\n",
              "      <th>std</th>\n",
              "      <td>1.370931e+00</td>\n",
              "    </tr>\n",
              "    <tr>\n",
              "      <th>min</th>\n",
              "      <td>0.000000e+00</td>\n",
              "    </tr>\n",
              "    <tr>\n",
              "      <th>25%</th>\n",
              "      <td>0.000000e+00</td>\n",
              "    </tr>\n",
              "    <tr>\n",
              "      <th>50%</th>\n",
              "      <td>1.000000e+00</td>\n",
              "    </tr>\n",
              "    <tr>\n",
              "      <th>75%</th>\n",
              "      <td>2.000000e+00</td>\n",
              "    </tr>\n",
              "    <tr>\n",
              "      <th>max</th>\n",
              "      <td>2.700000e+01</td>\n",
              "    </tr>\n",
              "  </tbody>\n",
              "</table>\n",
              "</div>\n",
              "      <button class=\"colab-df-convert\" onclick=\"convertToInteractive('df-6ab6c8e7-fb13-4c5f-a6a0-758d9127b134')\"\n",
              "              title=\"Convert this dataframe to an interactive table.\"\n",
              "              style=\"display:none;\">\n",
              "        \n",
              "  <svg xmlns=\"http://www.w3.org/2000/svg\" height=\"24px\"viewBox=\"0 0 24 24\"\n",
              "       width=\"24px\">\n",
              "    <path d=\"M0 0h24v24H0V0z\" fill=\"none\"/>\n",
              "    <path d=\"M18.56 5.44l.94 2.06.94-2.06 2.06-.94-2.06-.94-.94-2.06-.94 2.06-2.06.94zm-11 1L8.5 8.5l.94-2.06 2.06-.94-2.06-.94L8.5 2.5l-.94 2.06-2.06.94zm10 10l.94 2.06.94-2.06 2.06-.94-2.06-.94-.94-2.06-.94 2.06-2.06.94z\"/><path d=\"M17.41 7.96l-1.37-1.37c-.4-.4-.92-.59-1.43-.59-.52 0-1.04.2-1.43.59L10.3 9.45l-7.72 7.72c-.78.78-.78 2.05 0 2.83L4 21.41c.39.39.9.59 1.41.59.51 0 1.02-.2 1.41-.59l7.78-7.78 2.81-2.81c.8-.78.8-2.07 0-2.86zM5.41 20L4 18.59l7.72-7.72 1.47 1.35L5.41 20z\"/>\n",
              "  </svg>\n",
              "      </button>\n",
              "      \n",
              "  <style>\n",
              "    .colab-df-container {\n",
              "      display:flex;\n",
              "      flex-wrap:wrap;\n",
              "      gap: 12px;\n",
              "    }\n",
              "\n",
              "    .colab-df-convert {\n",
              "      background-color: #E8F0FE;\n",
              "      border: none;\n",
              "      border-radius: 50%;\n",
              "      cursor: pointer;\n",
              "      display: none;\n",
              "      fill: #1967D2;\n",
              "      height: 32px;\n",
              "      padding: 0 0 0 0;\n",
              "      width: 32px;\n",
              "    }\n",
              "\n",
              "    .colab-df-convert:hover {\n",
              "      background-color: #E2EBFA;\n",
              "      box-shadow: 0px 1px 2px rgba(60, 64, 67, 0.3), 0px 1px 3px 1px rgba(60, 64, 67, 0.15);\n",
              "      fill: #174EA6;\n",
              "    }\n",
              "\n",
              "    [theme=dark] .colab-df-convert {\n",
              "      background-color: #3B4455;\n",
              "      fill: #D2E3FC;\n",
              "    }\n",
              "\n",
              "    [theme=dark] .colab-df-convert:hover {\n",
              "      background-color: #434B5C;\n",
              "      box-shadow: 0px 1px 3px 1px rgba(0, 0, 0, 0.15);\n",
              "      filter: drop-shadow(0px 1px 2px rgba(0, 0, 0, 0.3));\n",
              "      fill: #FFFFFF;\n",
              "    }\n",
              "  </style>\n",
              "\n",
              "      <script>\n",
              "        const buttonEl =\n",
              "          document.querySelector('#df-6ab6c8e7-fb13-4c5f-a6a0-758d9127b134 button.colab-df-convert');\n",
              "        buttonEl.style.display =\n",
              "          google.colab.kernel.accessAllowed ? 'block' : 'none';\n",
              "\n",
              "        async function convertToInteractive(key) {\n",
              "          const element = document.querySelector('#df-6ab6c8e7-fb13-4c5f-a6a0-758d9127b134');\n",
              "          const dataTable =\n",
              "            await google.colab.kernel.invokeFunction('convertToInteractive',\n",
              "                                                     [key], {});\n",
              "          if (!dataTable) return;\n",
              "\n",
              "          const docLinkHtml = 'Like what you see? Visit the ' +\n",
              "            '<a target=\"_blank\" href=https://colab.research.google.com/notebooks/data_table.ipynb>data table notebook</a>'\n",
              "            + ' to learn more about interactive tables.';\n",
              "          element.innerHTML = '';\n",
              "          dataTable['output_type'] = 'display_data';\n",
              "          await google.colab.output.renderOutput(dataTable, element);\n",
              "          const docLink = document.createElement('div');\n",
              "          docLink.innerHTML = docLinkHtml;\n",
              "          element.appendChild(docLink);\n",
              "        }\n",
              "      </script>\n",
              "    </div>\n",
              "  </div>\n",
              "  "
            ]
          },
          "metadata": {},
          "execution_count": 66
        },
        {
          "output_type": "display_data",
          "data": {
            "text/plain": [
              "<Figure size 640x480 with 1 Axes>"
            ],
            "image/png": "[encoded data removed]"
          },
          "metadata": {}
        }
      ]
    },
    {
      "cell_type": "markdown",
      "metadata": {
        "id": "9UBWEJDOrLjf"
      },
      "source": [
        "## Task 2\n",
        "- At the app-update level, construct the total length of the text per version update description (drop unnecessary characters, indents, and blank spaces). Length is measured both in characters and in words."
      ]
    },
    {
      "cell_type": "code",
      "execution_count": 6,
      "metadata": {
        "id": "Atzc1ynTrWqb"
      },
      "outputs": [],
      "source": [
        "nlp = spacy.load(\"en_core_web_sm\")"
      ]
    },
    {
      "cell_type": "code",
      "execution_count": 7,
      "metadata": {
        "id": "OJMmDa84rEMe"
      },
      "outputs": [],
      "source": [
        "def word_tokenize(word_list):\n",
        "    tokenized = []\n",
        "    # pass word list through language model.\n",
        "    doc = nlp(word_list)\n",
        "    for token in doc:\n",
        "        if not token.is_punct and len(token.text.strip()) > 0:\n",
        "            tokenized.append(token.text)\n",
        "    return tokenized"
      ]
    },
    {
      "cell_type": "code",
      "source": [
        "ios_df['description_raw'] = ios_df['description'] #store raw description"
      ],
      "metadata": {
        "id": "ATkbV6YWb4dN"
      },
      "execution_count": 8,
      "outputs": []
    },
    {
      "cell_type": "code",
      "source": [
        "ios_df['description'] = ios_df['description'].apply(lambda x: '' if x == 'None' else x) # ~9000 descriptions are 'None', replace them with ''"
      ],
      "metadata": {
        "id": "7ZRKjv5dcEHe"
      },
      "execution_count": 9,
      "outputs": []
    },
    {
      "cell_type": "code",
      "source": [
        "def replace_itemizer(target, char_lst):\n",
        "  for char in char_lst:\n",
        "    target = target.replace(char, ' ') #replace by blank in case there are not blanks between the special character and the next word\n",
        "  return target"
      ],
      "metadata": {
        "id": "KaCYo-XsavgD"
      },
      "execution_count": 10,
      "outputs": []
    },
    {
      "cell_type": "code",
      "source": [
        "char_lst = ('\\n', '-', '•', '*', '◉', '+', '●', '>', '°', '✩', '■', '=' '▶')\n",
        "ios_df['description'] = ios_df['description'].apply(lambda x: replace_itemizer(x, char_lst)) \n",
        "#remove itemizer characters (these characters are special and cannot be removed by text normalization)"
      ],
      "metadata": {
        "id": "-2fxPqwTbHZd"
      },
      "execution_count": 11,
      "outputs": []
    },
    {
      "cell_type": "code",
      "execution_count": 22,
      "metadata": {
        "id": "00HHIP7Wx3qW",
        "colab": {
          "base_uri": "https://localhost:8080/"
        },
        "outputId": "b91bf8e3-52ab-4cbd-c6c4-ac088c459b06"
      },
      "outputs": [
        {
          "output_type": "stream",
          "name": "stdout",
          "text": [
            "CPU times: user 1h 35min 36s, sys: 25.4 s, total: 1h 36min 2s\n",
            "Wall time: 1h 36min 2s\n"
          ]
        }
      ],
      "source": [
        "%%time\n",
        "ios_df['description_tk'] =  ios_df['description'].apply(lambda x: lucem_illud.word_tokenize(x)) #tokenization"
      ]
    },
    {
      "cell_type": "code",
      "execution_count": 23,
      "metadata": {
        "id": "oBfHxOtGafIg"
      },
      "outputs": [],
      "source": [
        "ios_df['len_word'] = ios_df['description_tk'].apply(lambda x: len(x))"
      ]
    },
    {
      "cell_type": "code",
      "execution_count": 24,
      "metadata": {
        "id": "K2wAHSKQayvW"
      },
      "outputs": [],
      "source": [
        "ios_df['len_char'] = ios_df['description_tk'].apply(lambda x: len(''.join(x)))"
      ]
    },
    {
      "cell_type": "code",
      "source": [
        "ios_df['len_char_ttl'] = ios_df['description'].apply(lambda x: len(x))"
      ],
      "metadata": {
        "id": "MrWHZ10refT3"
      },
      "execution_count": 25,
      "outputs": []
    },
    {
      "cell_type": "code",
      "source": [
        "ios_df[['len_word', 'len_char', 'len_char_ttl']].describe()[1:]"
      ],
      "metadata": {
        "colab": {
          "base_uri": "https://localhost:8080/",
          "height": 269
        },
        "id": "s7O2cw3ueFW-",
        "outputId": "37bdada3-b380-4474-d0b3-6cfb7e18eff3"
      },
      "execution_count": 26,
      "outputs": [
        {
          "output_type": "execute_result",
          "data": {
            "text/plain": [
              "        len_word     len_char  len_char_ttl\n",
              "mean   33.551472   162.594121    203.801546\n",
              "std    47.953741   224.532407    284.058106\n",
              "min     0.000000     0.000000      0.000000\n",
              "25%     5.000000    34.000000     40.000000\n",
              "50%    19.000000    96.000000    119.000000\n",
              "75%    44.000000   212.000000    265.000000\n",
              "max   786.000000  3434.000000   4000.000000"
            ],
            "text/html": [
              "\n",
              "  <div id=\"df-1dbb7703-4162-409c-b3c8-e4c1a424fa08\">\n",
              "    <div class=\"colab-df-container\">\n",
              "      <div>\n",
              "<style scoped>\n",
              "    .dataframe tbody tr th:only-of-type {\n",
              "        vertical-align: middle;\n",
              "    }\n",
              "\n",
              "    .dataframe tbody tr th {\n",
              "        vertical-align: top;\n",
              "    }\n",
              "\n",
              "    .dataframe thead th {\n",
              "        text-align: right;\n",
              "    }\n",
              "</style>\n",
              "<table border=\"1\" class=\"dataframe\">\n",
              "  <thead>\n",
              "    <tr style=\"text-align: right;\">\n",
              "      <th></th>\n",
              "      <th>len_word</th>\n",
              "      <th>len_char</th>\n",
              "      <th>len_char_ttl</th>\n",
              "    </tr>\n",
              "  </thead>\n",
              "  <tbody>\n",
              "    <tr>\n",
              "      <th>mean</th>\n",
              "      <td>33.551472</td>\n",
              "      <td>162.594121</td>\n",
              "      <td>203.801546</td>\n",
              "    </tr>\n",
              "    <tr>\n",
              "      <th>std</th>\n",
              "      <td>47.953741</td>\n",
              "      <td>224.532407</td>\n",
              "      <td>284.058106</td>\n",
              "    </tr>\n",
              "    <tr>\n",
              "      <th>min</th>\n",
              "      <td>0.000000</td>\n",
              "      <td>0.000000</td>\n",
              "      <td>0.000000</td>\n",
              "    </tr>\n",
              "    <tr>\n",
              "      <th>25%</th>\n",
              "      <td>5.000000</td>\n",
              "      <td>34.000000</td>\n",
              "      <td>40.000000</td>\n",
              "    </tr>\n",
              "    <tr>\n",
              "      <th>50%</th>\n",
              "      <td>19.000000</td>\n",
              "      <td>96.000000</td>\n",
              "      <td>119.000000</td>\n",
              "    </tr>\n",
              "    <tr>\n",
              "      <th>75%</th>\n",
              "      <td>44.000000</td>\n",
              "      <td>212.000000</td>\n",
              "      <td>265.000000</td>\n",
              "    </tr>\n",
              "    <tr>\n",
              "      <th>max</th>\n",
              "      <td>786.000000</td>\n",
              "      <td>3434.000000</td>\n",
              "      <td>4000.000000</td>\n",
              "    </tr>\n",
              "  </tbody>\n",
              "</table>\n",
              "</div>\n",
              "      <button class=\"colab-df-convert\" onclick=\"convertToInteractive('df-1dbb7703-4162-409c-b3c8-e4c1a424fa08')\"\n",
              "              title=\"Convert this dataframe to an interactive table.\"\n",
              "              style=\"display:none;\">\n",
              "        \n",
              "  <svg xmlns=\"http://www.w3.org/2000/svg\" height=\"24px\"viewBox=\"0 0 24 24\"\n",
              "       width=\"24px\">\n",
              "    <path d=\"M0 0h24v24H0V0z\" fill=\"none\"/>\n",
              "    <path d=\"M18.56 5.44l.94 2.06.94-2.06 2.06-.94-2.06-.94-.94-2.06-.94 2.06-2.06.94zm-11 1L8.5 8.5l.94-2.06 2.06-.94-2.06-.94L8.5 2.5l-.94 2.06-2.06.94zm10 10l.94 2.06.94-2.06 2.06-.94-2.06-.94-.94-2.06-.94 2.06-2.06.94z\"/><path d=\"M17.41 7.96l-1.37-1.37c-.4-.4-.92-.59-1.43-.59-.52 0-1.04.2-1.43.59L10.3 9.45l-7.72 7.72c-.78.78-.78 2.05 0 2.83L4 21.41c.39.39.9.59 1.41.59.51 0 1.02-.2 1.41-.59l7.78-7.78 2.81-2.81c.8-.78.8-2.07 0-2.86zM5.41 20L4 18.59l7.72-7.72 1.47 1.35L5.41 20z\"/>\n",
              "  </svg>\n",
              "      </button>\n",
              "      \n",
              "  <style>\n",
              "    .colab-df-container {\n",
              "      display:flex;\n",
              "      flex-wrap:wrap;\n",
              "      gap: 12px;\n",
              "    }\n",
              "\n",
              "    .colab-df-convert {\n",
              "      background-color: #E8F0FE;\n",
              "      border: none;\n",
              "      border-radius: 50%;\n",
              "      cursor: pointer;\n",
              "      display: none;\n",
              "      fill: #1967D2;\n",
              "      height: 32px;\n",
              "      padding: 0 0 0 0;\n",
              "      width: 32px;\n",
              "    }\n",
              "\n",
              "    .colab-df-convert:hover {\n",
              "      background-color: #E2EBFA;\n",
              "      box-shadow: 0px 1px 2px rgba(60, 64, 67, 0.3), 0px 1px 3px 1px rgba(60, 64, 67, 0.15);\n",
              "      fill: #174EA6;\n",
              "    }\n",
              "\n",
              "    [theme=dark] .colab-df-convert {\n",
              "      background-color: #3B4455;\n",
              "      fill: #D2E3FC;\n",
              "    }\n",
              "\n",
              "    [theme=dark] .colab-df-convert:hover {\n",
              "      background-color: #434B5C;\n",
              "      box-shadow: 0px 1px 3px 1px rgba(0, 0, 0, 0.15);\n",
              "      filter: drop-shadow(0px 1px 2px rgba(0, 0, 0, 0.3));\n",
              "      fill: #FFFFFF;\n",
              "    }\n",
              "  </style>\n",
              "\n",
              "      <script>\n",
              "        const buttonEl =\n",
              "          document.querySelector('#df-1dbb7703-4162-409c-b3c8-e4c1a424fa08 button.colab-df-convert');\n",
              "        buttonEl.style.display =\n",
              "          google.colab.kernel.accessAllowed ? 'block' : 'none';\n",
              "\n",
              "        async function convertToInteractive(key) {\n",
              "          const element = document.querySelector('#df-1dbb7703-4162-409c-b3c8-e4c1a424fa08');\n",
              "          const dataTable =\n",
              "            await google.colab.kernel.invokeFunction('convertToInteractive',\n",
              "                                                     [key], {});\n",
              "          if (!dataTable) return;\n",
              "\n",
              "          const docLinkHtml = 'Like what you see? Visit the ' +\n",
              "            '<a target=\"_blank\" href=https://colab.research.google.com/notebooks/data_table.ipynb>data table notebook</a>'\n",
              "            + ' to learn more about interactive tables.';\n",
              "          element.innerHTML = '';\n",
              "          dataTable['output_type'] = 'display_data';\n",
              "          await google.colab.output.renderOutput(dataTable, element);\n",
              "          const docLink = document.createElement('div');\n",
              "          docLink.innerHTML = docLinkHtml;\n",
              "          element.appendChild(docLink);\n",
              "        }\n",
              "      </script>\n",
              "    </div>\n",
              "  </div>\n",
              "  "
            ]
          },
          "metadata": {},
          "execution_count": 26
        }
      ]
    },
    {
      "cell_type": "code",
      "source": [
        "ios_df['len_word'].plot.hist(bins=20, color = 'grey');"
      ],
      "metadata": {
        "colab": {
          "base_uri": "https://localhost:8080/",
          "height": 430
        },
        "id": "Dd1vvNKoXIQH",
        "outputId": "b8af07f6-5a09-44f2-e326-4aa8c56e3589"
      },
      "execution_count": 27,
      "outputs": [
        {
          "output_type": "display_data",
          "data": {
            "text/plain": [
              "<Figure size 640x480 with 1 Axes>"
            ],
            "image/png": "[encoded data removed]"
          },
          "metadata": {}
        }
      ]
    },
    {
      "cell_type": "code",
      "source": [
        "ios_df['len_char'].plot.hist(bins=20, color = 'grey');"
      ],
      "metadata": {
        "colab": {
          "base_uri": "https://localhost:8080/",
          "height": 430
        },
        "id": "JO7YVl-VXpva",
        "outputId": "d218319b-1862-45a2-a4d2-6bb03f715484"
      },
      "execution_count": 28,
      "outputs": [
        {
          "output_type": "display_data",
          "data": {
            "text/plain": [
              "<Figure size 640x480 with 1 Axes>"
            ],
            "image/png": "[encoded data removed]"
          },
          "metadata": {}
        }
      ]
    },
    {
      "cell_type": "code",
      "source": [
        "#ios_df.to_pickle('ios_app.pickle')"
      ],
      "metadata": {
        "id": "HK63FxB1h7E_"
      },
      "execution_count": null,
      "outputs": []
    },
    {
      "cell_type": "markdown",
      "source": [
        "To prepare for the subsequent tasks, also normalize the text (i.e., turn characters to lower cases, remove stop words, and lemmetize)"
      ],
      "metadata": {
        "id": "kBHjf7KOy3rO"
      }
    },
    {
      "cell_type": "code",
      "source": [
        "def normalizeTokens(word_list, extra_stop=[]):\n",
        "    #We can use a generator here as we just need to iterate over it\n",
        "    normalized = []\n",
        "    if type(word_list) == list and len(word_list) == 1:\n",
        "        word_list = word_list[0]\n",
        "\n",
        "    if type(word_list) == list:\n",
        "        word_list = ' '.join([str(elem) for elem in word_list]) \n",
        "\n",
        "    doc = nlp(word_list.lower())\n",
        "    \n",
        "    # add the property of stop word to words considered as stop words\n",
        "    if len(extra_stop) > 0:\n",
        "        for stopword in extra_stop:\n",
        "            lexeme = nlp.vocab[stopword]\n",
        "            lexeme.is_stop = True\n",
        "\n",
        "    for w in doc:\n",
        "        # if it's not a stop word or punctuation mark, add it to our article\n",
        "        if w.text != '\\n' and not w.is_stop and not w.is_punct and not w.like_num and len(w.text.strip()) > 0:\n",
        "            # we add the lematized version of the word\n",
        "            normalized.append(str(w.lemma_))\n",
        "\n",
        "    return normalized"
      ],
      "metadata": {
        "id": "Tq65AuU7d54J"
      },
      "execution_count": 29,
      "outputs": []
    },
    {
      "cell_type": "code",
      "source": [
        "%%time\n",
        "ios_df['description_nm'] =  ios_df['description'].apply(lambda x: normalizeTokens(x)) #for subsequent tasks"
      ],
      "metadata": {
        "colab": {
          "base_uri": "https://localhost:8080/"
        },
        "id": "4CFlaFffgoz5",
        "outputId": "5ef8b346-69c2-4528-d27a-7fec34828fff"
      },
      "execution_count": 30,
      "outputs": [
        {
          "output_type": "stream",
          "name": "stdout",
          "text": [
            "CPU times: user 4h 2min 53s, sys: 42.2 s, total: 4h 3min 35s\n",
            "Wall time: 4h 3min 37s\n"
          ]
        }
      ]
    },
    {
      "cell_type": "code",
      "execution_count": 1,
      "metadata": {
        "id": "PSgavsV2CdCM"
      },
      "outputs": [],
      "source": [
        "#ios_df.to_pickle('ios.pickle')\n",
        "#[['app_id', 'version', 'date', 'description_tk', 'description_nm', 'len_word', 'len_char']]"
      ]
    },
    {
      "cell_type": "code",
      "execution_count": 31,
      "metadata": {
        "colab": {
          "base_uri": "https://localhost:8080/",
          "height": 548
        },
        "id": "XOkkpytZbHx2",
        "outputId": "9add56f1-e26f-4860-d038-9bcb18bbc79b"
      },
      "outputs": [
        {
          "output_type": "execute_result",
          "data": {
            "text/plain": [
              "        app_id version                                        description  \\\n",
              "88  1000017994   0.8.9    redesigned chart!   lots of bug fixes and ui...   \n",
              "15  1000017994    0.87    show running and cycling pace overlayed with...   \n",
              "43  1000017994   0.9.0    redesigned user interface   new feature! his...   \n",
              "14  1000017994   0.9.2    critical bug fix: fix caching bug that would...   \n",
              "22  1000017994   0.9.3    compatible with iphone 5 and iphone 5c   maj...   \n",
              "\n",
              "          date                                    description_raw version_lag  \\\n",
              "88  2015-09-10  • Redesigned chart!\\n• Lots of bug fixes and U...         NaN   \n",
              "15  2015-08-15  * Show running and cycling pace overlayed with...       0.8.9   \n",
              "43  2015-11-25  • Redesigned user interface\\n• New feature! Hi...        0.87   \n",
              "14  2015-12-02  • Critical bug fix: fix caching bug that would...       0.9.0   \n",
              "22  2015-12-17  • Compatible with iPhone 5 and iPhone 5c\\n• Ma...       0.9.2   \n",
              "\n",
              "    update_by_num  para  update_by_direct_mention  \\\n",
              "88            NaN     1                         0   \n",
              "15            2.0     1                         0   \n",
              "43            2.0     4                         0   \n",
              "14            3.0     1                         0   \n",
              "22            3.0     3                         0   \n",
              "\n",
              "                                       description_tk  len_word  len_char  \\\n",
              "88  [redesigned, chart, lots, of, bug, fixes, and,...         9        46   \n",
              "15  [show, running, and, cycling, pace, overlayed,...        13        66   \n",
              "43  [redesigned, user, interface, new, feature, hi...        38       184   \n",
              "14  [critical, bug, fix, fix, caching, bug, that, ...        28       117   \n",
              "22  [compatible, with, iphone, 5, and, iphone, 5c,...        26       120   \n",
              "\n",
              "    len_char_ttl                                     description_nm  \n",
              "88            59  [redesign, chart, lot, bug, fix, ui, improvement]  \n",
              "15            82  [run, cycling, pace, overlay, heart, rate, wor...  \n",
              "43           235  [redesign, user, interface, new, feature, hist...  \n",
              "14           149  [critical, bug, fix, fix, cache, bug, lead, st...  \n",
              "22           154  [compatible, iphone, iphone, 5c, major, stabil...  "
            ],
            "text/html": [
              "\n",
              "  <div id=\"df-4e3ec9d0-e01e-471d-9b84-107c15341f99\">\n",
              "    <div class=\"colab-df-container\">\n",
              "      <div>\n",
              "<style scoped>\n",
              "    .dataframe tbody tr th:only-of-type {\n",
              "        vertical-align: middle;\n",
              "    }\n",
              "\n",
              "    .dataframe tbody tr th {\n",
              "        vertical-align: top;\n",
              "    }\n",
              "\n",
              "    .dataframe thead th {\n",
              "        text-align: right;\n",
              "    }\n",
              "</style>\n",
              "<table border=\"1\" class=\"dataframe\">\n",
              "  <thead>\n",
              "    <tr style=\"text-align: right;\">\n",
              "      <th></th>\n",
              "      <th>app_id</th>\n",
              "      <th>version</th>\n",
              "      <th>description</th>\n",
              "      <th>date</th>\n",
              "      <th>description_raw</th>\n",
              "      <th>version_lag</th>\n",
              "      <th>update_by_num</th>\n",
              "      <th>para</th>\n",
              "      <th>update_by_direct_mention</th>\n",
              "      <th>description_tk</th>\n",
              "      <th>len_word</th>\n",
              "      <th>len_char</th>\n",
              "      <th>len_char_ttl</th>\n",
              "      <th>description_nm</th>\n",
              "    </tr>\n",
              "  </thead>\n",
              "  <tbody>\n",
              "    <tr>\n",
              "      <th>88</th>\n",
              "      <td>1000017994</td>\n",
              "      <td>0.8.9</td>\n",
              "      <td>redesigned chart!   lots of bug fixes and ui...</td>\n",
              "      <td>2015-09-10</td>\n",
              "      <td>• Redesigned chart!\\n• Lots of bug fixes and U...</td>\n",
              "      <td>NaN</td>\n",
              "      <td>NaN</td>\n",
              "      <td>1</td>\n",
              "      <td>0</td>\n",
              "      <td>[redesigned, chart, lots, of, bug, fixes, and,...</td>\n",
              "      <td>9</td>\n",
              "      <td>46</td>\n",
              "      <td>59</td>\n",
              "      <td>[redesign, chart, lot, bug, fix, ui, improvement]</td>\n",
              "    </tr>\n",
              "    <tr>\n",
              "      <th>15</th>\n",
              "      <td>1000017994</td>\n",
              "      <td>0.87</td>\n",
              "      <td>show running and cycling pace overlayed with...</td>\n",
              "      <td>2015-08-15</td>\n",
              "      <td>* Show running and cycling pace overlayed with...</td>\n",
              "      <td>0.8.9</td>\n",
              "      <td>2.0</td>\n",
              "      <td>1</td>\n",
              "      <td>0</td>\n",
              "      <td>[show, running, and, cycling, pace, overlayed,...</td>\n",
              "      <td>13</td>\n",
              "      <td>66</td>\n",
              "      <td>82</td>\n",
              "      <td>[run, cycling, pace, overlay, heart, rate, wor...</td>\n",
              "    </tr>\n",
              "    <tr>\n",
              "      <th>43</th>\n",
              "      <td>1000017994</td>\n",
              "      <td>0.9.0</td>\n",
              "      <td>redesigned user interface   new feature! his...</td>\n",
              "      <td>2015-11-25</td>\n",
              "      <td>• Redesigned user interface\\n• New feature! Hi...</td>\n",
              "      <td>0.87</td>\n",
              "      <td>2.0</td>\n",
              "      <td>4</td>\n",
              "      <td>0</td>\n",
              "      <td>[redesigned, user, interface, new, feature, hi...</td>\n",
              "      <td>38</td>\n",
              "      <td>184</td>\n",
              "      <td>235</td>\n",
              "      <td>[redesign, user, interface, new, feature, hist...</td>\n",
              "    </tr>\n",
              "    <tr>\n",
              "      <th>14</th>\n",
              "      <td>1000017994</td>\n",
              "      <td>0.9.2</td>\n",
              "      <td>critical bug fix: fix caching bug that would...</td>\n",
              "      <td>2015-12-02</td>\n",
              "      <td>• Critical bug fix: fix caching bug that would...</td>\n",
              "      <td>0.9.0</td>\n",
              "      <td>3.0</td>\n",
              "      <td>1</td>\n",
              "      <td>0</td>\n",
              "      <td>[critical, bug, fix, fix, caching, bug, that, ...</td>\n",
              "      <td>28</td>\n",
              "      <td>117</td>\n",
              "      <td>149</td>\n",
              "      <td>[critical, bug, fix, fix, cache, bug, lead, st...</td>\n",
              "    </tr>\n",
              "    <tr>\n",
              "      <th>22</th>\n",
              "      <td>1000017994</td>\n",
              "      <td>0.9.3</td>\n",
              "      <td>compatible with iphone 5 and iphone 5c   maj...</td>\n",
              "      <td>2015-12-17</td>\n",
              "      <td>• Compatible with iPhone 5 and iPhone 5c\\n• Ma...</td>\n",
              "      <td>0.9.2</td>\n",
              "      <td>3.0</td>\n",
              "      <td>3</td>\n",
              "      <td>0</td>\n",
              "      <td>[compatible, with, iphone, 5, and, iphone, 5c,...</td>\n",
              "      <td>26</td>\n",
              "      <td>120</td>\n",
              "      <td>154</td>\n",
              "      <td>[compatible, iphone, iphone, 5c, major, stabil...</td>\n",
              "    </tr>\n",
              "  </tbody>\n",
              "</table>\n",
              "</div>\n",
              "      <button class=\"colab-df-convert\" onclick=\"convertToInteractive('df-4e3ec9d0-e01e-471d-9b84-107c15341f99')\"\n",
              "              title=\"Convert this dataframe to an interactive table.\"\n",
              "              style=\"display:none;\">\n",
              "        \n",
              "  <svg xmlns=\"http://www.w3.org/2000/svg\" height=\"24px\"viewBox=\"0 0 24 24\"\n",
              "       width=\"24px\">\n",
              "    <path d=\"M0 0h24v24H0V0z\" fill=\"none\"/>\n",
              "    <path d=\"M18.56 5.44l.94 2.06.94-2.06 2.06-.94-2.06-.94-.94-2.06-.94 2.06-2.06.94zm-11 1L8.5 8.5l.94-2.06 2.06-.94-2.06-.94L8.5 2.5l-.94 2.06-2.06.94zm10 10l.94 2.06.94-2.06 2.06-.94-2.06-.94-.94-2.06-.94 2.06-2.06.94z\"/><path d=\"M17.41 7.96l-1.37-1.37c-.4-.4-.92-.59-1.43-.59-.52 0-1.04.2-1.43.59L10.3 9.45l-7.72 7.72c-.78.78-.78 2.05 0 2.83L4 21.41c.39.39.9.59 1.41.59.51 0 1.02-.2 1.41-.59l7.78-7.78 2.81-2.81c.8-.78.8-2.07 0-2.86zM5.41 20L4 18.59l7.72-7.72 1.47 1.35L5.41 20z\"/>\n",
              "  </svg>\n",
              "      </button>\n",
              "      \n",
              "  <style>\n",
              "    .colab-df-container {\n",
              "      display:flex;\n",
              "      flex-wrap:wrap;\n",
              "      gap: 12px;\n",
              "    }\n",
              "\n",
              "    .colab-df-convert {\n",
              "      background-color: #E8F0FE;\n",
              "      border: none;\n",
              "      border-radius: 50%;\n",
              "      cursor: pointer;\n",
              "      display: none;\n",
              "      fill: #1967D2;\n",
              "      height: 32px;\n",
              "      padding: 0 0 0 0;\n",
              "      width: 32px;\n",
              "    }\n",
              "\n",
              "    .colab-df-convert:hover {\n",
              "      background-color: #E2EBFA;\n",
              "      box-shadow: 0px 1px 2px rgba(60, 64, 67, 0.3), 0px 1px 3px 1px rgba(60, 64, 67, 0.15);\n",
              "      fill: #174EA6;\n",
              "    }\n",
              "\n",
              "    [theme=dark] .colab-df-convert {\n",
              "      background-color: #3B4455;\n",
              "      fill: #D2E3FC;\n",
              "    }\n",
              "\n",
              "    [theme=dark] .colab-df-convert:hover {\n",
              "      background-color: #434B5C;\n",
              "      box-shadow: 0px 1px 3px 1px rgba(0, 0, 0, 0.15);\n",
              "      filter: drop-shadow(0px 1px 2px rgba(0, 0, 0, 0.3));\n",
              "      fill: #FFFFFF;\n",
              "    }\n",
              "  </style>\n",
              "\n",
              "      <script>\n",
              "        const buttonEl =\n",
              "          document.querySelector('#df-4e3ec9d0-e01e-471d-9b84-107c15341f99 button.colab-df-convert');\n",
              "        buttonEl.style.display =\n",
              "          google.colab.kernel.accessAllowed ? 'block' : 'none';\n",
              "\n",
              "        async function convertToInteractive(key) {\n",
              "          const element = document.querySelector('#df-4e3ec9d0-e01e-471d-9b84-107c15341f99');\n",
              "          const dataTable =\n",
              "            await google.colab.kernel.invokeFunction('convertToInteractive',\n",
              "                                                     [key], {});\n",
              "          if (!dataTable) return;\n",
              "\n",
              "          const docLinkHtml = 'Like what you see? Visit the ' +\n",
              "            '<a target=\"_blank\" href=https://colab.research.google.com/notebooks/data_table.ipynb>data table notebook</a>'\n",
              "            + ' to learn more about interactive tables.';\n",
              "          element.innerHTML = '';\n",
              "          dataTable['output_type'] = 'display_data';\n",
              "          await google.colab.output.renderOutput(dataTable, element);\n",
              "          const docLink = document.createElement('div');\n",
              "          docLink.innerHTML = docLinkHtml;\n",
              "          element.appendChild(docLink);\n",
              "        }\n",
              "      </script>\n",
              "    </div>\n",
              "  </div>\n",
              "  "
            ]
          },
          "metadata": {},
          "execution_count": 31
        }
      ],
      "source": [
        "ios_df.head()"
      ]
    },
    {
      "cell_type": "markdown",
      "metadata": {
        "id": "UxugXyzrzVPO"
      },
      "source": [
        "## Task 3\n",
        "- (open-ended) determine major version updates for each app. Some version update descriptions mention \"major updates,\" while others say \"minor fixes\". No unified keywords indicate major version updates across all apps, so you may come up with a dictionary based on some examples. Another way to do this is that version updates from 1.1.4 to 1.2 is more likely to be major update compared to version updates from 1.1.4 to 1.1.5. You can construct multiple measures based on the version update descriptions and version codes."
      ]
    },
    {
      "cell_type": "markdown",
      "source": [
        "#### Measure 1: by version number\n",
        "Reference: https://dl.acm.org/doi/abs/10.1145/2600428.2609560"
      ],
      "metadata": {
        "id": "w3drFanEVxwr"
      }
    },
    {
      "cell_type": "code",
      "execution_count": 12,
      "metadata": {
        "id": "UZLmahtnzZ-9"
      },
      "outputs": [],
      "source": [
        "ios_df = ios_df.sort_values(['app_id', 'version'])\n",
        "ios_df['version_lag'] = ios_df.groupby('app_id').shift(1)['version']"
      ]
    },
    {
      "cell_type": "code",
      "source": [
        "def update_by_num(row):\n",
        "    #1 means major revision (change of the first digit)\n",
        "    #2 means minor revision (change of the second digit)\n",
        "    #3 means maintanence (change of the third digit)\n",
        "    #and so on\n",
        "    cur_ver = row['version']#.split('.')\n",
        "    lag_ver = row['version_lag']#.split('.')\n",
        "    update = np.NaN\n",
        "    if type(cur_ver) == str and type(lag_ver) == str:\n",
        "        cur_ver = row['version'].split('.')\n",
        "        lag_ver = row['version_lag'].split('.')\n",
        "        for i in range(min(len(cur_ver), len(lag_ver))):\n",
        "            if cur_ver[i] != lag_ver[i]:\n",
        "                update = i+1\n",
        "    return update"
      ],
      "metadata": {
        "id": "zs9vlApI6SXV"
      },
      "execution_count": 13,
      "outputs": []
    },
    {
      "cell_type": "code",
      "source": [
        "ios_df['update_by_num'] = ios_df.apply(update_by_num, axis = 1)\n",
        "ios_df.head()"
      ],
      "metadata": {
        "colab": {
          "base_uri": "https://localhost:8080/",
          "height": 206
        },
        "id": "sf-H_Cel6VHr",
        "outputId": "cba979af-cc41-4361-f77e-9b9c5978ad71"
      },
      "execution_count": 14,
      "outputs": [
        {
          "output_type": "execute_result",
          "data": {
            "text/plain": [
              "        app_id version                                        description  \\\n",
              "88  1000017994   0.8.9    Redesigned chart!   Lots of bug fixes and UI...   \n",
              "15  1000017994    0.87    Show running and cycling pace overlayed with...   \n",
              "43  1000017994   0.9.0    Redesigned user interface   New feature! His...   \n",
              "14  1000017994   0.9.2    Critical bug fix: fix caching bug that would...   \n",
              "22  1000017994   0.9.3    Compatible with iPhone 5 and iPhone 5c   Maj...   \n",
              "\n",
              "          date                                    description_raw version_lag  \\\n",
              "88  2015-09-10  • Redesigned chart!\\n• Lots of bug fixes and U...         NaN   \n",
              "15  2015-08-15  * Show running and cycling pace overlayed with...       0.8.9   \n",
              "43  2015-11-25  • Redesigned user interface\\n• New feature! Hi...        0.87   \n",
              "14  2015-12-02  • Critical bug fix: fix caching bug that would...       0.9.0   \n",
              "22  2015-12-17  • Compatible with iPhone 5 and iPhone 5c\\n• Ma...       0.9.2   \n",
              "\n",
              "    update_by_num  \n",
              "88            NaN  \n",
              "15            2.0  \n",
              "43            2.0  \n",
              "14            3.0  \n",
              "22            3.0  "
            ],
            "text/html": [
              "\n",
              "  <div id=\"df-dc4f936a-881e-44f7-a490-354b164e9f13\">\n",
              "    <div class=\"colab-df-container\">\n",
              "      <div>\n",
              "<style scoped>\n",
              "    .dataframe tbody tr th:only-of-type {\n",
              "        vertical-align: middle;\n",
              "    }\n",
              "\n",
              "    .dataframe tbody tr th {\n",
              "        vertical-align: top;\n",
              "    }\n",
              "\n",
              "    .dataframe thead th {\n",
              "        text-align: right;\n",
              "    }\n",
              "</style>\n",
              "<table border=\"1\" class=\"dataframe\">\n",
              "  <thead>\n",
              "    <tr style=\"text-align: right;\">\n",
              "      <th></th>\n",
              "      <th>app_id</th>\n",
              "      <th>version</th>\n",
              "      <th>description</th>\n",
              "      <th>date</th>\n",
              "      <th>description_raw</th>\n",
              "      <th>version_lag</th>\n",
              "      <th>update_by_num</th>\n",
              "    </tr>\n",
              "  </thead>\n",
              "  <tbody>\n",
              "    <tr>\n",
              "      <th>88</th>\n",
              "      <td>1000017994</td>\n",
              "      <td>0.8.9</td>\n",
              "      <td>Redesigned chart!   Lots of bug fixes and UI...</td>\n",
              "      <td>2015-09-10</td>\n",
              "      <td>• Redesigned chart!\\n• Lots of bug fixes and U...</td>\n",
              "      <td>NaN</td>\n",
              "      <td>NaN</td>\n",
              "    </tr>\n",
              "    <tr>\n",
              "      <th>15</th>\n",
              "      <td>1000017994</td>\n",
              "      <td>0.87</td>\n",
              "      <td>Show running and cycling pace overlayed with...</td>\n",
              "      <td>2015-08-15</td>\n",
              "      <td>* Show running and cycling pace overlayed with...</td>\n",
              "      <td>0.8.9</td>\n",
              "      <td>2.0</td>\n",
              "    </tr>\n",
              "    <tr>\n",
              "      <th>43</th>\n",
              "      <td>1000017994</td>\n",
              "      <td>0.9.0</td>\n",
              "      <td>Redesigned user interface   New feature! His...</td>\n",
              "      <td>2015-11-25</td>\n",
              "      <td>• Redesigned user interface\\n• New feature! Hi...</td>\n",
              "      <td>0.87</td>\n",
              "      <td>2.0</td>\n",
              "    </tr>\n",
              "    <tr>\n",
              "      <th>14</th>\n",
              "      <td>1000017994</td>\n",
              "      <td>0.9.2</td>\n",
              "      <td>Critical bug fix: fix caching bug that would...</td>\n",
              "      <td>2015-12-02</td>\n",
              "      <td>• Critical bug fix: fix caching bug that would...</td>\n",
              "      <td>0.9.0</td>\n",
              "      <td>3.0</td>\n",
              "    </tr>\n",
              "    <tr>\n",
              "      <th>22</th>\n",
              "      <td>1000017994</td>\n",
              "      <td>0.9.3</td>\n",
              "      <td>Compatible with iPhone 5 and iPhone 5c   Maj...</td>\n",
              "      <td>2015-12-17</td>\n",
              "      <td>• Compatible with iPhone 5 and iPhone 5c\\n• Ma...</td>\n",
              "      <td>0.9.2</td>\n",
              "      <td>3.0</td>\n",
              "    </tr>\n",
              "  </tbody>\n",
              "</table>\n",
              "</div>\n",
              "      <button class=\"colab-df-convert\" onclick=\"convertToInteractive('df-dc4f936a-881e-44f7-a490-354b164e9f13')\"\n",
              "              title=\"Convert this dataframe to an interactive table.\"\n",
              "              style=\"display:none;\">\n",
              "        \n",
              "  <svg xmlns=\"http://www.w3.org/2000/svg\" height=\"24px\"viewBox=\"0 0 24 24\"\n",
              "       width=\"24px\">\n",
              "    <path d=\"M0 0h24v24H0V0z\" fill=\"none\"/>\n",
              "    <path d=\"M18.56 5.44l.94 2.06.94-2.06 2.06-.94-2.06-.94-.94-2.06-.94 2.06-2.06.94zm-11 1L8.5 8.5l.94-2.06 2.06-.94-2.06-.94L8.5 2.5l-.94 2.06-2.06.94zm10 10l.94 2.06.94-2.06 2.06-.94-2.06-.94-.94-2.06-.94 2.06-2.06.94z\"/><path d=\"M17.41 7.96l-1.37-1.37c-.4-.4-.92-.59-1.43-.59-.52 0-1.04.2-1.43.59L10.3 9.45l-7.72 7.72c-.78.78-.78 2.05 0 2.83L4 21.41c.39.39.9.59 1.41.59.51 0 1.02-.2 1.41-.59l7.78-7.78 2.81-2.81c.8-.78.8-2.07 0-2.86zM5.41 20L4 18.59l7.72-7.72 1.47 1.35L5.41 20z\"/>\n",
              "  </svg>\n",
              "      </button>\n",
              "      \n",
              "  <style>\n",
              "    .colab-df-container {\n",
              "      display:flex;\n",
              "      flex-wrap:wrap;\n",
              "      gap: 12px;\n",
              "    }\n",
              "\n",
              "    .colab-df-convert {\n",
              "      background-color: #E8F0FE;\n",
              "      border: none;\n",
              "      border-radius: 50%;\n",
              "      cursor: pointer;\n",
              "      display: none;\n",
              "      fill: #1967D2;\n",
              "      height: 32px;\n",
              "      padding: 0 0 0 0;\n",
              "      width: 32px;\n",
              "    }\n",
              "\n",
              "    .colab-df-convert:hover {\n",
              "      background-color: #E2EBFA;\n",
              "      box-shadow: 0px 1px 2px rgba(60, 64, 67, 0.3), 0px 1px 3px 1px rgba(60, 64, 67, 0.15);\n",
              "      fill: #174EA6;\n",
              "    }\n",
              "\n",
              "    [theme=dark] .colab-df-convert {\n",
              "      background-color: #3B4455;\n",
              "      fill: #D2E3FC;\n",
              "    }\n",
              "\n",
              "    [theme=dark] .colab-df-convert:hover {\n",
              "      background-color: #434B5C;\n",
              "      box-shadow: 0px 1px 3px 1px rgba(0, 0, 0, 0.15);\n",
              "      filter: drop-shadow(0px 1px 2px rgba(0, 0, 0, 0.3));\n",
              "      fill: #FFFFFF;\n",
              "    }\n",
              "  </style>\n",
              "\n",
              "      <script>\n",
              "        const buttonEl =\n",
              "          document.querySelector('#df-dc4f936a-881e-44f7-a490-354b164e9f13 button.colab-df-convert');\n",
              "        buttonEl.style.display =\n",
              "          google.colab.kernel.accessAllowed ? 'block' : 'none';\n",
              "\n",
              "        async function convertToInteractive(key) {\n",
              "          const element = document.querySelector('#df-dc4f936a-881e-44f7-a490-354b164e9f13');\n",
              "          const dataTable =\n",
              "            await google.colab.kernel.invokeFunction('convertToInteractive',\n",
              "                                                     [key], {});\n",
              "          if (!dataTable) return;\n",
              "\n",
              "          const docLinkHtml = 'Like what you see? Visit the ' +\n",
              "            '<a target=\"_blank\" href=https://colab.research.google.com/notebooks/data_table.ipynb>data table notebook</a>'\n",
              "            + ' to learn more about interactive tables.';\n",
              "          element.innerHTML = '';\n",
              "          dataTable['output_type'] = 'display_data';\n",
              "          await google.colab.output.renderOutput(dataTable, element);\n",
              "          const docLink = document.createElement('div');\n",
              "          docLink.innerHTML = docLinkHtml;\n",
              "          element.appendChild(docLink);\n",
              "        }\n",
              "      </script>\n",
              "    </div>\n",
              "  </div>\n",
              "  "
            ]
          },
          "metadata": {},
          "execution_count": 14
        }
      ]
    },
    {
      "cell_type": "code",
      "source": [
        "ios_df['update_by_num'].value_counts() #version update indicator by update observation"
      ],
      "metadata": {
        "colab": {
          "base_uri": "https://localhost:8080/"
        },
        "id": "NXeoqTKEX1Mv",
        "outputId": "1807b445-8755-46de-8f4b-a9774b404aa3"
      },
      "execution_count": 15,
      "outputs": [
        {
          "output_type": "execute_result",
          "data": {
            "text/plain": [
              "3.0    693676\n",
              "2.0    360116\n",
              "1.0     18222\n",
              "4.0      5283\n",
              "5.0       300\n",
              "Name: update_by_num, dtype: int64"
            ]
          },
          "metadata": {},
          "execution_count": 15
        }
      ]
    },
    {
      "cell_type": "code",
      "source": [
        "ios_df.groupby(['update_by_num', 'app_id']).count().reset_index()[['update_by_num', 'app_id']]\\\n",
        ".groupby('update_by_num').count() #version update indicator by app"
      ],
      "metadata": {
        "colab": {
          "base_uri": "https://localhost:8080/",
          "height": 238
        },
        "id": "CKZ45xa5hx8i",
        "outputId": "a4ad14be-b407-4520-c34f-0e19ee3e2841"
      },
      "execution_count": 16,
      "outputs": [
        {
          "output_type": "execute_result",
          "data": {
            "text/plain": [
              "               app_id\n",
              "update_by_num        \n",
              "1.0              2654\n",
              "2.0             19761\n",
              "3.0             18613\n",
              "4.0               293\n",
              "5.0                 8"
            ],
            "text/html": [
              "\n",
              "  <div id=\"df-61b83dc0-b28d-4d35-b10e-041bbf484545\">\n",
              "    <div class=\"colab-df-container\">\n",
              "      <div>\n",
              "<style scoped>\n",
              "    .dataframe tbody tr th:only-of-type {\n",
              "        vertical-align: middle;\n",
              "    }\n",
              "\n",
              "    .dataframe tbody tr th {\n",
              "        vertical-align: top;\n",
              "    }\n",
              "\n",
              "    .dataframe thead th {\n",
              "        text-align: right;\n",
              "    }\n",
              "</style>\n",
              "<table border=\"1\" class=\"dataframe\">\n",
              "  <thead>\n",
              "    <tr style=\"text-align: right;\">\n",
              "      <th></th>\n",
              "      <th>app_id</th>\n",
              "    </tr>\n",
              "    <tr>\n",
              "      <th>update_by_num</th>\n",
              "      <th></th>\n",
              "    </tr>\n",
              "  </thead>\n",
              "  <tbody>\n",
              "    <tr>\n",
              "      <th>1.0</th>\n",
              "      <td>2654</td>\n",
              "    </tr>\n",
              "    <tr>\n",
              "      <th>2.0</th>\n",
              "      <td>19761</td>\n",
              "    </tr>\n",
              "    <tr>\n",
              "      <th>3.0</th>\n",
              "      <td>18613</td>\n",
              "    </tr>\n",
              "    <tr>\n",
              "      <th>4.0</th>\n",
              "      <td>293</td>\n",
              "    </tr>\n",
              "    <tr>\n",
              "      <th>5.0</th>\n",
              "      <td>8</td>\n",
              "    </tr>\n",
              "  </tbody>\n",
              "</table>\n",
              "</div>\n",
              "      <button class=\"colab-df-convert\" onclick=\"convertToInteractive('df-61b83dc0-b28d-4d35-b10e-041bbf484545')\"\n",
              "              title=\"Convert this dataframe to an interactive table.\"\n",
              "              style=\"display:none;\">\n",
              "        \n",
              "  <svg xmlns=\"http://www.w3.org/2000/svg\" height=\"24px\"viewBox=\"0 0 24 24\"\n",
              "       width=\"24px\">\n",
              "    <path d=\"M0 0h24v24H0V0z\" fill=\"none\"/>\n",
              "    <path d=\"M18.56 5.44l.94 2.06.94-2.06 2.06-.94-2.06-.94-.94-2.06-.94 2.06-2.06.94zm-11 1L8.5 8.5l.94-2.06 2.06-.94-2.06-.94L8.5 2.5l-.94 2.06-2.06.94zm10 10l.94 2.06.94-2.06 2.06-.94-2.06-.94-.94-2.06-.94 2.06-2.06.94z\"/><path d=\"M17.41 7.96l-1.37-1.37c-.4-.4-.92-.59-1.43-.59-.52 0-1.04.2-1.43.59L10.3 9.45l-7.72 7.72c-.78.78-.78 2.05 0 2.83L4 21.41c.39.39.9.59 1.41.59.51 0 1.02-.2 1.41-.59l7.78-7.78 2.81-2.81c.8-.78.8-2.07 0-2.86zM5.41 20L4 18.59l7.72-7.72 1.47 1.35L5.41 20z\"/>\n",
              "  </svg>\n",
              "      </button>\n",
              "      \n",
              "  <style>\n",
              "    .colab-df-container {\n",
              "      display:flex;\n",
              "      flex-wrap:wrap;\n",
              "      gap: 12px;\n",
              "    }\n",
              "\n",
              "    .colab-df-convert {\n",
              "      background-color: #E8F0FE;\n",
              "      border: none;\n",
              "      border-radius: 50%;\n",
              "      cursor: pointer;\n",
              "      display: none;\n",
              "      fill: #1967D2;\n",
              "      height: 32px;\n",
              "      padding: 0 0 0 0;\n",
              "      width: 32px;\n",
              "    }\n",
              "\n",
              "    .colab-df-convert:hover {\n",
              "      background-color: #E2EBFA;\n",
              "      box-shadow: 0px 1px 2px rgba(60, 64, 67, 0.3), 0px 1px 3px 1px rgba(60, 64, 67, 0.15);\n",
              "      fill: #174EA6;\n",
              "    }\n",
              "\n",
              "    [theme=dark] .colab-df-convert {\n",
              "      background-color: #3B4455;\n",
              "      fill: #D2E3FC;\n",
              "    }\n",
              "\n",
              "    [theme=dark] .colab-df-convert:hover {\n",
              "      background-color: #434B5C;\n",
              "      box-shadow: 0px 1px 3px 1px rgba(0, 0, 0, 0.15);\n",
              "      filter: drop-shadow(0px 1px 2px rgba(0, 0, 0, 0.3));\n",
              "      fill: #FFFFFF;\n",
              "    }\n",
              "  </style>\n",
              "\n",
              "      <script>\n",
              "        const buttonEl =\n",
              "          document.querySelector('#df-61b83dc0-b28d-4d35-b10e-041bbf484545 button.colab-df-convert');\n",
              "        buttonEl.style.display =\n",
              "          google.colab.kernel.accessAllowed ? 'block' : 'none';\n",
              "\n",
              "        async function convertToInteractive(key) {\n",
              "          const element = document.querySelector('#df-61b83dc0-b28d-4d35-b10e-041bbf484545');\n",
              "          const dataTable =\n",
              "            await google.colab.kernel.invokeFunction('convertToInteractive',\n",
              "                                                     [key], {});\n",
              "          if (!dataTable) return;\n",
              "\n",
              "          const docLinkHtml = 'Like what you see? Visit the ' +\n",
              "            '<a target=\"_blank\" href=https://colab.research.google.com/notebooks/data_table.ipynb>data table notebook</a>'\n",
              "            + ' to learn more about interactive tables.';\n",
              "          element.innerHTML = '';\n",
              "          dataTable['output_type'] = 'display_data';\n",
              "          await google.colab.output.renderOutput(dataTable, element);\n",
              "          const docLink = document.createElement('div');\n",
              "          docLink.innerHTML = docLinkHtml;\n",
              "          element.appendChild(docLink);\n",
              "        }\n",
              "      </script>\n",
              "    </div>\n",
              "  </div>\n",
              "  "
            ]
          },
          "metadata": {},
          "execution_count": 16
        }
      ]
    },
    {
      "cell_type": "code",
      "source": [
        "ios_df[ios_df['update_by_num'] == 5].head() #sanity check -> there really are apps with five-digit version numbers"
      ],
      "metadata": {
        "colab": {
          "base_uri": "https://localhost:8080/",
          "height": 206
        },
        "id": "s4AnPmL5ZyeC",
        "outputId": "f9a16333-de17-4c25-ffe3-e3735f34d424"
      },
      "execution_count": 17,
      "outputs": [
        {
          "output_type": "execute_result",
          "data": {
            "text/plain": [
              "           app_id     version  \\\n",
              "28247  1033794044  1.0.0.0.38   \n",
              "28201  1033794044  1.0.0.0.40   \n",
              "28210  1033794044  1.0.0.0.47   \n",
              "28258  1033794044  1.0.0.0.60   \n",
              "28183  1033794044  1.0.0.0.61   \n",
              "\n",
              "                                             description        date  \\\n",
              "28247  1. Support iPad 2. Add traffic data feature of...  2016-05-03   \n",
              "28201  1. Fix bugs. 2. Fix that Quick Internet Setup ...  2016-05-12   \n",
              "28210  1. Add the feature of changing language. 2. Fi...  2016-08-10   \n",
              "28258  1. Support GT AC5300 2. Fix bug that sometimes...  2017-03-12   \n",
              "28183                                     Fix some issue  2017-04-17   \n",
              "\n",
              "                                         description_raw version_lag  \\\n",
              "28247  1. Support iPad\\n2. Add traffic data feature o...  1.0.0.0.33   \n",
              "28201  1. Fix bugs.\\n2. Fix that Quick Internet Setup...  1.0.0.0.38   \n",
              "28210  1. Add the feature of changing language.\\n2. F...  1.0.0.0.40   \n",
              "28258  1. Support GT-AC5300\\n2. Fix bug that sometime...  1.0.0.0.47   \n",
              "28183                                     Fix some issue  1.0.0.0.60   \n",
              "\n",
              "       update_by_num  \n",
              "28247            5.0  \n",
              "28201            5.0  \n",
              "28210            5.0  \n",
              "28258            5.0  \n",
              "28183            5.0  "
            ],
            "text/html": [
              "\n",
              "  <div id=\"df-36b232c4-5c2e-45f4-ae42-e0b6c88f46aa\">\n",
              "    <div class=\"colab-df-container\">\n",
              "      <div>\n",
              "<style scoped>\n",
              "    .dataframe tbody tr th:only-of-type {\n",
              "        vertical-align: middle;\n",
              "    }\n",
              "\n",
              "    .dataframe tbody tr th {\n",
              "        vertical-align: top;\n",
              "    }\n",
              "\n",
              "    .dataframe thead th {\n",
              "        text-align: right;\n",
              "    }\n",
              "</style>\n",
              "<table border=\"1\" class=\"dataframe\">\n",
              "  <thead>\n",
              "    <tr style=\"text-align: right;\">\n",
              "      <th></th>\n",
              "      <th>app_id</th>\n",
              "      <th>version</th>\n",
              "      <th>description</th>\n",
              "      <th>date</th>\n",
              "      <th>description_raw</th>\n",
              "      <th>version_lag</th>\n",
              "      <th>update_by_num</th>\n",
              "    </tr>\n",
              "  </thead>\n",
              "  <tbody>\n",
              "    <tr>\n",
              "      <th>28247</th>\n",
              "      <td>1033794044</td>\n",
              "      <td>1.0.0.0.38</td>\n",
              "      <td>1. Support iPad 2. Add traffic data feature of...</td>\n",
              "      <td>2016-05-03</td>\n",
              "      <td>1. Support iPad\\n2. Add traffic data feature o...</td>\n",
              "      <td>1.0.0.0.33</td>\n",
              "      <td>5.0</td>\n",
              "    </tr>\n",
              "    <tr>\n",
              "      <th>28201</th>\n",
              "      <td>1033794044</td>\n",
              "      <td>1.0.0.0.40</td>\n",
              "      <td>1. Fix bugs. 2. Fix that Quick Internet Setup ...</td>\n",
              "      <td>2016-05-12</td>\n",
              "      <td>1. Fix bugs.\\n2. Fix that Quick Internet Setup...</td>\n",
              "      <td>1.0.0.0.38</td>\n",
              "      <td>5.0</td>\n",
              "    </tr>\n",
              "    <tr>\n",
              "      <th>28210</th>\n",
              "      <td>1033794044</td>\n",
              "      <td>1.0.0.0.47</td>\n",
              "      <td>1. Add the feature of changing language. 2. Fi...</td>\n",
              "      <td>2016-08-10</td>\n",
              "      <td>1. Add the feature of changing language.\\n2. F...</td>\n",
              "      <td>1.0.0.0.40</td>\n",
              "      <td>5.0</td>\n",
              "    </tr>\n",
              "    <tr>\n",
              "      <th>28258</th>\n",
              "      <td>1033794044</td>\n",
              "      <td>1.0.0.0.60</td>\n",
              "      <td>1. Support GT AC5300 2. Fix bug that sometimes...</td>\n",
              "      <td>2017-03-12</td>\n",
              "      <td>1. Support GT-AC5300\\n2. Fix bug that sometime...</td>\n",
              "      <td>1.0.0.0.47</td>\n",
              "      <td>5.0</td>\n",
              "    </tr>\n",
              "    <tr>\n",
              "      <th>28183</th>\n",
              "      <td>1033794044</td>\n",
              "      <td>1.0.0.0.61</td>\n",
              "      <td>Fix some issue</td>\n",
              "      <td>2017-04-17</td>\n",
              "      <td>Fix some issue</td>\n",
              "      <td>1.0.0.0.60</td>\n",
              "      <td>5.0</td>\n",
              "    </tr>\n",
              "  </tbody>\n",
              "</table>\n",
              "</div>\n",
              "      <button class=\"colab-df-convert\" onclick=\"convertToInteractive('df-36b232c4-5c2e-45f4-ae42-e0b6c88f46aa')\"\n",
              "              title=\"Convert this dataframe to an interactive table.\"\n",
              "              style=\"display:none;\">\n",
              "        \n",
              "  <svg xmlns=\"http://www.w3.org/2000/svg\" height=\"24px\"viewBox=\"0 0 24 24\"\n",
              "       width=\"24px\">\n",
              "    <path d=\"M0 0h24v24H0V0z\" fill=\"none\"/>\n",
              "    <path d=\"M18.56 5.44l.94 2.06.94-2.06 2.06-.94-2.06-.94-.94-2.06-.94 2.06-2.06.94zm-11 1L8.5 8.5l.94-2.06 2.06-.94-2.06-.94L8.5 2.5l-.94 2.06-2.06.94zm10 10l.94 2.06.94-2.06 2.06-.94-2.06-.94-.94-2.06-.94 2.06-2.06.94z\"/><path d=\"M17.41 7.96l-1.37-1.37c-.4-.4-.92-.59-1.43-.59-.52 0-1.04.2-1.43.59L10.3 9.45l-7.72 7.72c-.78.78-.78 2.05 0 2.83L4 21.41c.39.39.9.59 1.41.59.51 0 1.02-.2 1.41-.59l7.78-7.78 2.81-2.81c.8-.78.8-2.07 0-2.86zM5.41 20L4 18.59l7.72-7.72 1.47 1.35L5.41 20z\"/>\n",
              "  </svg>\n",
              "      </button>\n",
              "      \n",
              "  <style>\n",
              "    .colab-df-container {\n",
              "      display:flex;\n",
              "      flex-wrap:wrap;\n",
              "      gap: 12px;\n",
              "    }\n",
              "\n",
              "    .colab-df-convert {\n",
              "      background-color: #E8F0FE;\n",
              "      border: none;\n",
              "      border-radius: 50%;\n",
              "      cursor: pointer;\n",
              "      display: none;\n",
              "      fill: #1967D2;\n",
              "      height: 32px;\n",
              "      padding: 0 0 0 0;\n",
              "      width: 32px;\n",
              "    }\n",
              "\n",
              "    .colab-df-convert:hover {\n",
              "      background-color: #E2EBFA;\n",
              "      box-shadow: 0px 1px 2px rgba(60, 64, 67, 0.3), 0px 1px 3px 1px rgba(60, 64, 67, 0.15);\n",
              "      fill: #174EA6;\n",
              "    }\n",
              "\n",
              "    [theme=dark] .colab-df-convert {\n",
              "      background-color: #3B4455;\n",
              "      fill: #D2E3FC;\n",
              "    }\n",
              "\n",
              "    [theme=dark] .colab-df-convert:hover {\n",
              "      background-color: #434B5C;\n",
              "      box-shadow: 0px 1px 3px 1px rgba(0, 0, 0, 0.15);\n",
              "      filter: drop-shadow(0px 1px 2px rgba(0, 0, 0, 0.3));\n",
              "      fill: #FFFFFF;\n",
              "    }\n",
              "  </style>\n",
              "\n",
              "      <script>\n",
              "        const buttonEl =\n",
              "          document.querySelector('#df-36b232c4-5c2e-45f4-ae42-e0b6c88f46aa button.colab-df-convert');\n",
              "        buttonEl.style.display =\n",
              "          google.colab.kernel.accessAllowed ? 'block' : 'none';\n",
              "\n",
              "        async function convertToInteractive(key) {\n",
              "          const element = document.querySelector('#df-36b232c4-5c2e-45f4-ae42-e0b6c88f46aa');\n",
              "          const dataTable =\n",
              "            await google.colab.kernel.invokeFunction('convertToInteractive',\n",
              "                                                     [key], {});\n",
              "          if (!dataTable) return;\n",
              "\n",
              "          const docLinkHtml = 'Like what you see? Visit the ' +\n",
              "            '<a target=\"_blank\" href=https://colab.research.google.com/notebooks/data_table.ipynb>data table notebook</a>'\n",
              "            + ' to learn more about interactive tables.';\n",
              "          element.innerHTML = '';\n",
              "          dataTable['output_type'] = 'display_data';\n",
              "          await google.colab.output.renderOutput(dataTable, element);\n",
              "          const docLink = document.createElement('div');\n",
              "          docLink.innerHTML = docLinkHtml;\n",
              "          element.appendChild(docLink);\n",
              "        }\n",
              "      </script>\n",
              "    </div>\n",
              "  </div>\n",
              "  "
            ]
          },
          "metadata": {},
          "execution_count": 17
        }
      ]
    },
    {
      "cell_type": "markdown",
      "source": [
        "### Measure 2: Number of paragraphs (line breakers)\n",
        "Descriptions with multiple paragraphs may involve more aspects of revision. "
      ],
      "metadata": {
        "id": "l0xJDW4yWAAo"
      }
    },
    {
      "cell_type": "code",
      "source": [
        "ios_df['para'] = ios_df['description_raw'].apply(lambda x: x.count('\\n')) #number of line breakers -> paragraphs"
      ],
      "metadata": {
        "id": "yMJ6DLb8f2O0"
      },
      "execution_count": 18,
      "outputs": []
    },
    {
      "cell_type": "code",
      "source": [
        "ios_df['para'].describe()"
      ],
      "metadata": {
        "colab": {
          "base_uri": "https://localhost:8080/"
        },
        "id": "5-O4mJfBVBNE",
        "outputId": "bf053f0a-4ad4-47d5-9628-ea29abd59765"
      },
      "execution_count": 19,
      "outputs": [
        {
          "output_type": "execute_result",
          "data": {
            "text/plain": [
              "count    1.153182e+06\n",
              "mean     2.760231e+00\n",
              "std      4.851247e+00\n",
              "min      0.000000e+00\n",
              "25%      0.000000e+00\n",
              "50%      1.000000e+00\n",
              "75%      4.000000e+00\n",
              "max      9.900000e+02\n",
              "Name: para, dtype: float64"
            ]
          },
          "metadata": {},
          "execution_count": 19
        }
      ]
    },
    {
      "cell_type": "markdown",
      "source": [
        "### Measure 3: revision content - feature update vs. bug fix\n",
        "Revisions related to core features of the app tend to be major updates whereas revions that only involves bug fixes may be minor revisions or maintanences. \n",
        "\n",
        "Dictionaries: \n",
        "- Feature: 'launch', 'introduce', 'new', 'feature', 'function', 'redesign', 'add'\n",
        "- Bug: 'fix', 'bug', 'maintanence', 'performance', 'optimize', 'improvement'"
      ],
      "metadata": {
        "id": "N2IpiY5TXEBn"
      }
    },
    {
      "cell_type": "code",
      "source": [
        "feature_wds = set(['launch', 'introduce', 'new', 'feature', 'function', 'design', 'add', 'core', 'product', 'recommend', 'release'])\n",
        "bug_wds = set(['fix', 'bug', 'maintenance', 'performance', 'optimize', 'issue', 'problem', 'outage', 'crash', 'fixed', 'bugfix', 'optimise', 'fixing', 'fixes'])"
      ],
      "metadata": {
        "id": "kIhm-IYR1GjA"
      },
      "execution_count": null,
      "outputs": []
    },
    {
      "cell_type": "code",
      "source": [
        "def feature_score(word_list):\n",
        "    total = len(word_list)\n",
        "    feature = len([e for e in word_list if e in feature_wds])\n",
        "    if total > 0:\n",
        "        return feature / total\n",
        "    else:\n",
        "        return 0\n",
        "\n",
        "def bug_score(word_list):\n",
        "    total = len(word_list)\n",
        "    bug = len([e for e in word_list if e in bug_wds])\n",
        "    if total > 0:\n",
        "        return bug / total\n",
        "    else:\n",
        "        return 0"
      ],
      "metadata": {
        "id": "Sz6xhc17zoN-"
      },
      "execution_count": null,
      "outputs": []
    },
    {
      "cell_type": "code",
      "source": [
        "ios_df['feature_score'] = ios_df['description_nm'].apply(feature_score)\n",
        "ios_df['bug_score'] = ios_df['description_nm'].apply(bug_score)"
      ],
      "metadata": {
        "id": "j4DZ5Xxi1ka4"
      },
      "execution_count": null,
      "outputs": []
    },
    {
      "cell_type": "code",
      "source": [
        "print('number of updates related to features: {}'.format(np.shape(ios_df[ios_df['feature_score'] !=0])[0])) \n",
        "print('number of updates related to bugs: {}'.format(np.shape(ios_df[ios_df['bug_score'] !=0])[0]))\n",
        "ios_df[['feature_score', 'bug_score']].describe()"
      ],
      "metadata": {
        "colab": {
          "base_uri": "https://localhost:8080/",
          "height": 336
        },
        "id": "GKl9M_0O3nyh",
        "outputId": "fff079ab-d40e-4fe8-84a2-d4878b5ee41a"
      },
      "execution_count": null,
      "outputs": [
        {
          "output_type": "stream",
          "name": "stdout",
          "text": [
            "number of updates related to features: 501706\n",
            "number of updates related to bugs: 735519\n"
          ]
        },
        {
          "output_type": "execute_result",
          "data": {
            "text/plain": [
              "       feature_score     bug_score\n",
              "count   1.153182e+06  1.153182e+06\n",
              "mean    4.975302e-02  2.053304e-01\n",
              "std     8.615335e-02  2.773558e-01\n",
              "min     0.000000e+00  0.000000e+00\n",
              "25%     0.000000e+00  0.000000e+00\n",
              "50%     0.000000e+00  8.333333e-02\n",
              "75%     7.692308e-02  3.000000e-01\n",
              "max     1.000000e+00  1.000000e+00"
            ],
            "text/html": [
              "\n",
              "  <div id=\"df-0d09bd56-3401-449e-bbde-0f7b0b1758e7\">\n",
              "    <div class=\"colab-df-container\">\n",
              "      <div>\n",
              "<style scoped>\n",
              "    .dataframe tbody tr th:only-of-type {\n",
              "        vertical-align: middle;\n",
              "    }\n",
              "\n",
              "    .dataframe tbody tr th {\n",
              "        vertical-align: top;\n",
              "    }\n",
              "\n",
              "    .dataframe thead th {\n",
              "        text-align: right;\n",
              "    }\n",
              "</style>\n",
              "<table border=\"1\" class=\"dataframe\">\n",
              "  <thead>\n",
              "    <tr style=\"text-align: right;\">\n",
              "      <th></th>\n",
              "      <th>feature_score</th>\n",
              "      <th>bug_score</th>\n",
              "    </tr>\n",
              "  </thead>\n",
              "  <tbody>\n",
              "    <tr>\n",
              "      <th>count</th>\n",
              "      <td>1.153182e+06</td>\n",
              "      <td>1.153182e+06</td>\n",
              "    </tr>\n",
              "    <tr>\n",
              "      <th>mean</th>\n",
              "      <td>4.975302e-02</td>\n",
              "      <td>2.053304e-01</td>\n",
              "    </tr>\n",
              "    <tr>\n",
              "      <th>std</th>\n",
              "      <td>8.615335e-02</td>\n",
              "      <td>2.773558e-01</td>\n",
              "    </tr>\n",
              "    <tr>\n",
              "      <th>min</th>\n",
              "      <td>0.000000e+00</td>\n",
              "      <td>0.000000e+00</td>\n",
              "    </tr>\n",
              "    <tr>\n",
              "      <th>25%</th>\n",
              "      <td>0.000000e+00</td>\n",
              "      <td>0.000000e+00</td>\n",
              "    </tr>\n",
              "    <tr>\n",
              "      <th>50%</th>\n",
              "      <td>0.000000e+00</td>\n",
              "      <td>8.333333e-02</td>\n",
              "    </tr>\n",
              "    <tr>\n",
              "      <th>75%</th>\n",
              "      <td>7.692308e-02</td>\n",
              "      <td>3.000000e-01</td>\n",
              "    </tr>\n",
              "    <tr>\n",
              "      <th>max</th>\n",
              "      <td>1.000000e+00</td>\n",
              "      <td>1.000000e+00</td>\n",
              "    </tr>\n",
              "  </tbody>\n",
              "</table>\n",
              "</div>\n",
              "      <button class=\"colab-df-convert\" onclick=\"convertToInteractive('df-0d09bd56-3401-449e-bbde-0f7b0b1758e7')\"\n",
              "              title=\"Convert this dataframe to an interactive table.\"\n",
              "              style=\"display:none;\">\n",
              "        \n",
              "  <svg xmlns=\"http://www.w3.org/2000/svg\" height=\"24px\"viewBox=\"0 0 24 24\"\n",
              "       width=\"24px\">\n",
              "    <path d=\"M0 0h24v24H0V0z\" fill=\"none\"/>\n",
              "    <path d=\"M18.56 5.44l.94 2.06.94-2.06 2.06-.94-2.06-.94-.94-2.06-.94 2.06-2.06.94zm-11 1L8.5 8.5l.94-2.06 2.06-.94-2.06-.94L8.5 2.5l-.94 2.06-2.06.94zm10 10l.94 2.06.94-2.06 2.06-.94-2.06-.94-.94-2.06-.94 2.06-2.06.94z\"/><path d=\"M17.41 7.96l-1.37-1.37c-.4-.4-.92-.59-1.43-.59-.52 0-1.04.2-1.43.59L10.3 9.45l-7.72 7.72c-.78.78-.78 2.05 0 2.83L4 21.41c.39.39.9.59 1.41.59.51 0 1.02-.2 1.41-.59l7.78-7.78 2.81-2.81c.8-.78.8-2.07 0-2.86zM5.41 20L4 18.59l7.72-7.72 1.47 1.35L5.41 20z\"/>\n",
              "  </svg>\n",
              "      </button>\n",
              "      \n",
              "  <style>\n",
              "    .colab-df-container {\n",
              "      display:flex;\n",
              "      flex-wrap:wrap;\n",
              "      gap: 12px;\n",
              "    }\n",
              "\n",
              "    .colab-df-convert {\n",
              "      background-color: #E8F0FE;\n",
              "      border: none;\n",
              "      border-radius: 50%;\n",
              "      cursor: pointer;\n",
              "      display: none;\n",
              "      fill: #1967D2;\n",
              "      height: 32px;\n",
              "      padding: 0 0 0 0;\n",
              "      width: 32px;\n",
              "    }\n",
              "\n",
              "    .colab-df-convert:hover {\n",
              "      background-color: #E2EBFA;\n",
              "      box-shadow: 0px 1px 2px rgba(60, 64, 67, 0.3), 0px 1px 3px 1px rgba(60, 64, 67, 0.15);\n",
              "      fill: #174EA6;\n",
              "    }\n",
              "\n",
              "    [theme=dark] .colab-df-convert {\n",
              "      background-color: #3B4455;\n",
              "      fill: #D2E3FC;\n",
              "    }\n",
              "\n",
              "    [theme=dark] .colab-df-convert:hover {\n",
              "      background-color: #434B5C;\n",
              "      box-shadow: 0px 1px 3px 1px rgba(0, 0, 0, 0.15);\n",
              "      filter: drop-shadow(0px 1px 2px rgba(0, 0, 0, 0.3));\n",
              "      fill: #FFFFFF;\n",
              "    }\n",
              "  </style>\n",
              "\n",
              "      <script>\n",
              "        const buttonEl =\n",
              "          document.querySelector('#df-0d09bd56-3401-449e-bbde-0f7b0b1758e7 button.colab-df-convert');\n",
              "        buttonEl.style.display =\n",
              "          google.colab.kernel.accessAllowed ? 'block' : 'none';\n",
              "\n",
              "        async function convertToInteractive(key) {\n",
              "          const element = document.querySelector('#df-0d09bd56-3401-449e-bbde-0f7b0b1758e7');\n",
              "          const dataTable =\n",
              "            await google.colab.kernel.invokeFunction('convertToInteractive',\n",
              "                                                     [key], {});\n",
              "          if (!dataTable) return;\n",
              "\n",
              "          const docLinkHtml = 'Like what you see? Visit the ' +\n",
              "            '<a target=\"_blank\" href=https://colab.research.google.com/notebooks/data_table.ipynb>data table notebook</a>'\n",
              "            + ' to learn more about interactive tables.';\n",
              "          element.innerHTML = '';\n",
              "          dataTable['output_type'] = 'display_data';\n",
              "          await google.colab.output.renderOutput(dataTable, element);\n",
              "          const docLink = document.createElement('div');\n",
              "          docLink.innerHTML = docLinkHtml;\n",
              "          element.appendChild(docLink);\n",
              "        }\n",
              "      </script>\n",
              "    </div>\n",
              "  </div>\n",
              "  "
            ]
          },
          "metadata": {},
          "execution_count": 68
        }
      ]
    },
    {
      "cell_type": "markdown",
      "source": [
        "### Measure 4: search for words directly suggesting major vision"
      ],
      "metadata": {
        "id": "gyAc5TodqKok"
      }
    },
    {
      "cell_type": "code",
      "source": [
        "ios_df['description'] = ios_df['description'].apply(lambda x: x.lower())\n",
        "major_wds = ['major revision', 'major update', 'big update', 'big revision', \n",
        "             'biggest update', 'biggest revision', 'huge update', 'huge revision',\n",
        "             'critical update', 'critical revision', 'major improvement']\n",
        "\n",
        "def major_update(text):\n",
        "  n = 0\n",
        "  for word in major_wds:\n",
        "    if word in text:\n",
        "      n +=1\n",
        "  if n > 0:\n",
        "    return 1\n",
        "  else:\n",
        "    return 0\n",
        "\n",
        "ios_df['update_by_direct_mention'] = ios_df['description'].apply(major_update)"
      ],
      "metadata": {
        "id": "3hdv2e6oDsXv"
      },
      "execution_count": 20,
      "outputs": []
    },
    {
      "cell_type": "code",
      "source": [
        "ios_df['update_by_direct_mention'].value_counts()"
      ],
      "metadata": {
        "colab": {
          "base_uri": "https://localhost:8080/"
        },
        "id": "EyevUkYVFlq4",
        "outputId": "4a79164e-7a28-4ad6-df4c-8acf1a44475d"
      },
      "execution_count": 21,
      "outputs": [
        {
          "output_type": "execute_result",
          "data": {
            "text/plain": [
              "0    1145048\n",
              "1       8134\n",
              "Name: update_by_direct_mention, dtype: int64"
            ]
          },
          "metadata": {},
          "execution_count": 21
        }
      ]
    },
    {
      "cell_type": "markdown",
      "source": [
        "## Task 4\n",
        "- (open-ended) determine the keywords for each app based on the version update descriptions. The keywords should pick up information on the functions and characteristics of the app. This may need some ML package to learn the patterns of language and is open-ended. "
      ],
      "metadata": {
        "id": "MuwoV_j1YSvc"
      }
    },
    {
      "cell_type": "code",
      "source": [
        "%%time\n",
        "#first create a new df aggregate data to app level with tokenized&normalized word lists\n",
        "ios_by_app = ios_df.groupby('app_id').agg({'description_nm': 'sum', 'description': 'sum'}).reset_index()"
      ],
      "metadata": {
        "colab": {
          "base_uri": "https://localhost:8080/"
        },
        "id": "nCiGEbsvY31K",
        "outputId": "2694adcb-5f36-4432-d937-e5c03eede875"
      },
      "execution_count": 5,
      "outputs": [
        {
          "output_type": "stream",
          "name": "stdout",
          "text": [
            "CPU times: user 6.63 s, sys: 398 ms, total: 7.03 s\n",
            "Wall time: 6.98 s\n"
          ]
        }
      ]
    },
    {
      "cell_type": "code",
      "source": [
        "ios_by_app.head()"
      ],
      "metadata": {
        "colab": {
          "base_uri": "https://localhost:8080/",
          "height": 206
        },
        "id": "ONxJ7gmRYOQg",
        "outputId": "475f3fea-0181-4722-f7f4-e385163fdc89"
      },
      "execution_count": null,
      "outputs": [
        {
          "output_type": "execute_result",
          "data": {
            "text/plain": [
              "       app_id                                     description_nm  \\\n",
              "0  1000017994  [update, cardiogram, link, open, app, see, dat...   \n",
              "1  1000332606  [add, support, ipad, prominor, bug, fix, major...   \n",
              "2  1000418099  [remove, thr, reviewsbug, fix, bug, fix, minor...   \n",
              "3  1000556973                                         [fix, bug]   \n",
              "4  1000668798  [app, update, apple, display, apple, watch, ap...   \n",
              "\n",
              "                                         description  \n",
              "0  Updates in Cardiogram 2.9.4: Links now open wi...  \n",
              "1  Added Support for iPad ProMinor Bug FixesMajor...  \n",
              "2  Remove the THR reviewsBug fixBug fixes.minor b...  \n",
              "3                                            fix bug  \n",
              "4  This app has been updated by Apple to display ...  "
            ],
            "text/html": [
              "\n",
              "  <div id=\"df-198cbbe2-960b-411b-a898-fc053f59ece0\">\n",
              "    <div class=\"colab-df-container\">\n",
              "      <div>\n",
              "<style scoped>\n",
              "    .dataframe tbody tr th:only-of-type {\n",
              "        vertical-align: middle;\n",
              "    }\n",
              "\n",
              "    .dataframe tbody tr th {\n",
              "        vertical-align: top;\n",
              "    }\n",
              "\n",
              "    .dataframe thead th {\n",
              "        text-align: right;\n",
              "    }\n",
              "</style>\n",
              "<table border=\"1\" class=\"dataframe\">\n",
              "  <thead>\n",
              "    <tr style=\"text-align: right;\">\n",
              "      <th></th>\n",
              "      <th>app_id</th>\n",
              "      <th>description_nm</th>\n",
              "      <th>description</th>\n",
              "    </tr>\n",
              "  </thead>\n",
              "  <tbody>\n",
              "    <tr>\n",
              "      <th>0</th>\n",
              "      <td>1000017994</td>\n",
              "      <td>[update, cardiogram, link, open, app, see, dat...</td>\n",
              "      <td>Updates in Cardiogram 2.9.4: Links now open wi...</td>\n",
              "    </tr>\n",
              "    <tr>\n",
              "      <th>1</th>\n",
              "      <td>1000332606</td>\n",
              "      <td>[add, support, ipad, prominor, bug, fix, major...</td>\n",
              "      <td>Added Support for iPad ProMinor Bug FixesMajor...</td>\n",
              "    </tr>\n",
              "    <tr>\n",
              "      <th>2</th>\n",
              "      <td>1000418099</td>\n",
              "      <td>[remove, thr, reviewsbug, fix, bug, fix, minor...</td>\n",
              "      <td>Remove the THR reviewsBug fixBug fixes.minor b...</td>\n",
              "    </tr>\n",
              "    <tr>\n",
              "      <th>3</th>\n",
              "      <td>1000556973</td>\n",
              "      <td>[fix, bug]</td>\n",
              "      <td>fix bug</td>\n",
              "    </tr>\n",
              "    <tr>\n",
              "      <th>4</th>\n",
              "      <td>1000668798</td>\n",
              "      <td>[app, update, apple, display, apple, watch, ap...</td>\n",
              "      <td>This app has been updated by Apple to display ...</td>\n",
              "    </tr>\n",
              "  </tbody>\n",
              "</table>\n",
              "</div>\n",
              "      <button class=\"colab-df-convert\" onclick=\"convertToInteractive('df-198cbbe2-960b-411b-a898-fc053f59ece0')\"\n",
              "              title=\"Convert this dataframe to an interactive table.\"\n",
              "              style=\"display:none;\">\n",
              "        \n",
              "  <svg xmlns=\"http://www.w3.org/2000/svg\" height=\"24px\"viewBox=\"0 0 24 24\"\n",
              "       width=\"24px\">\n",
              "    <path d=\"M0 0h24v24H0V0z\" fill=\"none\"/>\n",
              "    <path d=\"M18.56 5.44l.94 2.06.94-2.06 2.06-.94-2.06-.94-.94-2.06-.94 2.06-2.06.94zm-11 1L8.5 8.5l.94-2.06 2.06-.94-2.06-.94L8.5 2.5l-.94 2.06-2.06.94zm10 10l.94 2.06.94-2.06 2.06-.94-2.06-.94-.94-2.06-.94 2.06-2.06.94z\"/><path d=\"M17.41 7.96l-1.37-1.37c-.4-.4-.92-.59-1.43-.59-.52 0-1.04.2-1.43.59L10.3 9.45l-7.72 7.72c-.78.78-.78 2.05 0 2.83L4 21.41c.39.39.9.59 1.41.59.51 0 1.02-.2 1.41-.59l7.78-7.78 2.81-2.81c.8-.78.8-2.07 0-2.86zM5.41 20L4 18.59l7.72-7.72 1.47 1.35L5.41 20z\"/>\n",
              "  </svg>\n",
              "      </button>\n",
              "      \n",
              "  <style>\n",
              "    .colab-df-container {\n",
              "      display:flex;\n",
              "      flex-wrap:wrap;\n",
              "      gap: 12px;\n",
              "    }\n",
              "\n",
              "    .colab-df-convert {\n",
              "      background-color: #E8F0FE;\n",
              "      border: none;\n",
              "      border-radius: 50%;\n",
              "      cursor: pointer;\n",
              "      display: none;\n",
              "      fill: #1967D2;\n",
              "      height: 32px;\n",
              "      padding: 0 0 0 0;\n",
              "      width: 32px;\n",
              "    }\n",
              "\n",
              "    .colab-df-convert:hover {\n",
              "      background-color: #E2EBFA;\n",
              "      box-shadow: 0px 1px 2px rgba(60, 64, 67, 0.3), 0px 1px 3px 1px rgba(60, 64, 67, 0.15);\n",
              "      fill: #174EA6;\n",
              "    }\n",
              "\n",
              "    [theme=dark] .colab-df-convert {\n",
              "      background-color: #3B4455;\n",
              "      fill: #D2E3FC;\n",
              "    }\n",
              "\n",
              "    [theme=dark] .colab-df-convert:hover {\n",
              "      background-color: #434B5C;\n",
              "      box-shadow: 0px 1px 3px 1px rgba(0, 0, 0, 0.15);\n",
              "      filter: drop-shadow(0px 1px 2px rgba(0, 0, 0, 0.3));\n",
              "      fill: #FFFFFF;\n",
              "    }\n",
              "  </style>\n",
              "\n",
              "      <script>\n",
              "        const buttonEl =\n",
              "          document.querySelector('#df-198cbbe2-960b-411b-a898-fc053f59ece0 button.colab-df-convert');\n",
              "        buttonEl.style.display =\n",
              "          google.colab.kernel.accessAllowed ? 'block' : 'none';\n",
              "\n",
              "        async function convertToInteractive(key) {\n",
              "          const element = document.querySelector('#df-198cbbe2-960b-411b-a898-fc053f59ece0');\n",
              "          const dataTable =\n",
              "            await google.colab.kernel.invokeFunction('convertToInteractive',\n",
              "                                                     [key], {});\n",
              "          if (!dataTable) return;\n",
              "\n",
              "          const docLinkHtml = 'Like what you see? Visit the ' +\n",
              "            '<a target=\"_blank\" href=https://colab.research.google.com/notebooks/data_table.ipynb>data table notebook</a>'\n",
              "            + ' to learn more about interactive tables.';\n",
              "          element.innerHTML = '';\n",
              "          dataTable['output_type'] = 'display_data';\n",
              "          await google.colab.output.renderOutput(dataTable, element);\n",
              "          const docLink = document.createElement('div');\n",
              "          docLink.innerHTML = docLinkHtml;\n",
              "          element.appendChild(docLink);\n",
              "        }\n",
              "      </script>\n",
              "    </div>\n",
              "  </div>\n",
              "  "
            ]
          },
          "metadata": {},
          "execution_count": 18
        }
      ]
    },
    {
      "cell_type": "markdown",
      "source": [
        "### Measure 1: word frequency"
      ],
      "metadata": {
        "id": "Snt_OzAFYlEG"
      }
    },
    {
      "cell_type": "code",
      "source": [
        "update_wds = set(['fix', 'bug', 'maintenance', 'performance', 'optimize', 'optimise', 'optimization', \n",
        "                  'improve', 'improvement', 'fixed', 'remove', 'update', 'revise', 'add', 'new', \n",
        "                  'app', 'thank', 'issue', 'outage', 'crash', 'ui', 'minor', 'fixe', 'release', \n",
        "                  'fixing', 'bugfix', 'feature', 'version', 'hey', 'enjoy', 'support', 'you',\n",
        "                  'upgrade', 'enhance', 'well', 'compatibility'])\n",
        "ios_by_app['description_nm_1'] = ios_by_app['description_nm'].apply(lambda x: [e for e in x if e not in update_wds])\n",
        "\n",
        "#remove commonly used words that are unrelated to functions and characteristics of the app"
      ],
      "metadata": {
        "id": "2nVwsFgtLTrI"
      },
      "execution_count": 22,
      "outputs": []
    },
    {
      "cell_type": "code",
      "source": [
        "ios_by_app['freq_wds'] = ios_by_app['description_nm_1'].apply(lambda x: \\\n",
        "                                                            list(dict(collections.Counter(x).most_common(20)).keys()))"
      ],
      "metadata": {
        "id": "17ye4Ias_qA2"
      },
      "execution_count": 24,
      "outputs": []
    },
    {
      "cell_type": "code",
      "source": [
        "ios_by_app[['app_id', 'freq_wds']].sample(10) #take a look, the key words seem to pick up some feature-related information but still quite noisy"
      ],
      "metadata": {
        "colab": {
          "base_uri": "https://localhost:8080/",
          "height": 363
        },
        "id": "8sPBZUJ0Kszs",
        "outputId": "46825d35-54a2-47bd-f77b-452ed3554470"
      },
      "execution_count": null,
      "outputs": [
        {
          "output_type": "execute_result",
          "data": {
            "text/plain": [
              "           app_id                                           freq_wds\n",
              "9537   1445535620  [package, time, convenience, address, stage, s...\n",
              "7263   1367428369                                                 []\n",
              "17120  1565600312  [listening, experience, audio, share, ux, subs...\n",
              "17491  1574301066  [content, level, mini, game, translation, dial...\n",
              "14323  1515994805  [game, shop, powerup, level, content, stuff, c...\n",
              "5046   1269478443  [game, level, come, major, close, match3, anna...\n",
              "17778  1580496772  [video, interesting, friend, create, family, a...\n",
              "19144  1613919526                      [gameplay, improvementsminor]\n",
              "2407   1141666875  [wallpaper, live, day, user, time, friendly, s...\n",
              "18244  1590841930                           [little, overall, brand]"
            ],
            "text/html": [
              "\n",
              "  <div id=\"df-b2c9785e-8d9e-4396-abda-f749cb5b914f\">\n",
              "    <div class=\"colab-df-container\">\n",
              "      <div>\n",
              "<style scoped>\n",
              "    .dataframe tbody tr th:only-of-type {\n",
              "        vertical-align: middle;\n",
              "    }\n",
              "\n",
              "    .dataframe tbody tr th {\n",
              "        vertical-align: top;\n",
              "    }\n",
              "\n",
              "    .dataframe thead th {\n",
              "        text-align: right;\n",
              "    }\n",
              "</style>\n",
              "<table border=\"1\" class=\"dataframe\">\n",
              "  <thead>\n",
              "    <tr style=\"text-align: right;\">\n",
              "      <th></th>\n",
              "      <th>app_id</th>\n",
              "      <th>freq_wds</th>\n",
              "    </tr>\n",
              "  </thead>\n",
              "  <tbody>\n",
              "    <tr>\n",
              "      <th>9537</th>\n",
              "      <td>1445535620</td>\n",
              "      <td>[package, time, convenience, address, stage, s...</td>\n",
              "    </tr>\n",
              "    <tr>\n",
              "      <th>7263</th>\n",
              "      <td>1367428369</td>\n",
              "      <td>[]</td>\n",
              "    </tr>\n",
              "    <tr>\n",
              "      <th>17120</th>\n",
              "      <td>1565600312</td>\n",
              "      <td>[listening, experience, audio, share, ux, subs...</td>\n",
              "    </tr>\n",
              "    <tr>\n",
              "      <th>17491</th>\n",
              "      <td>1574301066</td>\n",
              "      <td>[content, level, mini, game, translation, dial...</td>\n",
              "    </tr>\n",
              "    <tr>\n",
              "      <th>14323</th>\n",
              "      <td>1515994805</td>\n",
              "      <td>[game, shop, powerup, level, content, stuff, c...</td>\n",
              "    </tr>\n",
              "    <tr>\n",
              "      <th>5046</th>\n",
              "      <td>1269478443</td>\n",
              "      <td>[game, level, come, major, close, match3, anna...</td>\n",
              "    </tr>\n",
              "    <tr>\n",
              "      <th>17778</th>\n",
              "      <td>1580496772</td>\n",
              "      <td>[video, interesting, friend, create, family, a...</td>\n",
              "    </tr>\n",
              "    <tr>\n",
              "      <th>19144</th>\n",
              "      <td>1613919526</td>\n",
              "      <td>[gameplay, improvementsminor]</td>\n",
              "    </tr>\n",
              "    <tr>\n",
              "      <th>2407</th>\n",
              "      <td>1141666875</td>\n",
              "      <td>[wallpaper, live, day, user, time, friendly, s...</td>\n",
              "    </tr>\n",
              "    <tr>\n",
              "      <th>18244</th>\n",
              "      <td>1590841930</td>\n",
              "      <td>[little, overall, brand]</td>\n",
              "    </tr>\n",
              "  </tbody>\n",
              "</table>\n",
              "</div>\n",
              "      <button class=\"colab-df-convert\" onclick=\"convertToInteractive('df-b2c9785e-8d9e-4396-abda-f749cb5b914f')\"\n",
              "              title=\"Convert this dataframe to an interactive table.\"\n",
              "              style=\"display:none;\">\n",
              "        \n",
              "  <svg xmlns=\"http://www.w3.org/2000/svg\" height=\"24px\"viewBox=\"0 0 24 24\"\n",
              "       width=\"24px\">\n",
              "    <path d=\"M0 0h24v24H0V0z\" fill=\"none\"/>\n",
              "    <path d=\"M18.56 5.44l.94 2.06.94-2.06 2.06-.94-2.06-.94-.94-2.06-.94 2.06-2.06.94zm-11 1L8.5 8.5l.94-2.06 2.06-.94-2.06-.94L8.5 2.5l-.94 2.06-2.06.94zm10 10l.94 2.06.94-2.06 2.06-.94-2.06-.94-.94-2.06-.94 2.06-2.06.94z\"/><path d=\"M17.41 7.96l-1.37-1.37c-.4-.4-.92-.59-1.43-.59-.52 0-1.04.2-1.43.59L10.3 9.45l-7.72 7.72c-.78.78-.78 2.05 0 2.83L4 21.41c.39.39.9.59 1.41.59.51 0 1.02-.2 1.41-.59l7.78-7.78 2.81-2.81c.8-.78.8-2.07 0-2.86zM5.41 20L4 18.59l7.72-7.72 1.47 1.35L5.41 20z\"/>\n",
              "  </svg>\n",
              "      </button>\n",
              "      \n",
              "  <style>\n",
              "    .colab-df-container {\n",
              "      display:flex;\n",
              "      flex-wrap:wrap;\n",
              "      gap: 12px;\n",
              "    }\n",
              "\n",
              "    .colab-df-convert {\n",
              "      background-color: #E8F0FE;\n",
              "      border: none;\n",
              "      border-radius: 50%;\n",
              "      cursor: pointer;\n",
              "      display: none;\n",
              "      fill: #1967D2;\n",
              "      height: 32px;\n",
              "      padding: 0 0 0 0;\n",
              "      width: 32px;\n",
              "    }\n",
              "\n",
              "    .colab-df-convert:hover {\n",
              "      background-color: #E2EBFA;\n",
              "      box-shadow: 0px 1px 2px rgba(60, 64, 67, 0.3), 0px 1px 3px 1px rgba(60, 64, 67, 0.15);\n",
              "      fill: #174EA6;\n",
              "    }\n",
              "\n",
              "    [theme=dark] .colab-df-convert {\n",
              "      background-color: #3B4455;\n",
              "      fill: #D2E3FC;\n",
              "    }\n",
              "\n",
              "    [theme=dark] .colab-df-convert:hover {\n",
              "      background-color: #434B5C;\n",
              "      box-shadow: 0px 1px 3px 1px rgba(0, 0, 0, 0.15);\n",
              "      filter: drop-shadow(0px 1px 2px rgba(0, 0, 0, 0.3));\n",
              "      fill: #FFFFFF;\n",
              "    }\n",
              "  </style>\n",
              "\n",
              "      <script>\n",
              "        const buttonEl =\n",
              "          document.querySelector('#df-b2c9785e-8d9e-4396-abda-f749cb5b914f button.colab-df-convert');\n",
              "        buttonEl.style.display =\n",
              "          google.colab.kernel.accessAllowed ? 'block' : 'none';\n",
              "\n",
              "        async function convertToInteractive(key) {\n",
              "          const element = document.querySelector('#df-b2c9785e-8d9e-4396-abda-f749cb5b914f');\n",
              "          const dataTable =\n",
              "            await google.colab.kernel.invokeFunction('convertToInteractive',\n",
              "                                                     [key], {});\n",
              "          if (!dataTable) return;\n",
              "\n",
              "          const docLinkHtml = 'Like what you see? Visit the ' +\n",
              "            '<a target=\"_blank\" href=https://colab.research.google.com/notebooks/data_table.ipynb>data table notebook</a>'\n",
              "            + ' to learn more about interactive tables.';\n",
              "          element.innerHTML = '';\n",
              "          dataTable['output_type'] = 'display_data';\n",
              "          await google.colab.output.renderOutput(dataTable, element);\n",
              "          const docLink = document.createElement('div');\n",
              "          docLink.innerHTML = docLinkHtml;\n",
              "          element.appendChild(docLink);\n",
              "        }\n",
              "      </script>\n",
              "    </div>\n",
              "  </div>\n",
              "  "
            ]
          },
          "metadata": {},
          "execution_count": 151
        }
      ]
    },
    {
      "cell_type": "code",
      "source": [
        "ios_by_app.to_pickle('keywords.pickle')"
      ],
      "metadata": {
        "id": "5JJzqnvsXtBw"
      },
      "execution_count": null,
      "outputs": []
    },
    {
      "cell_type": "markdown",
      "source": [
        "\n",
        "### Measure 2: ML pretrained models - text comprehension & question answering\n",
        "\n",
        "Reference: https://github.com/openai/openai-cookbook/blob/main/examples/Question_answering_using_embeddings.ipynb"
      ],
      "metadata": {
        "id": "kUO8a-0XUy4I"
      }
    },
    {
      "cell_type": "code",
      "source": [
        "import ast  # for converting embeddings saved as strings back to arrays\n",
        "import openai  # for calling the OpenAI API\n",
        "import pandas as pd  # for storing text and embeddings data\n",
        "import tiktoken  # for counting tokens\n",
        "from scipy import spatial  # for calculating vector similarities for search\n",
        "\n",
        "\n",
        "EMBEDDING_MODEL = \"text-embedding-ada-002\"\n",
        "GPT_MODEL = \"gpt-3.5-turbo\"\n",
        "openai.api_key = input('Enter api key: ') "
      ],
      "metadata": {
        "id": "6NFmfeCS3ZAn"
      },
      "execution_count": 19,
      "outputs": []
    },
    {
      "cell_type": "code",
      "source": [
        "ios_by_app['description_nm_joined'] = ios_by_app['description_nm'].apply(lambda x: ' '.join(x))"
      ],
      "metadata": {
        "id": "pWmdlHNt6B_m"
      },
      "execution_count": 26,
      "outputs": []
    },
    {
      "cell_type": "code",
      "source": [
        "def gpt_query(input_text):\n",
        "  if len(input_text) > 15000:\n",
        "    input_text = input_text[:15000]#trunk the data since gpt3.5 can only handle 4097 tokens\n",
        "\n",
        "  query = f\"\"\"Use the below text to answer the subsequent question. Answer in 50 words. \n",
        "  Do not include bug fix, app improvement, and other maintenance related revisions. If the answer cannot be found, write \"I don't know.\"\n",
        "\n",
        "  Article:\n",
        "  \\\"\\\"\\\"\n",
        "  {input_text}\n",
        "  \\\"\\\"\\\"\n",
        "\n",
        "  Question: What are the core features and characteristics of the app?\"\"\"\n",
        "\n",
        "  response = openai.ChatCompletion.create(\n",
        "      messages=[\n",
        "          {'role': 'system', 'content': 'You answer questions about features and functions of the app.'},\n",
        "          {'role': 'user', 'content': query},\n",
        "      ],\n",
        "      model=GPT_MODEL,\n",
        "      temperature=0,\n",
        "  )\n",
        "  output = response['choices'][0]['message']['content']\n",
        "\n",
        "  return output"
      ],
      "metadata": {
        "id": "KYxqn0ikAvxs"
      },
      "execution_count": 57,
      "outputs": []
    },
    {
      "cell_type": "code",
      "source": [
        "%%time\n",
        "#try some examples\n",
        "text = list(ios_by_app['description_nm_joined'])[0]\n",
        "gpt_query(text)\n",
        "#it works pretty well!"
      ],
      "metadata": {
        "colab": {
          "base_uri": "https://localhost:8080/",
          "height": 143
        },
        "id": "-0dCbnJeBIwx",
        "outputId": "a22b16d5-dd3f-4ac0-8bee-118d96f0d134"
      },
      "execution_count": 59,
      "outputs": [
        {
          "output_type": "stream",
          "name": "stdout",
          "text": [
            "CPU times: user 28.3 ms, sys: 1.76 ms, total: 30.1 ms\n",
            "Wall time: 2.53 s\n"
          ]
        },
        {
          "output_type": "execute_result",
          "data": {
            "text/plain": [
              "'Cardiogram is a health and fitness app that tracks heart rate, workouts, and rest heart rate. It offers a redesign chart, pace overlay, and histogram. The app has a new feature that allows users to compare their average with runners, bikers, and couch potatoes. It also has a habit tab that helps users track their daily progress and improve their health. The app is compatible with iPhone and Apple Watch and has a native watchOS app with a heart rate graph. It also has a sleep quality metric and a revamped profile page. The app allows users to share their heart rate data with friends and family.'"
            ],
            "application/vnd.google.colaboratory.intrinsic+json": {
              "type": "string"
            }
          },
          "metadata": {},
          "execution_count": 59
        }
      ]
    },
    {
      "cell_type": "code",
      "source": [
        "#The free account at OpenAI has a rate limit of 3 per min, \n",
        "#I guess I can first filter out the revisions that only talk about bugs and maintenance, \n",
        "#and then feed it into the model. \n",
        "\n",
        "#Or explore other pre-trained models in Huggingface"
      ],
      "metadata": {
        "id": "oguXUh3SBnX1"
      },
      "execution_count": 61,
      "outputs": []
    },
    {
      "cell_type": "markdown",
      "source": [
        "### Measure 3: Tf-Idf\n",
        "TBD\n",
        "\n",
        "Reference: https://www.freecodecamp.org/news/how-to-extract-keywords-from-text-with-tf-idf-and-pythons-scikit-learn-b2a0f3d7e667/\n",
        "https://github.com/YileC928/comp-content-analysis-hw/blob/main/week-3/3-Topic-Modeling-and-Clustering.ipynb"
      ],
      "metadata": {
        "id": "uLLAaSamBoom"
      }
    },
    {
      "cell_type": "code",
      "source": [
        "from sklearn.feature_extraction.text import CountVectorizer\n",
        "from sklearn.feature_extraction.text import TfidfTransformer"
      ],
      "metadata": {
        "id": "zhQ7wtyeBqWA"
      },
      "execution_count": null,
      "outputs": []
    },
    {
      "cell_type": "code",
      "source": [
        "import itertools\n",
        "docs = list(itertools.chain.from_iterable(docs))"
      ],
      "metadata": {
        "id": "NMIyeNdxTDdd"
      },
      "execution_count": null,
      "outputs": []
    },
    {
      "cell_type": "code",
      "source": [
        "def sort_coo(coo_matrix):\n",
        "  tules = zip(coo_matrix.col, coo_matrix.data)\n",
        "  return sorted(tules, key = lambda x: (x[1], x[0]), reverse = True)"
      ],
      "metadata": {
        "id": "zJubLaEzVGFM"
      },
      "execution_count": null,
      "outputs": []
    },
    {
      "cell_type": "code",
      "source": [
        "def extract_topn_from_vector(feature_names, sorted_items, topn = 20):\n",
        "    if len(sorted_items) > topn:\n",
        "        sorted_items = sorted_items[:topn]\n",
        "        score_vals = []\n",
        "        feature_vals = []\n",
        "        for idx, score in sorted_items:\n",
        "            score_vals.append(round(score, 3))\n",
        "            feature_vals.append(feature_names[idx])\n",
        "        results = {}\n",
        "        for idx in range(len(feature_vals)):\n",
        "            results[feature_vals[idx]] = score_vals[idx]\n",
        "    return results"
      ],
      "metadata": {
        "id": "rn4eA8ggVzZz"
      },
      "execution_count": null,
      "outputs": []
    },
    {
      "cell_type": "code",
      "source": [],
      "metadata": {
        "id": "jDoTlfuJVKZ1"
      },
      "execution_count": null,
      "outputs": []
    },
    {
      "cell_type": "markdown",
      "source": [
        "### Measure 4: Textrank\n",
        "\n",
        "TBD\n",
        "\n",
        "Reference: https://summanlp.github.io/textrank/"
      ],
      "metadata": {
        "id": "dbnHVN86I3z2"
      }
    },
    {
      "cell_type": "code",
      "source": [
        "#!pip install summa\n",
        "from summa import keywords"
      ],
      "metadata": {
        "id": "wVp4jOiGJKXx"
      },
      "execution_count": null,
      "outputs": []
    },
    {
      "cell_type": "code",
      "source": [
        "ios_by_app['description_nm_joined'] = ios_by_app['description_nm_1'].apply(lambda x: ' '.join(x))"
      ],
      "metadata": {
        "id": "x8nEh2stIuVj"
      },
      "execution_count": 25,
      "outputs": []
    },
    {
      "cell_type": "code",
      "source": [
        "%%time\n",
        "ios_by_app['description_nm_joined'][:100].apply(lambda x: keywords.keywords(x).split(\"\\n\")) #try on a sample"
      ],
      "metadata": {
        "colab": {
          "base_uri": "https://localhost:8080/"
        },
        "id": "Ih6Nkuu3Ju84",
        "outputId": "d0513f7e-0f0b-4526-a8a7-fdd2bf132ae0"
      },
      "execution_count": null,
      "outputs": [
        {
          "output_type": "stream",
          "name": "stdout",
          "text": [
            "CPU times: user 47.6 s, sys: 50 s, total: 1min 37s\n",
            "Wall time: 36.6 s\n"
          ]
        },
        {
          "output_type": "execute_result",
          "data": {
            "text/plain": [
              "0     [cardiogram, cardiograms, datum, habits, synci...\n",
              "1     [tool, io, skin, photo, brand tutorial undo, e...\n",
              "2                                                 [sdk]\n",
              "3                                                    []\n",
              "4     [game, bananas, banana, purchase, purchases, p...\n",
              "                            ...                        \n",
              "95    [list, listing, section, messaging, message, r...\n",
              "96    [student, accessibility, course, activities, a...\n",
              "97    [deluxe icon, private browser, io download, op...\n",
              "98    [ordering, online order easy edit, experience,...\n",
              "99    [popup, match screen striker tab, sponsor, pla...\n",
              "Name: description_nm_joined, Length: 100, dtype: object"
            ]
          },
          "metadata": {},
          "execution_count": 154
        }
      ]
    },
    {
      "cell_type": "code",
      "source": [
        "%%time\n",
        "ios_by_app['textrank_wds'] = ios_by_app['description_nm_joined'].apply(lambda x: keywords.keywords(x).split(\"\\n\"))\n",
        "#haven't run, may take 3h"
      ],
      "metadata": {
        "id": "gs1JOJ3LJ59u"
      },
      "execution_count": null,
      "outputs": []
    }
  ],
  "metadata": {
    "colab": {
      "machine_shape": "hm",
      "provenance": [],
      "collapsed_sections": [
        "aSKVYjsiq-i9",
        "9UBWEJDOrLjf",
        "UxugXyzrzVPO",
        "N2IpiY5TXEBn",
        "uLLAaSamBoom"
      ]
    },
    "gpuClass": "standard",
    "kernelspec": {
      "display_name": "Python 3",
      "name": "python3"
    },
    "language_info": {
      "name": "python"
    }
  },
  "nbformat": 4,
  "nbformat_minor": 0
}